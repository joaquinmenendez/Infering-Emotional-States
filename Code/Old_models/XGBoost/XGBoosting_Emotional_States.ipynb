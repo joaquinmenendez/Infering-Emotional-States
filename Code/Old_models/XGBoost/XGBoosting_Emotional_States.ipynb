{
  "nbformat": 4,
  "nbformat_minor": 0,
  "metadata": {
    "colab": {
      "name": "XGBoosting-Emotional-States.ipynb",
      "provenance": [],
      "collapsed_sections": []
    },
    "kernelspec": {
      "name": "python3",
      "display_name": "Python 3"
    }
  },
  "cells": [
    {
      "cell_type": "markdown",
      "metadata": {
        "id": "VoUUJvYQ9xom",
        "colab_type": "text"
      },
      "source": [
        "# Emotional Status -  Modeling\n",
        "Author: Sicong Zhao"
      ]
    },
    {
      "cell_type": "code",
      "metadata": {
        "id": "qQxsF4uCHvQy",
        "colab_type": "code",
        "colab": {}
      },
      "source": [
        "import xgboost as xgb\n",
        "from sklearn.model_selection import train_test_split\n",
        "import pandas as pd"
      ],
      "execution_count": 0,
      "outputs": []
    },
    {
      "cell_type": "markdown",
      "metadata": {
        "id": "N95MsAE4Kz5F",
        "colab_type": "text"
      },
      "source": [
        "## 1.Load Data"
      ]
    },
    {
      "cell_type": "code",
      "metadata": {
        "id": "1PBUbScrKxa7",
        "colab_type": "code",
        "colab": {}
      },
      "source": [
        "# Load data\n",
        "roo = pd.read_csv('exp_roo_steps_sleep.csv', index_col='Unnamed: 0')"
      ],
      "execution_count": 0,
      "outputs": []
    },
    {
      "cell_type": "code",
      "metadata": {
        "id": "QS86162DNNWl",
        "colab_type": "code",
        "outputId": "be95cc61-19f0-413b-d67b-0942af0e1859",
        "colab": {
          "base_uri": "https://localhost:8080/",
          "height": 428
        }
      },
      "source": [
        "roo.tail()"
      ],
      "execution_count": 79,
      "outputs": [
        {
          "output_type": "execute_result",
          "data": {
            "text/html": [
              "<div>\n",
              "<style scoped>\n",
              "    .dataframe tbody tr th:only-of-type {\n",
              "        vertical-align: middle;\n",
              "    }\n",
              "\n",
              "    .dataframe tbody tr th {\n",
              "        vertical-align: top;\n",
              "    }\n",
              "\n",
              "    .dataframe thead th {\n",
              "        text-align: right;\n",
              "    }\n",
              "</style>\n",
              "<table border=\"1\" class=\"dataframe\">\n",
              "  <thead>\n",
              "    <tr style=\"text-align: right;\">\n",
              "      <th></th>\n",
              "      <th>Date</th>\n",
              "      <th>Minutes Asleep</th>\n",
              "      <th>Minutes Awake</th>\n",
              "      <th>Number of Awakenings</th>\n",
              "      <th>Time in Bed</th>\n",
              "      <th>DATE</th>\n",
              "      <th>ID</th>\n",
              "      <th>Experiment</th>\n",
              "      <th>mean</th>\n",
              "      <th>var</th>\n",
              "      <th>median</th>\n",
              "      <th>move_rate</th>\n",
              "      <th>active_rate</th>\n",
              "      <th>very_active_rate</th>\n",
              "      <th>running_rate</th>\n",
              "      <th>subject</th>\n",
              "      <th>la_p</th>\n",
              "      <th>ha_p</th>\n",
              "      <th>ha_n</th>\n",
              "      <th>la_n</th>\n",
              "      <th>la</th>\n",
              "      <th>p</th>\n",
              "      <th>n</th>\n",
              "      <th>ha</th>\n",
              "      <th>start_survey</th>\n",
              "      <th>survey_no</th>\n",
              "      <th>start_survey_30m_ahead</th>\n",
              "      <th>start_survey_3h_ahead</th>\n",
              "      <th>survey_date</th>\n",
              "      <th>intercept</th>\n",
              "    </tr>\n",
              "  </thead>\n",
              "  <tbody>\n",
              "    <tr>\n",
              "      <th>1118</th>\n",
              "      <td>2015-07-07 00:00:00</td>\n",
              "      <td>440</td>\n",
              "      <td>20</td>\n",
              "      <td>9</td>\n",
              "      <td>474</td>\n",
              "      <td>707</td>\n",
              "      <td>1004</td>\n",
              "      <td>R00</td>\n",
              "      <td>20.872928</td>\n",
              "      <td>574.400430</td>\n",
              "      <td>12.0</td>\n",
              "      <td>0.646409</td>\n",
              "      <td>0.530387</td>\n",
              "      <td>0.386740</td>\n",
              "      <td>0.281768</td>\n",
              "      <td>1004</td>\n",
              "      <td>2</td>\n",
              "      <td>0</td>\n",
              "      <td>0</td>\n",
              "      <td>0</td>\n",
              "      <td>1</td>\n",
              "      <td>1</td>\n",
              "      <td>1</td>\n",
              "      <td>0</td>\n",
              "      <td>2015-07-07 12:41:00</td>\n",
              "      <td>15</td>\n",
              "      <td>2015-07-07 12:11:00</td>\n",
              "      <td>2015-07-07 09:41:00</td>\n",
              "      <td>2015-07-07 00:00:00</td>\n",
              "      <td>1</td>\n",
              "    </tr>\n",
              "    <tr>\n",
              "      <th>1119</th>\n",
              "      <td>2015-07-08 00:00:00</td>\n",
              "      <td>74</td>\n",
              "      <td>7</td>\n",
              "      <td>4</td>\n",
              "      <td>86</td>\n",
              "      <td>708</td>\n",
              "      <td>1004</td>\n",
              "      <td>R00</td>\n",
              "      <td>7.616667</td>\n",
              "      <td>450.774022</td>\n",
              "      <td>0.0</td>\n",
              "      <td>0.211111</td>\n",
              "      <td>0.172222</td>\n",
              "      <td>0.122222</td>\n",
              "      <td>0.083333</td>\n",
              "      <td>1004</td>\n",
              "      <td>1</td>\n",
              "      <td>2</td>\n",
              "      <td>1</td>\n",
              "      <td>3</td>\n",
              "      <td>1</td>\n",
              "      <td>1</td>\n",
              "      <td>0</td>\n",
              "      <td>1</td>\n",
              "      <td>2015-07-08 09:02:37</td>\n",
              "      <td>16</td>\n",
              "      <td>2015-07-08 08:32:37</td>\n",
              "      <td>2015-07-08 06:02:37</td>\n",
              "      <td>2015-07-08 00:00:00</td>\n",
              "      <td>1</td>\n",
              "    </tr>\n",
              "    <tr>\n",
              "      <th>1120</th>\n",
              "      <td>2015-07-09 00:00:00</td>\n",
              "      <td>184</td>\n",
              "      <td>5</td>\n",
              "      <td>5</td>\n",
              "      <td>194</td>\n",
              "      <td>709</td>\n",
              "      <td>1004</td>\n",
              "      <td>R00</td>\n",
              "      <td>0.000000</td>\n",
              "      <td>0.000000</td>\n",
              "      <td>0.0</td>\n",
              "      <td>0.000000</td>\n",
              "      <td>0.000000</td>\n",
              "      <td>0.000000</td>\n",
              "      <td>0.000000</td>\n",
              "      <td>1004</td>\n",
              "      <td>1</td>\n",
              "      <td>0</td>\n",
              "      <td>1</td>\n",
              "      <td>2</td>\n",
              "      <td>1</td>\n",
              "      <td>0</td>\n",
              "      <td>1</td>\n",
              "      <td>0</td>\n",
              "      <td>2015-07-09 03:41:08</td>\n",
              "      <td>17</td>\n",
              "      <td>2015-07-09 03:11:08</td>\n",
              "      <td>2015-07-09 00:41:08</td>\n",
              "      <td>2015-07-09 00:00:00</td>\n",
              "      <td>1</td>\n",
              "    </tr>\n",
              "    <tr>\n",
              "      <th>1121</th>\n",
              "      <td>2015-07-09 00:00:00</td>\n",
              "      <td>184</td>\n",
              "      <td>5</td>\n",
              "      <td>5</td>\n",
              "      <td>194</td>\n",
              "      <td>709</td>\n",
              "      <td>1004</td>\n",
              "      <td>R00</td>\n",
              "      <td>0.511111</td>\n",
              "      <td>8.262446</td>\n",
              "      <td>0.0</td>\n",
              "      <td>0.050000</td>\n",
              "      <td>0.011111</td>\n",
              "      <td>0.005556</td>\n",
              "      <td>0.005556</td>\n",
              "      <td>1004</td>\n",
              "      <td>0</td>\n",
              "      <td>1</td>\n",
              "      <td>0</td>\n",
              "      <td>2</td>\n",
              "      <td>0</td>\n",
              "      <td>1</td>\n",
              "      <td>1</td>\n",
              "      <td>0</td>\n",
              "      <td>2015-07-09 09:16:06</td>\n",
              "      <td>18</td>\n",
              "      <td>2015-07-09 08:46:06</td>\n",
              "      <td>2015-07-09 06:16:06</td>\n",
              "      <td>2015-07-09 00:00:00</td>\n",
              "      <td>1</td>\n",
              "    </tr>\n",
              "    <tr>\n",
              "      <th>1122</th>\n",
              "      <td>2015-07-09 00:00:00</td>\n",
              "      <td>184</td>\n",
              "      <td>5</td>\n",
              "      <td>5</td>\n",
              "      <td>194</td>\n",
              "      <td>709</td>\n",
              "      <td>1004</td>\n",
              "      <td>R00</td>\n",
              "      <td>31.055556</td>\n",
              "      <td>2847.873991</td>\n",
              "      <td>0.0</td>\n",
              "      <td>0.372222</td>\n",
              "      <td>0.344444</td>\n",
              "      <td>0.311111</td>\n",
              "      <td>0.283333</td>\n",
              "      <td>1004</td>\n",
              "      <td>0</td>\n",
              "      <td>0</td>\n",
              "      <td>0</td>\n",
              "      <td>1</td>\n",
              "      <td>1</td>\n",
              "      <td>0</td>\n",
              "      <td>3</td>\n",
              "      <td>0</td>\n",
              "      <td>2015-07-09 14:47:53</td>\n",
              "      <td>19</td>\n",
              "      <td>2015-07-09 14:17:53</td>\n",
              "      <td>2015-07-09 11:47:53</td>\n",
              "      <td>2015-07-09 00:00:00</td>\n",
              "      <td>1</td>\n",
              "    </tr>\n",
              "  </tbody>\n",
              "</table>\n",
              "</div>"
            ],
            "text/plain": [
              "                     Date  Minutes Asleep  ...          survey_date  intercept\n",
              "1118  2015-07-07 00:00:00             440  ...  2015-07-07 00:00:00          1\n",
              "1119  2015-07-08 00:00:00              74  ...  2015-07-08 00:00:00          1\n",
              "1120  2015-07-09 00:00:00             184  ...  2015-07-09 00:00:00          1\n",
              "1121  2015-07-09 00:00:00             184  ...  2015-07-09 00:00:00          1\n",
              "1122  2015-07-09 00:00:00             184  ...  2015-07-09 00:00:00          1\n",
              "\n",
              "[5 rows x 30 columns]"
            ]
          },
          "metadata": {
            "tags": []
          },
          "execution_count": 79
        }
      ]
    },
    {
      "cell_type": "code",
      "metadata": {
        "id": "4E0I8gDum8KA",
        "colab_type": "code",
        "colab": {
          "base_uri": "https://localhost:8080/",
          "height": 282
        },
        "outputId": "3a51da8f-bbe2-4849-c8be-ca00a232254c"
      },
      "source": [
        "# Observe the distribution of 'p', the outcome of the first model\n",
        "roo['p'].hist()"
      ],
      "execution_count": 118,
      "outputs": [
        {
          "output_type": "execute_result",
          "data": {
            "text/plain": [
              "<matplotlib.axes._subplots.AxesSubplot at 0x7fb55a73d128>"
            ]
          },
          "metadata": {
            "tags": []
          },
          "execution_count": 118
        },
        {
          "output_type": "display_data",
          "data": {
            "image/png": "[encoded data removed]",
            "text/plain": [
              "<Figure size 432x288 with 1 Axes>"
            ]
          },
          "metadata": {
            "tags": []
          }
        }
      ]
    },
    {
      "cell_type": "markdown",
      "metadata": {
        "id": "px4gPIH584EJ",
        "colab_type": "text"
      },
      "source": [
        "## 2.Data Pre-processing"
      ]
    },
    {
      "cell_type": "code",
      "metadata": {
        "id": "_iF-pBWDNNkc",
        "colab_type": "code",
        "colab": {}
      },
      "source": [
        "# Extract features and the label\n",
        "X = roo[['Minutes Asleep','Minutes Awake', 'Number of Awakenings', \n",
        "               'Time in Bed', 'mean', 'var','move_rate', 'active_rate', \n",
        "               'very_active_rate', 'running_rate']].values\n",
        "y = roo['p'].values"
      ],
      "execution_count": 0,
      "outputs": []
    },
    {
      "cell_type": "code",
      "metadata": {
        "id": "WzXEuOt9NNvJ",
        "colab_type": "code",
        "colab": {}
      },
      "source": [
        "# Split training set and test set\n",
        "X_train, X_test, Y_train, Y_test = train_test_split(X, y, test_size=0.2)"
      ],
      "execution_count": 0,
      "outputs": []
    },
    {
      "cell_type": "code",
      "metadata": {
        "id": "Z0_y_sFUNN1y",
        "colab_type": "code",
        "colab": {}
      },
      "source": [
        "# transform it into a specific format that XGBoost can handle. \n",
        "D_train = xgb.DMatrix(X_train, label=Y_train)\n",
        "D_test = xgb.DMatrix(X_test, label=Y_test)"
      ],
      "execution_count": 0,
      "outputs": []
    },
    {
      "cell_type": "markdown",
      "metadata": {
        "id": "8h7Slrmp9M9m",
        "colab_type": "text"
      },
      "source": [
        "## 3.Modeling"
      ]
    },
    {
      "cell_type": "code",
      "metadata": {
        "id": "q86wH8PXNN9O",
        "colab_type": "code",
        "colab": {}
      },
      "source": [
        "# 4 Sets of Model Params\n",
        "param = {\n",
        "    'eta': 0.3, \n",
        "    'max_depth': 3,  \n",
        "    'objective': 'multi:softprob',  \n",
        "    'num_class': 5,\n",
        "    'gamma': 0.4} \n",
        "\n",
        "param_2 = {\n",
        "    'eta': 0.01, \n",
        "    'max_depth': 10,  \n",
        "    'objective': 'multi:softprob',  \n",
        "    'num_class': 5,\n",
        "    'gamma': 0.4} \n",
        "\n",
        "param_3 = {\n",
        "    'eta': 0.01, \n",
        "    'max_depth': 6,  \n",
        "    'objective': 'multi:softprob',  \n",
        "    'num_class': 5,\n",
        "    'gamma': 0.4} \n",
        "\n",
        "param_4 = {\n",
        "    'eta': 0.3, \n",
        "    'max_depth': 3,  \n",
        "    'objective': 'multi:softprob',  \n",
        "    'num_class': 5} \n",
        "\n",
        "steps = 1000  # The number of training iterations"
      ],
      "execution_count": 0,
      "outputs": []
    },
    {
      "cell_type": "code",
      "metadata": {
        "id": "w0AmJw3xOavv",
        "colab_type": "code",
        "colab": {}
      },
      "source": [
        "# Modeling\n",
        "model_roo_1 = xgb.train(param, D_train, steps)\n",
        "model_roo_2 = xgb.train(param_2, D_train, steps)\n",
        "model_roo_3 = xgb.train(param_3, D_train, steps)\n",
        "model_roo_4 = xgb.train(param_4, D_train, steps)"
      ],
      "execution_count": 0,
      "outputs": []
    },
    {
      "cell_type": "markdown",
      "metadata": {
        "id": "C9PtBbQL9bHa",
        "colab_type": "text"
      },
      "source": [
        "## 4.Evaluation"
      ]
    },
    {
      "cell_type": "code",
      "metadata": {
        "id": "AFM2NaLuOdN3",
        "colab_type": "code",
        "outputId": "1161fbed-db78-4482-e0fa-3a7b428dc6cc",
        "colab": {
          "base_uri": "https://localhost:8080/",
          "height": 289
        }
      },
      "source": [
        "# Evaluate the performance\n",
        "import numpy as np\n",
        "from sklearn.metrics import precision_score, recall_score, accuracy_score\n",
        "\n",
        "model_list = [model_roo_1,model_roo_2,model_roo_3,model_roo_4]\n",
        "for i in range(4):\n",
        "  print(i, 'th model')\n",
        "  preds = model_list[i].predict(D_test)\n",
        "  best_preds = np.asarray([np.argmax(line) for line in preds])\n",
        "\n",
        "  print(\"Precision = {}\".format(precision_score(Y_test, best_preds, average='macro')))\n",
        "  print(\"Recall = {}\".format(recall_score(Y_test, best_preds, average='macro')))\n",
        "  print(\"Accuracy = {}\".format(accuracy_score(Y_test, best_preds)))"
      ],
      "execution_count": 108,
      "outputs": [
        {
          "output_type": "stream",
          "text": [
            "0 th model\n",
            "Precision = 0.4731309216192937\n",
            "Recall = 0.3822747292814466\n",
            "Accuracy = 0.5022222222222222\n",
            "1 th model\n",
            "Precision = 0.46210693295885996\n",
            "Recall = 0.40194525904203326\n",
            "Accuracy = 0.5111111111111111\n",
            "2 th model\n",
            "Precision = 0.47985707199616323\n",
            "Recall = 0.3997492008741732\n",
            "Accuracy = 0.52\n",
            "3 th model\n",
            "Precision = 0.5179740344914963\n",
            "Recall = 0.4694327716524513\n",
            "Accuracy = 0.5822222222222222\n"
          ],
          "name": "stdout"
        }
      ]
    },
    {
      "cell_type": "markdown",
      "metadata": {
        "id": "gSR5lgHy9ZGn",
        "colab_type": "text"
      },
      "source": [
        "## 5. Search for Best Params"
      ]
    },
    {
      "cell_type": "code",
      "metadata": {
        "id": "OQNfySGnPCZt",
        "colab_type": "code",
        "colab": {
          "base_uri": "https://localhost:8080/",
          "height": 340
        },
        "outputId": "85c68f6e-12ac-463c-d3a0-f6bb53aea415"
      },
      "source": [
        "# Fine tune\n",
        "from sklearn.model_selection import GridSearchCV\n",
        "\n",
        "clf = xgb.XGBClassifier()\n",
        "parameters = {\n",
        "     \"eta\"    : [0.01, 0.03, 0.05 ] ,\n",
        "     \"max_depth\"        : [ 15, 17, 20, 24],\n",
        "     \"min_child_weight\" : [ 1 ],\n",
        "     \"gamma\"            : [ 0.4, 0.5, 0.6, 0.7, 0.8 ],\n",
        "     \"colsample_bytree\" : [ 0.1, 0.2, 0.3 ]\n",
        "     }\n",
        "\n",
        "grid = GridSearchCV(clf,\n",
        "                    parameters, n_jobs=4,\n",
        "                    scoring=\"neg_log_loss\",\n",
        "                    cv=3)\n",
        "\n",
        "grid.fit(X_train, Y_train)"
      ],
      "execution_count": 73,
      "outputs": [
        {
          "output_type": "execute_result",
          "data": {
            "text/plain": [
              "GridSearchCV(cv=3, error_score=nan,\n",
              "             estimator=XGBClassifier(base_score=0.5, booster='gbtree',\n",
              "                                     colsample_bylevel=1, colsample_bynode=1,\n",
              "                                     colsample_bytree=1, gamma=0,\n",
              "                                     learning_rate=0.1, max_delta_step=0,\n",
              "                                     max_depth=3, min_child_weight=1,\n",
              "                                     missing=None, n_estimators=100, n_jobs=1,\n",
              "                                     nthread=None, objective='binary:logistic',\n",
              "                                     random_state=0, reg_alpha=0, reg_lambda=1,\n",
              "                                     scale_pos_weight=1, seed=None, silent=None,\n",
              "                                     subsample=1, verbosity=1),\n",
              "             iid='deprecated', n_jobs=4,\n",
              "             param_grid={'colsample_bytree': [0.1, 0.2, 0.3],\n",
              "                         'eta': [0.01, 0.03, 0.05],\n",
              "                         'gamma': [0.4, 0.5, 0.6, 0.7, 0.8],\n",
              "                         'max_depth': [15, 17, 20, 24],\n",
              "                         'min_child_weight': [1]},\n",
              "             pre_dispatch='2*n_jobs', refit=True, return_train_score=False,\n",
              "             scoring='neg_log_loss', verbose=0)"
            ]
          },
          "metadata": {
            "tags": []
          },
          "execution_count": 73
        }
      ]
    },
    {
      "cell_type": "code",
      "metadata": {
        "id": "AxpW6Dr9PFMb",
        "colab_type": "code",
        "outputId": "21dc36f1-eceb-4802-9e80-bcd674f23dbe",
        "colab": {
          "base_uri": "https://localhost:8080/",
          "height": 102
        }
      },
      "source": [
        "grid.best_params_\n",
        "# model.dump_model('dump.raw.txt')"
      ],
      "execution_count": 74,
      "outputs": [
        {
          "output_type": "execute_result",
          "data": {
            "text/plain": [
              "{'colsample_bytree': 0.1,\n",
              " 'eta': 0.01,\n",
              " 'gamma': 0.4,\n",
              " 'max_depth': 24,\n",
              " 'min_child_weight': 1}"
            ]
          },
          "metadata": {
            "tags": []
          },
          "execution_count": 74
        }
      ]
    },
    {
      "cell_type": "markdown",
      "metadata": {
        "id": "FkwnA7QI9oZc",
        "colab_type": "text"
      },
      "source": [
        "## 6. Predict with the best model (overfitting detected)"
      ]
    },
    {
      "cell_type": "code",
      "metadata": {
        "id": "rP9KkbG8fRyl",
        "colab_type": "code",
        "colab": {
          "base_uri": "https://localhost:8080/",
          "height": 122
        },
        "outputId": "90e247d5-c41f-483e-dd75-2c6653cc01f6"
      },
      "source": [
        "preds = grid.predict(X_test)\n",
        "best_preds = np.asarray([np.argmax(line) for line in preds])\n",
        "\n",
        "print(\"Precision = {}\".format(precision_score(Y_test, best_preds, average='macro')))\n",
        "print(\"Recall = {}\".format(recall_score(Y_test, best_preds, average='macro')))\n",
        "print(\"Accuracy = {}\".format(accuracy_score(Y_test, best_preds)))"
      ],
      "execution_count": 71,
      "outputs": [
        {
          "output_type": "stream",
          "text": [
            "Precision = 0.008888888888888889\n",
            "Recall = 0.2\n",
            "Accuracy = 0.044444444444444446\n"
          ],
          "name": "stdout"
        },
        {
          "output_type": "stream",
          "text": [
            "/usr/local/lib/python3.6/dist-packages/sklearn/metrics/_classification.py:1272: UndefinedMetricWarning: Precision is ill-defined and being set to 0.0 in labels with no predicted samples. Use `zero_division` parameter to control this behavior.\n",
            "  _warn_prf(average, modifier, msg_start, len(result))\n"
          ],
          "name": "stderr"
        }
      ]
    },
    {
      "cell_type": "code",
      "metadata": {
        "id": "8troe5u4gpRI",
        "colab_type": "code",
        "colab": {
          "base_uri": "https://localhost:8080/",
          "height": 34
        },
        "outputId": "fbec8947-e2ea-4a52-8970-ec9a9021f8df"
      },
      "source": [
        "grid.best_score_"
      ],
      "execution_count": 72,
      "outputs": [
        {
          "output_type": "execute_result",
          "data": {
            "text/plain": [
              "-1.3272685173694605"
            ]
          },
          "metadata": {
            "tags": []
          },
          "execution_count": 72
        }
      ]
    },
    {
      "cell_type": "code",
      "metadata": {
        "id": "BG3dmG1khJUD",
        "colab_type": "code",
        "colab": {}
      },
      "source": [
        "grid.best_score_"
      ],
      "execution_count": 0,
      "outputs": []
    },
    {
      "cell_type": "code",
      "metadata": {
        "id": "_A5sGbV5nD0F",
        "colab_type": "code",
        "colab": {
          "base_uri": "https://localhost:8080/",
          "height": 102
        },
        "outputId": "3e36affb-0d81-4158-e439-7a137353e059"
      },
      "source": [
        "for i in range(5):\n",
        "  res = sum(best_preds == i)/len(best_preds)\n",
        "  print(i, res)"
      ],
      "execution_count": 126,
      "outputs": [
        {
          "output_type": "stream",
          "text": [
            "0 0.02666666666666667\n",
            "1 0.1688888888888889\n",
            "2 0.47555555555555556\n",
            "3 0.24444444444444444\n",
            "4 0.08444444444444445\n"
          ],
          "name": "stdout"
        }
      ]
    },
    {
      "cell_type": "code",
      "metadata": {
        "id": "Pxl2u6rKnu6R",
        "colab_type": "code",
        "colab": {
          "base_uri": "https://localhost:8080/",
          "height": 102
        },
        "outputId": "4c0fc07d-39de-4d1c-bc60-15c30c95c700"
      },
      "source": [
        "for i in range(5):\n",
        "  res = sum(Y_test == i)/len(Y_test)\n",
        "  print(i, res)"
      ],
      "execution_count": 128,
      "outputs": [
        {
          "output_type": "stream",
          "text": [
            "0 0.044444444444444446\n",
            "1 0.2088888888888889\n",
            "2 0.37333333333333335\n",
            "3 0.24444444444444444\n",
            "4 0.1288888888888889\n"
          ],
          "name": "stdout"
        }
      ]
    }
  ]
}
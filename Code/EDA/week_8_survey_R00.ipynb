{
 "cells": [
  {
   "cell_type": "code",
   "execution_count": 1,
   "metadata": {},
   "outputs": [],
   "source": [
    "import pandas as pd\n",
    "import numpy as np\n",
    "import matplotlib.pyplot as plt\n",
    "import seaborn as sbn\n",
    "import os\n",
    "from matplotlib.cbook import boxplot_stats\n",
    "import pickle\n",
    "sbn.set_context(font_scale=1.5)"
   ]
  },
  {
   "cell_type": "code",
   "execution_count": 2,
   "metadata": {},
   "outputs": [],
   "source": [
    "os.chdir('C:/Users/joaqu/Box/Emotional-State-Capstone/data/')"
   ]
  },
  {
   "cell_type": "markdown",
   "metadata": {},
   "source": [
    "# Survey variables"
   ]
  },
  {
   "cell_type": "code",
   "execution_count": 3,
   "metadata": {},
   "outputs": [],
   "source": [
    "R00 = pd.read_excel('./R00/survey/R00SubjectData_deidentify.xlsx', sheet_name = None)\n"
   ]
  },
  {
   "cell_type": "code",
   "execution_count": 4,
   "metadata": {},
   "outputs": [],
   "source": [
    "ALL_MISSING_SUBJECTS = {}"
   ]
  },
  {
   "cell_type": "code",
   "execution_count": 5,
   "metadata": {},
   "outputs": [
    {
     "data": {
      "text/plain": [
       "odict_keys(['Totals', 'Overview', 'Demographics', 'Medical Screening', 'Neuropsychological Measures', 'Activity Tracking', 'PET', 'fMRI', 'fs-fMRI', 'PET-DEQ', 'AVI', 'CES-D', 'GDS', 'ERQ', 'BISBAS', 'BIS', 'TPQ-NS', 'NEO-SF', 'SWLS', 'FTP', 'DOSPERT-Risk Taking', 'DOSPERT-Risk Perception', 'DOSPERT-Expected Benefit', 'KIRBY', 'Social Motives', 'Place in Life', 'SaFE', 'SBQ', 'BDI-SF', 'HPS', 'ASRM', 'PUM', 'RPA', 'CMI', 'MHC-SF', 'PriPos', 'PSPA', 'IPAQ', 'Illness Symptoms', 'Z Font'])"
      ]
     },
     "execution_count": 5,
     "metadata": {},
     "output_type": "execute_result"
    }
   ],
   "source": [
    "R00.keys()"
   ]
  },
  {
   "cell_type": "markdown",
   "metadata": {},
   "source": [
    "For this project we are going to use only the following variables: \n",
    ">- SBQ (Social Behavior Questionary)<br>\n",
    ">- SWLS<br>\n",
    ">- TPQ-NS (Trait Dimension Personality Questionary - Novelty Seeking)<br>\n",
    ">- FTP (Future time perspective)<br>\n",
    ">- NEO-SF-C (Five Factor Inventory - Conscientiousness)<br>\n",
    ">- NEO-SF-E (Five Factor Inventory - Extraversion)<br>\n",
    ">- NEO-SF-N (Five Factor Inventory - Neuroticism)<br>\n",
    ">- AVI<br>\n",
    ">- BIS (Impulsiveness)<br>\n",
    ">- BISBAS (Activation/Inhibition)<br>\n",
    ">- Medical Screening\n",
    ">- Demographic"
   ]
  },
  {
   "cell_type": "markdown",
   "metadata": {},
   "source": [
    "### SBQ"
   ]
  },
  {
   "cell_type": "code",
   "execution_count": 6,
   "metadata": {},
   "outputs": [
    {
     "data": {
      "text/plain": [
       "104"
      ]
     },
     "execution_count": 6,
     "metadata": {},
     "output_type": "execute_result"
    }
   ],
   "source": [
    "VARIABLE = 'SBQ'\n",
    "#First row is always the field `subject` for every variable.\n",
    "R00[VARIABLE]['Subject'].unique().shape[0]"
   ]
  },
  {
   "cell_type": "code",
   "execution_count": 7,
   "metadata": {},
   "outputs": [
    {
     "data": {
      "text/plain": [
       "Subject     0\n",
       "Q1:        57\n",
       "Q2:        57\n",
       "Q3:        58\n",
       "Q4:        57\n",
       "Q5:        57\n",
       "Q6:        57\n",
       "Q7:        57\n",
       "Q8:        58\n",
       "Q9:        57\n",
       "Q10:       57\n",
       "Q11:       57\n",
       "Q12:       57\n",
       "Q13:       57\n",
       "Q14:       57\n",
       "Q15:       57\n",
       "Q16:       57\n",
       "Q17:       57\n",
       "Q18:       57\n",
       "SBQ         0\n",
       "dtype: int64"
      ]
     },
     "execution_count": 7,
     "metadata": {},
     "output_type": "execute_result"
    }
   ],
   "source": [
    "R00[VARIABLE].isna().sum()"
   ]
  },
  {
   "cell_type": "code",
   "execution_count": 8,
   "metadata": {},
   "outputs": [],
   "source": [
    "missing_rows = R00[VARIABLE].isna().any(axis=1)\n",
    "missing_subjects = R00[VARIABLE]['Subject'][missing_rows]"
   ]
  },
  {
   "cell_type": "code",
   "execution_count": 9,
   "metadata": {},
   "outputs": [
    {
     "data": {
      "text/plain": [
       "Text(0, 0.5, '# Missing')"
      ]
     },
     "execution_count": 9,
     "metadata": {},
     "output_type": "execute_result"
    },
    {
     "data": {
      "image/png": "[encoded data removed]",
      "text/plain": [
       "<Figure size 432x288 with 1 Axes>"
      ]
     },
     "metadata": {
      "needs_background": "light"
     },
     "output_type": "display_data"
    }
   ],
   "source": [
    "miss_subj_amount =  R00[VARIABLE].loc[missing_rows,:].isna().sum(axis = 1)\n",
    "plt.hist(miss_subj_amount)\n",
    "plt.xlabel('Columns')\n",
    "plt.ylabel('# Missing')"
   ]
  },
  {
   "cell_type": "code",
   "execution_count": 10,
   "metadata": {},
   "outputs": [],
   "source": [
    "ALL_MISSING_SUBJECTS[VARIABLE] = list(zip(missing_subjects,miss_subj_amount))"
   ]
  },
  {
   "cell_type": "code",
   "execution_count": 11,
   "metadata": {},
   "outputs": [
    {
     "data": {
      "text/html": [
       "<div>\n",
       "<style scoped>\n",
       "    .dataframe tbody tr th:only-of-type {\n",
       "        vertical-align: middle;\n",
       "    }\n",
       "\n",
       "    .dataframe tbody tr th {\n",
       "        vertical-align: top;\n",
       "    }\n",
       "\n",
       "    .dataframe thead th {\n",
       "        text-align: right;\n",
       "    }\n",
       "</style>\n",
       "<table border=\"1\" class=\"dataframe\">\n",
       "  <thead>\n",
       "    <tr style=\"text-align: right;\">\n",
       "      <th></th>\n",
       "      <th>Subject</th>\n",
       "      <th>Q1:</th>\n",
       "      <th>Q2:</th>\n",
       "      <th>Q3:</th>\n",
       "      <th>Q4:</th>\n",
       "      <th>Q5:</th>\n",
       "      <th>Q6:</th>\n",
       "      <th>Q7:</th>\n",
       "      <th>Q8:</th>\n",
       "      <th>Q9:</th>\n",
       "      <th>Q10:</th>\n",
       "      <th>Q11:</th>\n",
       "      <th>Q12:</th>\n",
       "      <th>Q13:</th>\n",
       "      <th>Q14:</th>\n",
       "      <th>Q15:</th>\n",
       "      <th>Q16:</th>\n",
       "      <th>Q17:</th>\n",
       "      <th>Q18:</th>\n",
       "      <th>SBQ</th>\n",
       "    </tr>\n",
       "  </thead>\n",
       "  <tbody>\n",
       "    <tr>\n",
       "      <th>28</th>\n",
       "      <td>1029</td>\n",
       "      <td>5.0</td>\n",
       "      <td>3.0</td>\n",
       "      <td>3.0</td>\n",
       "      <td>1.0</td>\n",
       "      <td>2.0</td>\n",
       "      <td>5.0</td>\n",
       "      <td>3.0</td>\n",
       "      <td>NaN</td>\n",
       "      <td>4.0</td>\n",
       "      <td>3.0</td>\n",
       "      <td>3.0</td>\n",
       "      <td>5.0</td>\n",
       "      <td>5.0</td>\n",
       "      <td>3.0</td>\n",
       "      <td>5.0</td>\n",
       "      <td>3.0</td>\n",
       "      <td>5.0</td>\n",
       "      <td>3.0</td>\n",
       "      <td>61</td>\n",
       "    </tr>\n",
       "    <tr>\n",
       "      <th>97</th>\n",
       "      <td>1098</td>\n",
       "      <td>5.0</td>\n",
       "      <td>4.0</td>\n",
       "      <td>NaN</td>\n",
       "      <td>4.0</td>\n",
       "      <td>3.0</td>\n",
       "      <td>5.0</td>\n",
       "      <td>5.0</td>\n",
       "      <td>2.0</td>\n",
       "      <td>4.0</td>\n",
       "      <td>5.0</td>\n",
       "      <td>3.0</td>\n",
       "      <td>2.0</td>\n",
       "      <td>4.0</td>\n",
       "      <td>3.0</td>\n",
       "      <td>2.0</td>\n",
       "      <td>3.0</td>\n",
       "      <td>2.0</td>\n",
       "      <td>4.0</td>\n",
       "      <td>60</td>\n",
       "    </tr>\n",
       "  </tbody>\n",
       "</table>\n",
       "</div>"
      ],
      "text/plain": [
       "    Subject  Q1:  Q2:  Q3:  Q4:  Q5:  Q6:  Q7:  Q8:  Q9:  Q10:  Q11:  Q12:  \\\n",
       "28     1029  5.0  3.0  3.0  1.0  2.0  5.0  3.0  NaN  4.0   3.0   3.0   5.0   \n",
       "97     1098  5.0  4.0  NaN  4.0  3.0  5.0  5.0  2.0  4.0   5.0   3.0   2.0   \n",
       "\n",
       "    Q13:  Q14:  Q15:  Q16:  Q17:  Q18:  SBQ  \n",
       "28   5.0   3.0   5.0   3.0   5.0   3.0   61  \n",
       "97   4.0   3.0   2.0   3.0   2.0   4.0   60  "
      ]
     },
     "execution_count": 11,
     "metadata": {},
     "output_type": "execute_result"
    }
   ],
   "source": [
    "R00[VARIABLE].iloc[miss_subj_amount[miss_subj_amount < 2].index,:]"
   ]
  },
  {
   "cell_type": "code",
   "execution_count": 12,
   "metadata": {},
   "outputs": [
    {
     "data": {
      "text/plain": [
       "48"
      ]
     },
     "execution_count": 12,
     "metadata": {},
     "output_type": "execute_result"
    }
   ],
   "source": [
    "R00[VARIABLE]['Subject'].shape[0] - miss_subj_amount[miss_subj_amount > 2].count()"
   ]
  },
  {
   "cell_type": "markdown",
   "metadata": {},
   "source": [
    "We could see that we have two different type of missing instances.\n",
    "On one hand we have completely missing subjects (all fields NaN) and in the other case we see 2 subjects with only one missing value each. Also this values are different (subject  1029 didn't answer question 8, meanwhile 1098 is missing Q3).\n",
    "\n",
    "It seems that this is completly random for this two subject.\n",
    "We need to ask to our stakeholder why only 48 subject have complete/almost complete data."
   ]
  },
  {
   "cell_type": "markdown",
   "metadata": {},
   "source": [
    "### SWLS"
   ]
  },
  {
   "cell_type": "code",
   "execution_count": 13,
   "metadata": {},
   "outputs": [
    {
     "data": {
      "text/plain": [
       "104"
      ]
     },
     "execution_count": 13,
     "metadata": {},
     "output_type": "execute_result"
    }
   ],
   "source": [
    "VARIABLE = 'SWLS'\n",
    "#First row is always the field `subject` for every variable.\n",
    "R00[VARIABLE]['Subject'].unique().shape[0]"
   ]
  },
  {
   "cell_type": "code",
   "execution_count": 14,
   "metadata": {},
   "outputs": [
    {
     "data": {
      "text/plain": [
       "Subject                                                             0\n",
       "1) In most ways my life is close to ideal.                         58\n",
       "2) The conditions of my life are excellent.                        58\n",
       "3) I am satisfied with my life.                                    58\n",
       "4) So far I have gotten the important things I want in life.       58\n",
       "5) If I could live my life over, I would change almost nothing.    58\n",
       "SWLS                                                                0\n",
       "dtype: int64"
      ]
     },
     "execution_count": 14,
     "metadata": {},
     "output_type": "execute_result"
    }
   ],
   "source": [
    "R00[VARIABLE].isna().sum()"
   ]
  },
  {
   "cell_type": "code",
   "execution_count": 15,
   "metadata": {},
   "outputs": [
    {
     "data": {
      "text/plain": [
       "Text(0, 0.5, '# Missing')"
      ]
     },
     "execution_count": 15,
     "metadata": {},
     "output_type": "execute_result"
    },
    {
     "data": {
      "image/png": "[encoded data removed]",
      "text/plain": [
       "<Figure size 432x288 with 1 Axes>"
      ]
     },
     "metadata": {
      "needs_background": "light"
     },
     "output_type": "display_data"
    }
   ],
   "source": [
    "missing_rows = R00[VARIABLE].isna().any(axis=1)\n",
    "missing_subjects = R00[VARIABLE]['Subject'][missing_rows]\n",
    "miss_subj_amount =  R00[VARIABLE].loc[missing_rows,:].isna().sum(axis = 1)\n",
    "plt.hist(miss_subj_amount)\n",
    "plt.xlabel('Columns')\n",
    "plt.ylabel('# Missing')"
   ]
  },
  {
   "cell_type": "code",
   "execution_count": 16,
   "metadata": {},
   "outputs": [],
   "source": [
    "ALL_MISSING_SUBJECTS[VARIABLE] = list(zip(missing_subjects,miss_subj_amount))"
   ]
  },
  {
   "cell_type": "code",
   "execution_count": 17,
   "metadata": {},
   "outputs": [
    {
     "data": {
      "text/plain": [
       "47"
      ]
     },
     "execution_count": 17,
     "metadata": {},
     "output_type": "execute_result"
    }
   ],
   "source": [
    "R00[VARIABLE]['Subject'].shape[0] - miss_subj_amount[miss_subj_amount >=  1].count()"
   ]
  },
  {
   "cell_type": "markdown",
   "metadata": {},
   "source": [
    "We dont have individual missing values for `SWLS`. But once again, we have subject with complete missing rows. \n",
    "We need to ask why this is happening and compare if is consistenly in the same subjects across this dataset (R00) or it's aleatory"
   ]
  },
  {
   "cell_type": "markdown",
   "metadata": {},
   "source": [
    "TPQ-NS"
   ]
  },
  {
   "cell_type": "code",
   "execution_count": 18,
   "metadata": {},
   "outputs": [
    {
     "data": {
      "text/plain": [
       "104"
      ]
     },
     "execution_count": 18,
     "metadata": {},
     "output_type": "execute_result"
    }
   ],
   "source": [
    "VARIABLE = 'TPQ-NS'\n",
    "#First row is always the field `subject` for every variable.\n",
    "R00[VARIABLE]['Subject'].unique().shape[0]"
   ]
  },
  {
   "cell_type": "code",
   "execution_count": 19,
   "metadata": {},
   "outputs": [
    {
     "data": {
      "text/plain": [
       "Subject                                                                                                                           0\n",
       "1) I often try new things just for fun or thrills, even if most people think it's a waste of time.                               57\n",
       "NS1                                                                                                                               1\n",
       "2) When nothing new is happening, I usually start looking for something thrilling or exciting.                                   57\n",
       "NS1.1                                                                                                                             1\n",
       "3) I usually demand very good practical reasons before I'm willing to change my old ways of doing things.                        57\n",
       "NS1.2                                                                                                                             1\n",
       "4) I hate to change the way I do things, even if many people tell me there is a new and better way to do it.                     57\n",
       "NS1.3                                                                                                                             1\n",
       "5) I like it when people can do whatever they want without strict rules and regulations.                                         57\n",
       "NS4                                                                                                                               1\n",
       "6) I like to be very organized and set up rules for people whenever I can.                                                       57\n",
       "NS4.1                                                                                                                             1\n",
       "7) Even when most people feel it is not important, I often insist on things being done in a strict and orderly way.              57\n",
       "NS4.2                                                                                                                             1\n",
       "8) I often do things based on how I feel at the moment without thinking about how they were done in the past.                    57\n",
       "NS4.3                                                                                                                             1\n",
       "9) I often break rules and regulations when I think I can get away with it.                                                      57\n",
       "NS4.4                                                                                                                             1\n",
       "10) I lose my temper more quickly than most people.                                                                              57\n",
       "NS4.5                                                                                                                             1\n",
       "11) I often react strongly to unexpected news that I say or do things that I regret.                                             57\n",
       "NS2                                                                                                                               1\n",
       "12) I am much more reserved and controlled than most people.                                                                     57\n",
       "NS3                                                                                                                               1\n",
       "13) I almost never get so excited that I lose control of myself.                                                                 57\n",
       "NS4.6                                                                                                                             1\n",
       "14) I am slower than most people to get excited about new ideas and activities.                                                  57\n",
       "NS1.4                                                                                                                             1\n",
       "15) It is difficult for me to keep the same interests for a long time because my attention often shifts to something else.       57\n",
       "                                                                                                                                 ..\n",
       "NS4.8                                                                                                                             1\n",
       "23) I have trouble telling a lie, even when it is meant to spare someone's feelings.                                             57\n",
       "NS4.9                                                                                                                             1\n",
       "24) I am better saving money than most people.                                                                                   57\n",
       "NS3.1                                                                                                                             1\n",
       "25) I often spend money until I run out of cash or get into debt from using too much credit.                                     57\n",
       "NS3.2                                                                                                                             1\n",
       "26) Because I so often spend too much on impulse, it is hard for me to save money--even if for special plans like a vacation.    57\n",
       "NS3.3                                                                                                                             1\n",
       "27) Some people think I am too stingy or tight with my money.                                                                    57\n",
       "NS3.4                                                                                                                             1\n",
       "28) It is hard for me to enjoy spending money on myself, even when I have saved plenty of money.                                 57\n",
       "NS3.5                                                                                                                             1\n",
       "29) I hate to make decisions based only on my first impressions.                                                                 57\n",
       "NS2.6                                                                                                                             1\n",
       "30) I like old tried and true ways of doing things much better than trying new and improved ways.                                57\n",
       "NS1.6                                                                                                                             1\n",
       "31) I enjoy saving money more than spending it on entertainment or thrills.                                                      57\n",
       "NS3.6                                                                                                                             1\n",
       "32) In conversations I am much better as a listener than as a talker.                                                            57\n",
       "NS1.7                                                                                                                             1\n",
       "33) I like to stay at home better than to travel or explore new places.                                                          57\n",
       "NS1.8                                                                                                                             1\n",
       "34) I like to pay close attention to details in everything I do.                                                                 57\n",
       "NS2.7                                                                                                                             1\n",
       "NS1.9                                                                                                                             1\n",
       "NS2.8                                                                                                                             1\n",
       "NS3.7                                                                                                                             1\n",
       "NS4.10                                                                                                                            1\n",
       "NS_total                                                                                                                          1\n",
       "Length: 74, dtype: int64"
      ]
     },
     "execution_count": 19,
     "metadata": {},
     "output_type": "execute_result"
    }
   ],
   "source": [
    "R00[VARIABLE].isna().sum()"
   ]
  },
  {
   "cell_type": "code",
   "execution_count": 20,
   "metadata": {},
   "outputs": [
    {
     "data": {
      "text/plain": [
       "(array([ 1.,  0.,  0.,  0., 56.,  0.,  0.,  0.,  0.,  1.]),\n",
       " array([ 1. ,  8.2, 15.4, 22.6, 29.8, 37. , 44.2, 51.4, 58.6, 65.8, 73. ]),\n",
       " <a list of 10 Patch objects>)"
      ]
     },
     "execution_count": 20,
     "metadata": {},
     "output_type": "execute_result"
    },
    {
     "data": {
      "image/png": "[encoded data removed]",
      "text/plain": [
       "<Figure size 432x288 with 1 Axes>"
      ]
     },
     "metadata": {
      "needs_background": "light"
     },
     "output_type": "display_data"
    }
   ],
   "source": [
    "missing_rows = R00[VARIABLE].isna().any(axis=1)\n",
    "missing_subjects = R00[VARIABLE]['Subject'][missing_rows]\n",
    "miss_subj_amount =  R00[VARIABLE].loc[missing_rows,:].isna().sum(axis = 1)\n",
    "plt.xlabel('# Columns')\n",
    "plt.ylabel('# Missing')\n",
    "plt.hist(miss_subj_amount)"
   ]
  },
  {
   "cell_type": "code",
   "execution_count": 21,
   "metadata": {},
   "outputs": [
    {
     "data": {
      "text/html": [
       "<div>\n",
       "<style scoped>\n",
       "    .dataframe tbody tr th:only-of-type {\n",
       "        vertical-align: middle;\n",
       "    }\n",
       "\n",
       "    .dataframe tbody tr th {\n",
       "        vertical-align: top;\n",
       "    }\n",
       "\n",
       "    .dataframe thead th {\n",
       "        text-align: right;\n",
       "    }\n",
       "</style>\n",
       "<table border=\"1\" class=\"dataframe\">\n",
       "  <thead>\n",
       "    <tr style=\"text-align: right;\">\n",
       "      <th></th>\n",
       "      <th>Subject</th>\n",
       "      <th>1) I often try new things just for fun or thrills, even if most people think it's a waste of time.</th>\n",
       "      <th>NS1</th>\n",
       "      <th>2) When nothing new is happening, I usually start looking for something thrilling or exciting.</th>\n",
       "      <th>NS1.1</th>\n",
       "      <th>3) I usually demand very good practical reasons before I'm willing to change my old ways of doing things.</th>\n",
       "      <th>NS1.2</th>\n",
       "      <th>4) I hate to change the way I do things, even if many people tell me there is a new and better way to do it.</th>\n",
       "      <th>NS1.3</th>\n",
       "      <th>5) I like it when people can do whatever they want without strict rules and regulations.</th>\n",
       "      <th>...</th>\n",
       "      <th>NS1.7</th>\n",
       "      <th>33) I like to stay at home better than to travel or explore new places.</th>\n",
       "      <th>NS1.8</th>\n",
       "      <th>34) I like to pay close attention to details in everything I do.</th>\n",
       "      <th>NS2.7</th>\n",
       "      <th>NS1.9</th>\n",
       "      <th>NS2.8</th>\n",
       "      <th>NS3.7</th>\n",
       "      <th>NS4.10</th>\n",
       "      <th>NS_total</th>\n",
       "    </tr>\n",
       "  </thead>\n",
       "  <tbody>\n",
       "    <tr>\n",
       "      <th>0</th>\n",
       "      <td>1001</td>\n",
       "      <td>NaN</td>\n",
       "      <td>NaN</td>\n",
       "      <td>NaN</td>\n",
       "      <td>NaN</td>\n",
       "      <td>NaN</td>\n",
       "      <td>NaN</td>\n",
       "      <td>NaN</td>\n",
       "      <td>NaN</td>\n",
       "      <td>NaN</td>\n",
       "      <td>...</td>\n",
       "      <td>NaN</td>\n",
       "      <td>NaN</td>\n",
       "      <td>NaN</td>\n",
       "      <td>NaN</td>\n",
       "      <td>NaN</td>\n",
       "      <td>NaN</td>\n",
       "      <td>NaN</td>\n",
       "      <td>NaN</td>\n",
       "      <td>NaN</td>\n",
       "      <td>NaN</td>\n",
       "    </tr>\n",
       "  </tbody>\n",
       "</table>\n",
       "<p>1 rows × 74 columns</p>\n",
       "</div>"
      ],
      "text/plain": [
       "   Subject  \\\n",
       "0     1001   \n",
       "\n",
       "  1) I often try new things just for fun or thrills, even if most people think it's a waste of time.  \\\n",
       "0                                                NaN                                                   \n",
       "\n",
       "   NS1  \\\n",
       "0  NaN   \n",
       "\n",
       "  2) When nothing new is happening, I usually start looking for something thrilling or exciting.  \\\n",
       "0                                                NaN                                               \n",
       "\n",
       "   NS1.1  \\\n",
       "0    NaN   \n",
       "\n",
       "  3) I usually demand very good practical reasons before I'm willing to change my old ways of doing things.  \\\n",
       "0                                                NaN                                                          \n",
       "\n",
       "   NS1.2  \\\n",
       "0    NaN   \n",
       "\n",
       "  4) I hate to change the way I do things, even if many people tell me there is a new and better way to do it.  \\\n",
       "0                                                NaN                                                             \n",
       "\n",
       "   NS1.3  \\\n",
       "0    NaN   \n",
       "\n",
       "  5) I like it when people can do whatever they want without strict rules and regulations.  \\\n",
       "0                                                NaN                                         \n",
       "\n",
       "   ...  NS1.7  \\\n",
       "0  ...    NaN   \n",
       "\n",
       "  33) I like to stay at home better than to travel or explore new places.  \\\n",
       "0                                                NaN                        \n",
       "\n",
       "   NS1.8 34) I like to pay close attention to details in everything I do.  \\\n",
       "0    NaN                                                NaN                 \n",
       "\n",
       "   NS2.7 NS1.9  NS2.8 NS3.7  NS4.10 NS_total  \n",
       "0    NaN   NaN    NaN   NaN     NaN      NaN  \n",
       "\n",
       "[1 rows x 74 columns]"
      ]
     },
     "execution_count": 21,
     "metadata": {},
     "output_type": "execute_result"
    }
   ],
   "source": [
    "R00[VARIABLE].iloc[miss_subj_amount[miss_subj_amount > 60].index,:]"
   ]
  },
  {
   "cell_type": "code",
   "execution_count": 22,
   "metadata": {},
   "outputs": [
    {
     "data": {
      "text/plain": [
       "[(1001, 73),\n",
       " (1003, 34),\n",
       " (1005, 34),\n",
       " (1006, 34),\n",
       " (1007, 34),\n",
       " (1010, 34),\n",
       " (1011, 34),\n",
       " (1012, 34),\n",
       " (1013, 34),\n",
       " (1015, 34),\n",
       " (1016, 34),\n",
       " (1017, 34),\n",
       " (1022, 34),\n",
       " (1023, 34),\n",
       " (1025, 34),\n",
       " (1026, 34),\n",
       " (1027, 34),\n",
       " (1028, 34),\n",
       " (1031, 34),\n",
       " (1033, 34),\n",
       " (1036, 34),\n",
       " (1038, 34),\n",
       " (1040, 34),\n",
       " (1042, 34),\n",
       " (1043, 34),\n",
       " (1044, 34),\n",
       " (1046, 34),\n",
       " (1052, 34),\n",
       " (1054, 34),\n",
       " (1056, 34),\n",
       " (1057, 34),\n",
       " (1059, 34),\n",
       " (1061, 34),\n",
       " (1062, 34),\n",
       " (1063, 34),\n",
       " (1064, 34),\n",
       " (1068, 34),\n",
       " (1069, 34),\n",
       " (1070, 34),\n",
       " (1071, 34),\n",
       " (1072, 34),\n",
       " (1074, 34),\n",
       " (1075, 34),\n",
       " (1076, 34),\n",
       " (1077, 34),\n",
       " (1078, 34),\n",
       " (1082, 34),\n",
       " (1083, 34),\n",
       " (1086, 34),\n",
       " (1088, 34),\n",
       " (1090, 34),\n",
       " (1091, 34),\n",
       " (1093, 34),\n",
       " (1094, 34),\n",
       " (1095, 34),\n",
       " (1098, 1),\n",
       " (1102, 34),\n",
       " (1103, 34)]"
      ]
     },
     "execution_count": 22,
     "metadata": {},
     "output_type": "execute_result"
    }
   ],
   "source": [
    "list(zip(missing_subjects,miss_subj_amount))"
   ]
  },
  {
   "cell_type": "markdown",
   "metadata": {},
   "source": [
    "It seem's that one subject is consistently missing all values (subject 1001)\n",
    "One more time 57 subjects are missing all data fields. Altough the file is wierd and is assigning a 0 is the value is missing (that's why they have 34  missing fields over 72)\n",
    "There is subject with only one missing empty columns (subject 1098)"
   ]
  },
  {
   "cell_type": "code",
   "execution_count": 23,
   "metadata": {},
   "outputs": [
    {
     "data": {
      "text/plain": [
       "48"
      ]
     },
     "execution_count": 23,
     "metadata": {},
     "output_type": "execute_result"
    }
   ],
   "source": [
    "R00[VARIABLE]['Subject'].shape[0] - miss_subj_amount[miss_subj_amount >  1].count()"
   ]
  },
  {
   "cell_type": "code",
   "execution_count": 24,
   "metadata": {},
   "outputs": [],
   "source": [
    "ALL_MISSING_SUBJECTS[VARIABLE] = list(zip(missing_subjects,miss_subj_amount))"
   ]
  },
  {
   "cell_type": "markdown",
   "metadata": {},
   "source": [
    "# FTP"
   ]
  },
  {
   "cell_type": "code",
   "execution_count": 25,
   "metadata": {},
   "outputs": [
    {
     "data": {
      "text/plain": [
       "104"
      ]
     },
     "execution_count": 25,
     "metadata": {},
     "output_type": "execute_result"
    }
   ],
   "source": [
    "VARIABLE = 'FTP'\n",
    "#First row is always the field `subject` for every variable.\n",
    "R00[VARIABLE]['Subject'].unique().shape[0]"
   ]
  },
  {
   "cell_type": "code",
   "execution_count": 26,
   "metadata": {},
   "outputs": [
    {
     "name": "stdout",
     "output_type": "stream",
     "text": [
      "15\n"
     ]
    },
    {
     "data": {
      "text/plain": [
       "Subject                                                           0\n",
       "1) Many opportunities await me in the future.                    57\n",
       "2) I expect that I will set many new goals in the future.        57\n",
       "3) My future is filled with possibilities.                       57\n",
       "4) Most of my life lies ahead of me.                             56\n",
       "5) My future seems infinite to me.                               57\n",
       "6) I could do anything I want in the future.                     57\n",
       "7) There is plenty of time left in my life to make new plans.    57\n",
       "8) I have the sense that time is running out.                    57\n",
       "Revese                                                            1\n",
       "9) There are only limited possibilities in my future.            57\n",
       "Reverse                                                           1\n",
       "10) As I get older, I begin to experience time as limited.       57\n",
       "Reverse.1                                                         1\n",
       "FTP                                                              55\n",
       "dtype: int64"
      ]
     },
     "execution_count": 26,
     "metadata": {},
     "output_type": "execute_result"
    }
   ],
   "source": [
    "print(R00[VARIABLE].shape[1])\n",
    "R00[VARIABLE].isna().sum()"
   ]
  },
  {
   "cell_type": "code",
   "execution_count": 27,
   "metadata": {},
   "outputs": [
    {
     "data": {
      "text/plain": [
       "(array([ 1.,  0.,  0.,  0.,  0., 55.,  0.,  0.,  0.,  1.]),\n",
       " array([ 9. ,  9.4,  9.8, 10.2, 10.6, 11. , 11.4, 11.8, 12.2, 12.6, 13. ]),\n",
       " <a list of 10 Patch objects>)"
      ]
     },
     "execution_count": 27,
     "metadata": {},
     "output_type": "execute_result"
    },
    {
     "data": {
      "image/png": "[encoded data removed]",
      "text/plain": [
       "<Figure size 432x288 with 1 Axes>"
      ]
     },
     "metadata": {
      "needs_background": "light"
     },
     "output_type": "display_data"
    }
   ],
   "source": [
    "missing_rows = R00[VARIABLE].isna().any(axis=1)\n",
    "missing_subjects = R00[VARIABLE]['Subject'][missing_rows]\n",
    "miss_subj_amount =  R00[VARIABLE].loc[missing_rows,:].isna().sum(axis = 1)\n",
    "plt.xlabel('Columns')\n",
    "plt.ylabel('# Missing')\n",
    "plt.hist(miss_subj_amount)"
   ]
  },
  {
   "cell_type": "code",
   "execution_count": 28,
   "metadata": {},
   "outputs": [
    {
     "data": {
      "text/html": [
       "<div>\n",
       "<style scoped>\n",
       "    .dataframe tbody tr th:only-of-type {\n",
       "        vertical-align: middle;\n",
       "    }\n",
       "\n",
       "    .dataframe tbody tr th {\n",
       "        vertical-align: top;\n",
       "    }\n",
       "\n",
       "    .dataframe thead th {\n",
       "        text-align: right;\n",
       "    }\n",
       "</style>\n",
       "<table border=\"1\" class=\"dataframe\">\n",
       "  <thead>\n",
       "    <tr style=\"text-align: right;\">\n",
       "      <th></th>\n",
       "      <th>Subject</th>\n",
       "      <th>1) Many opportunities await me in the future.</th>\n",
       "      <th>2) I expect that I will set many new goals in the future.</th>\n",
       "      <th>3) My future is filled with possibilities.</th>\n",
       "      <th>4) Most of my life lies ahead of me.</th>\n",
       "      <th>5) My future seems infinite to me.</th>\n",
       "      <th>6) I could do anything I want in the future.</th>\n",
       "      <th>7) There is plenty of time left in my life to make new plans.</th>\n",
       "      <th>8) I have the sense that time is running out.</th>\n",
       "      <th>Revese</th>\n",
       "      <th>9) There are only limited possibilities in my future.</th>\n",
       "      <th>Reverse</th>\n",
       "      <th>10) As I get older, I begin to experience time as limited.</th>\n",
       "      <th>Reverse.1</th>\n",
       "      <th>FTP</th>\n",
       "    </tr>\n",
       "  </thead>\n",
       "  <tbody>\n",
       "    <tr>\n",
       "      <th>9</th>\n",
       "      <td>1010</td>\n",
       "      <td>NaN</td>\n",
       "      <td>NaN</td>\n",
       "      <td>NaN</td>\n",
       "      <td>6.0</td>\n",
       "      <td>NaN</td>\n",
       "      <td>NaN</td>\n",
       "      <td>NaN</td>\n",
       "      <td>NaN</td>\n",
       "      <td>0.0</td>\n",
       "      <td>NaN</td>\n",
       "      <td>0.0</td>\n",
       "      <td>NaN</td>\n",
       "      <td>0.0</td>\n",
       "      <td>6.0</td>\n",
       "    </tr>\n",
       "  </tbody>\n",
       "</table>\n",
       "</div>"
      ],
      "text/plain": [
       "   Subject  1) Many opportunities await me in the future.  \\\n",
       "9     1010                                            NaN   \n",
       "\n",
       "   2) I expect that I will set many new goals in the future.  \\\n",
       "9                                                NaN           \n",
       "\n",
       "   3) My future is filled with possibilities.  \\\n",
       "9                                         NaN   \n",
       "\n",
       "   4) Most of my life lies ahead of me.  5) My future seems infinite to me.  \\\n",
       "9                                   6.0                                 NaN   \n",
       "\n",
       "   6) I could do anything I want in the future.  \\\n",
       "9                                           NaN   \n",
       "\n",
       "   7) There is plenty of time left in my life to make new plans.  \\\n",
       "9                                                NaN               \n",
       "\n",
       "   8) I have the sense that time is running out.  Revese  \\\n",
       "9                                            NaN     0.0   \n",
       "\n",
       "   9) There are only limited possibilities in my future.  Reverse  \\\n",
       "9                                                NaN          0.0   \n",
       "\n",
       "   10) As I get older, I begin to experience time as limited.  Reverse.1  FTP  \n",
       "9                                                NaN                 0.0  6.0  "
      ]
     },
     "execution_count": 28,
     "metadata": {},
     "output_type": "execute_result"
    }
   ],
   "source": [
    "R00[VARIABLE].iloc[miss_subj_amount[miss_subj_amount < 10 ].index,:]"
   ]
  },
  {
   "cell_type": "code",
   "execution_count": 29,
   "metadata": {},
   "outputs": [
    {
     "data": {
      "text/plain": [
       "[(1010, 9),\n",
       " (1003, 11),\n",
       " (1005, 11),\n",
       " (1006, 11),\n",
       " (1007, 11),\n",
       " (1011, 11),\n",
       " (1012, 11),\n",
       " (1013, 11),\n",
       " (1015, 11),\n",
       " (1016, 11),\n",
       " (1017, 11),\n",
       " (1022, 11),\n",
       " (1023, 11),\n",
       " (1025, 11),\n",
       " (1026, 11),\n",
       " (1027, 11),\n",
       " (1028, 11),\n",
       " (1031, 11),\n",
       " (1033, 11),\n",
       " (1036, 11),\n",
       " (1038, 11),\n",
       " (1040, 11),\n",
       " (1042, 11),\n",
       " (1043, 11),\n",
       " (1044, 11),\n",
       " (1046, 11),\n",
       " (1052, 11),\n",
       " (1054, 11),\n",
       " (1056, 11),\n",
       " (1057, 11),\n",
       " (1059, 11),\n",
       " (1061, 11),\n",
       " (1062, 11),\n",
       " (1063, 11),\n",
       " (1064, 11),\n",
       " (1068, 11),\n",
       " (1069, 11),\n",
       " (1070, 11),\n",
       " (1071, 11),\n",
       " (1072, 11),\n",
       " (1074, 11),\n",
       " (1075, 11),\n",
       " (1076, 11),\n",
       " (1077, 11),\n",
       " (1078, 11),\n",
       " (1082, 11),\n",
       " (1083, 11),\n",
       " (1086, 11),\n",
       " (1088, 11),\n",
       " (1090, 11),\n",
       " (1091, 11),\n",
       " (1093, 11),\n",
       " (1094, 11),\n",
       " (1095, 11),\n",
       " (1102, 11),\n",
       " (1103, 11),\n",
       " (1001, 13)]"
      ]
     },
     "execution_count": 29,
     "metadata": {},
     "output_type": "execute_result"
    }
   ],
   "source": [
    "ammount_sort =  sorted(list(zip(missing_subjects,miss_subj_amount)), key =  lambda elem : elem[1] )\n",
    "ammount_sort"
   ]
  },
  {
   "cell_type": "markdown",
   "metadata": {},
   "source": [
    "The same case than with `SWLS` , one subject with all missing values, 57 with 10 missing columsn (all the questions)\n",
    "One subject missing all fields 1001\n",
    "And one subject missing almost all questions 1010 (9 missing questions). We should drop this subject or set his values as NaN"
   ]
  },
  {
   "cell_type": "code",
   "execution_count": 30,
   "metadata": {},
   "outputs": [],
   "source": [
    "ALL_MISSING_SUBJECTS[VARIABLE] = list(zip(missing_subjects,miss_subj_amount))"
   ]
  },
  {
   "cell_type": "markdown",
   "metadata": {},
   "source": [
    "### NEO-SF"
   ]
  },
  {
   "cell_type": "code",
   "execution_count": 31,
   "metadata": {},
   "outputs": [
    {
     "name": "stdout",
     "output_type": "stream",
     "text": [
      "Unique subjects:  104\n",
      "All subjects :  105\n"
     ]
    }
   ],
   "source": [
    "VARIABLE = 'NEO-SF'\n",
    "#First row is always the field `subject` for every variable.\n",
    "print('Unique subjects: ', R00[VARIABLE]['Subject'].unique().shape[0])\n",
    "print('All subjects : ', R00[VARIABLE]['Subject'].shape[0])"
   ]
  },
  {
   "cell_type": "code",
   "execution_count": 32,
   "metadata": {},
   "outputs": [
    {
     "data": {
      "text/plain": [
       "1103    2\n",
       "1023    1\n",
       "1049    1\n",
       "1051    1\n",
       "1052    1\n",
       "1053    1\n",
       "1054    1\n",
       "1055    1\n",
       "1056    1\n",
       "1057    1\n",
       "1058    1\n",
       "1059    1\n",
       "1060    1\n",
       "1061    1\n",
       "1062    1\n",
       "1063    1\n",
       "1064    1\n",
       "1065    1\n",
       "1066    1\n",
       "1067    1\n",
       "1068    1\n",
       "1069    1\n",
       "1070    1\n",
       "1071    1\n",
       "1072    1\n",
       "1050    1\n",
       "1048    1\n",
       "1074    1\n",
       "1035    1\n",
       "1025    1\n",
       "       ..\n",
       "1019    1\n",
       "1020    1\n",
       "1021    1\n",
       "1102    1\n",
       "1100    1\n",
       "1076    1\n",
       "1087    1\n",
       "1077    1\n",
       "1078    1\n",
       "1079    1\n",
       "1080    1\n",
       "1081    1\n",
       "1082    1\n",
       "1083    1\n",
       "1084    1\n",
       "1085    1\n",
       "1086    1\n",
       "1088    1\n",
       "1099    1\n",
       "1089    1\n",
       "1090    1\n",
       "1091    1\n",
       "1092    1\n",
       "1093    1\n",
       "1094    1\n",
       "1095    1\n",
       "1096    1\n",
       "1097    1\n",
       "1098    1\n",
       "1024    1\n",
       "Name: Subject, Length: 104, dtype: int64"
      ]
     },
     "execution_count": 32,
     "metadata": {},
     "output_type": "execute_result"
    }
   ],
   "source": [
    "R00[VARIABLE]['Subject'].value_counts()"
   ]
  },
  {
   "cell_type": "markdown",
   "metadata": {},
   "source": [
    "Subject 1103 is repeated. Need to fix this."
   ]
  },
  {
   "cell_type": "code",
   "execution_count": 33,
   "metadata": {},
   "outputs": [
    {
     "data": {
      "text/html": [
       "<div>\n",
       "<style scoped>\n",
       "    .dataframe tbody tr th:only-of-type {\n",
       "        vertical-align: middle;\n",
       "    }\n",
       "\n",
       "    .dataframe tbody tr th {\n",
       "        vertical-align: top;\n",
       "    }\n",
       "\n",
       "    .dataframe thead th {\n",
       "        text-align: right;\n",
       "    }\n",
       "</style>\n",
       "<table border=\"1\" class=\"dataframe\">\n",
       "  <thead>\n",
       "    <tr style=\"text-align: right;\">\n",
       "      <th></th>\n",
       "      <th>Subject</th>\n",
       "      <th>1) I am not a worrier.</th>\n",
       "      <th>N-r</th>\n",
       "      <th>2) I like to have a lot of people around me.</th>\n",
       "      <th>E</th>\n",
       "      <th>3) I don't like to waste my time daydreaming.</th>\n",
       "      <th>O-r</th>\n",
       "      <th>4) I try to be courteous to everyone I meet.</th>\n",
       "      <th>A</th>\n",
       "      <th>5) I keep my belongings clean and neat.</th>\n",
       "      <th>...</th>\n",
       "      <th>O.4</th>\n",
       "      <th>59) If necessary, I am willing to manipulate people to get what I want.</th>\n",
       "      <th>A-r.7</th>\n",
       "      <th>60) I strive for excellence in everything I do.</th>\n",
       "      <th>C.7</th>\n",
       "      <th>Neuroticism</th>\n",
       "      <th>Extraversion</th>\n",
       "      <th>Openness</th>\n",
       "      <th>Agreeableness</th>\n",
       "      <th>Conscientiousness</th>\n",
       "    </tr>\n",
       "  </thead>\n",
       "  <tbody>\n",
       "    <tr>\n",
       "      <th>102</th>\n",
       "      <td>1103</td>\n",
       "      <td>NaN</td>\n",
       "      <td>0.0</td>\n",
       "      <td>NaN</td>\n",
       "      <td>0.0</td>\n",
       "      <td>NaN</td>\n",
       "      <td>0.0</td>\n",
       "      <td>NaN</td>\n",
       "      <td>0.0</td>\n",
       "      <td>NaN</td>\n",
       "      <td>...</td>\n",
       "      <td>0.0</td>\n",
       "      <td>NaN</td>\n",
       "      <td>0.0</td>\n",
       "      <td>NaN</td>\n",
       "      <td>0.0</td>\n",
       "      <td>0.0</td>\n",
       "      <td>0.0</td>\n",
       "      <td>0.0</td>\n",
       "      <td>0.0</td>\n",
       "      <td>0.0</td>\n",
       "    </tr>\n",
       "    <tr>\n",
       "      <th>103</th>\n",
       "      <td>1103</td>\n",
       "      <td>Disagree</td>\n",
       "      <td>4.0</td>\n",
       "      <td>Neutral</td>\n",
       "      <td>3.0</td>\n",
       "      <td>Strongly Disagree</td>\n",
       "      <td>5.0</td>\n",
       "      <td>Strongly Agree</td>\n",
       "      <td>5.0</td>\n",
       "      <td>Neutral</td>\n",
       "      <td>...</td>\n",
       "      <td>5.0</td>\n",
       "      <td>Strongly Disagree</td>\n",
       "      <td>5.0</td>\n",
       "      <td>Strongly Agree</td>\n",
       "      <td>5.0</td>\n",
       "      <td>36.0</td>\n",
       "      <td>39.0</td>\n",
       "      <td>34.0</td>\n",
       "      <td>33.0</td>\n",
       "      <td>42.0</td>\n",
       "    </tr>\n",
       "  </tbody>\n",
       "</table>\n",
       "<p>2 rows × 126 columns</p>\n",
       "</div>"
      ],
      "text/plain": [
       "     Subject 1) I am not a worrier.  N-r  \\\n",
       "102     1103                    NaN  0.0   \n",
       "103     1103               Disagree  4.0   \n",
       "\n",
       "    2) I like to have a lot of people around me.    E  \\\n",
       "102                                          NaN  0.0   \n",
       "103                                      Neutral  3.0   \n",
       "\n",
       "    3) I don't like to waste my time daydreaming.  O-r  \\\n",
       "102                                           NaN  0.0   \n",
       "103                             Strongly Disagree  5.0   \n",
       "\n",
       "    4) I try to be courteous to everyone I meet.    A  \\\n",
       "102                                          NaN  0.0   \n",
       "103                               Strongly Agree  5.0   \n",
       "\n",
       "    5) I keep my belongings clean and neat.  ...  O.4  \\\n",
       "102                                     NaN  ...  0.0   \n",
       "103                                 Neutral  ...  5.0   \n",
       "\n",
       "    59) If necessary, I am willing to manipulate people to get what I want.  \\\n",
       "102                                                NaN                        \n",
       "103                                  Strongly Disagree                        \n",
       "\n",
       "     A-r.7 60) I strive for excellence in everything I do.  C.7 Neuroticism  \\\n",
       "102    0.0                                             NaN  0.0         0.0   \n",
       "103    5.0                                  Strongly Agree  5.0        36.0   \n",
       "\n",
       "     Extraversion Openness  Agreeableness Conscientiousness  \n",
       "102           0.0      0.0            0.0               0.0  \n",
       "103          39.0     34.0           33.0              42.0  \n",
       "\n",
       "[2 rows x 126 columns]"
      ]
     },
     "execution_count": 33,
     "metadata": {},
     "output_type": "execute_result"
    }
   ],
   "source": [
    "R00[VARIABLE].loc[R00[VARIABLE]['Subject'] == 1103, : ]"
   ]
  },
  {
   "cell_type": "markdown",
   "metadata": {},
   "source": [
    "It seems that something weird happened when they data entry the data. Let's remove the index 102"
   ]
  },
  {
   "cell_type": "code",
   "execution_count": 34,
   "metadata": {},
   "outputs": [],
   "source": [
    "R00[VARIABLE] = R00[VARIABLE].drop(102).reset_index().copy()"
   ]
  },
  {
   "cell_type": "code",
   "execution_count": 35,
   "metadata": {},
   "outputs": [
    {
     "name": "stdout",
     "output_type": "stream",
     "text": [
      "COLUMNS:  127\n",
      "COLUMN WITH MAX NUM OF MISSINGS:  104 | Column:  O-r.6\n"
     ]
    },
    {
     "data": {
      "text/plain": [
       "index                                                                                      0\n",
       "Subject                                                                                    0\n",
       "1) I am not a worrier.                                                                    56\n",
       "N-r                                                                                        1\n",
       "2) I like to have a lot of people around me.                                              56\n",
       "E                                                                                          1\n",
       "3) I don't like to waste my time daydreaming.                                             56\n",
       "O-r                                                                                        1\n",
       "4) I try to be courteous to everyone I meet.                                              56\n",
       "A                                                                                          1\n",
       "5) I keep my belongings clean and neat.                                                   57\n",
       "C                                                                                          1\n",
       "6) I often feel inferior to others.                                                       56\n",
       "N                                                                                          1\n",
       "7) I laugh easily.                                                                        56\n",
       "E.1                                                                                        1\n",
       "8) Once I find the right way to do something, I stick to it.                              56\n",
       "O-r.1                                                                                      1\n",
       "9) I often get into arguments with my family or coworkers.                                56\n",
       "A-r                                                                                        1\n",
       "10) I'm pretty good about pacing myself so as to get things done on time.                 56\n",
       "C.1                                                                                        1\n",
       "11) When I'm under a great deal of stress, sometimes I feel like I'm going to pieces.     56\n",
       "N.1                                                                                        1\n",
       "12) I don't consider myself especially \"light-hearted\".                                   56\n",
       "E-r                                                                                        1\n",
       "13) I am  intrigued by the patterns I find in art and nature.                             56\n",
       "O                                                                                          1\n",
       "14) Some people think I'm selfish and egotistical.                                        56\n",
       "A-r.1                                                                                      1\n",
       "                                                                                        ... \n",
       "O-r.6                                                                                    104\n",
       "49) I generally try to be thoughtful and considerate.                                     57\n",
       "A.3                                                                                        1\n",
       "50) I am a productive person who always gets the job done.                                57\n",
       "C.6                                                                                        1\n",
       "51) I often feel helpless and want someone else to solve my problems.                     57\n",
       "N.6                                                                                        1\n",
       "52) I am a very active person.                                                            57\n",
       "E.7                                                                                        1\n",
       "53) I have a lot of intellectual curiousity.                                              57\n",
       "O.3                                                                                        1\n",
       "54) If I don't like people, I let them know it.                                           57\n",
       "A-r.6                                                                                      1\n",
       "55) I never seem to be able to get organized.                                             57\n",
       "C-r.3                                                                                      1\n",
       "56) At times I have been so ashamed I just want to hide.                                  56\n",
       "N.7                                                                                        1\n",
       "57) I would rather go my own way than be a leader of others.                              56\n",
       "E-r.3                                                                                      1\n",
       "58) I often enjoy playing with theories or abstract ideas.                                56\n",
       "O.4                                                                                        1\n",
       "59) If necessary, I am willing to manipulate people to get what I want.                   56\n",
       "A-r.7                                                                                      1\n",
       "60) I strive for excellence in everything I do.                                           56\n",
       "C.7                                                                                        1\n",
       "Neuroticism                                                                                1\n",
       "Extraversion                                                                               1\n",
       "Openness                                                                                   1\n",
       "Agreeableness                                                                              1\n",
       "Conscientiousness                                                                          1\n",
       "Length: 127, dtype: int64"
      ]
     },
     "execution_count": 35,
     "metadata": {},
     "output_type": "execute_result"
    }
   ],
   "source": [
    "print('COLUMNS: ',R00[VARIABLE].shape[1])\n",
    "print('COLUMN WITH MAX NUM OF MISSINGS: ', R00[VARIABLE].isna().sum().max() , '| Column: ' , R00[VARIABLE].isna().sum().idxmax())\n",
    "R00[VARIABLE].isna().sum()\n"
   ]
  },
  {
   "cell_type": "code",
   "execution_count": 36,
   "metadata": {},
   "outputs": [
    {
     "data": {
      "text/plain": [
       "(array([47.,  1.,  0.,  0., 55.,  0.,  0.,  0.,  0.,  1.]),\n",
       " array([  1. ,  13.4,  25.8,  38.2,  50.6,  63. ,  75.4,  87.8, 100.2,\n",
       "        112.6, 125. ]),\n",
       " <a list of 10 Patch objects>)"
      ]
     },
     "execution_count": 36,
     "metadata": {},
     "output_type": "execute_result"
    },
    {
     "data": {
      "image/png": "[encoded data removed]",
      "text/plain": [
       "<Figure size 432x288 with 1 Axes>"
      ]
     },
     "metadata": {
      "needs_background": "light"
     },
     "output_type": "display_data"
    }
   ],
   "source": [
    "missing_rows = R00[VARIABLE].isna().any(axis=1)\n",
    "missing_subjects = R00[VARIABLE]['Subject'][missing_rows]\n",
    "miss_subj_amount =  R00[VARIABLE].loc[missing_rows,:].isna().sum(axis = 1)\n",
    "plt.xlabel('Columns')\n",
    "plt.ylabel('# Missing')\n",
    "plt.hist(miss_subj_amount)"
   ]
  },
  {
   "cell_type": "markdown",
   "metadata": {},
   "source": [
    "It seems that column O-r.6 is an empty column.\n",
    "Lets remove this one"
   ]
  },
  {
   "cell_type": "code",
   "execution_count": 37,
   "metadata": {},
   "outputs": [],
   "source": [
    "R00[VARIABLE] = R00[VARIABLE].drop(columns ='O-r.6').copy()"
   ]
  },
  {
   "cell_type": "code",
   "execution_count": 38,
   "metadata": {},
   "outputs": [
    {
     "data": {
      "text/plain": [
       "(array([ 2.,  1.,  0.,  0., 55.,  0.,  0.,  0.,  0.,  1.]),\n",
       " array([  1. ,  13.3,  25.6,  37.9,  50.2,  62.5,  74.8,  87.1,  99.4,\n",
       "        111.7, 124. ]),\n",
       " <a list of 10 Patch objects>)"
      ]
     },
     "execution_count": 38,
     "metadata": {},
     "output_type": "execute_result"
    },
    {
     "data": {
      "image/png": "[encoded data removed]",
      "text/plain": [
       "<Figure size 432x288 with 1 Axes>"
      ]
     },
     "metadata": {
      "needs_background": "light"
     },
     "output_type": "display_data"
    }
   ],
   "source": [
    "missing_rows = R00[VARIABLE].isna().any(axis=1)\n",
    "missing_subjects = R00[VARIABLE]['Subject'][missing_rows]\n",
    "miss_subj_amount =  R00[VARIABLE].loc[missing_rows,:].isna().sum(axis = 1)\n",
    "plt.xlabel('Columns')\n",
    "plt.ylabel('# Missing')\n",
    "plt.hist(miss_subj_amount)"
   ]
  },
  {
   "cell_type": "code",
   "execution_count": 39,
   "metadata": {},
   "outputs": [
    {
     "data": {
      "text/html": [
       "<div>\n",
       "<style scoped>\n",
       "    .dataframe tbody tr th:only-of-type {\n",
       "        vertical-align: middle;\n",
       "    }\n",
       "\n",
       "    .dataframe tbody tr th {\n",
       "        vertical-align: top;\n",
       "    }\n",
       "\n",
       "    .dataframe thead th {\n",
       "        text-align: right;\n",
       "    }\n",
       "</style>\n",
       "<table border=\"1\" class=\"dataframe\">\n",
       "  <thead>\n",
       "    <tr style=\"text-align: right;\">\n",
       "      <th></th>\n",
       "      <th>index</th>\n",
       "      <th>Subject</th>\n",
       "      <th>1) I am not a worrier.</th>\n",
       "      <th>N-r</th>\n",
       "      <th>2) I like to have a lot of people around me.</th>\n",
       "      <th>E</th>\n",
       "      <th>3) I don't like to waste my time daydreaming.</th>\n",
       "      <th>O-r</th>\n",
       "      <th>4) I try to be courteous to everyone I meet.</th>\n",
       "      <th>A</th>\n",
       "      <th>...</th>\n",
       "      <th>O.4</th>\n",
       "      <th>59) If necessary, I am willing to manipulate people to get what I want.</th>\n",
       "      <th>A-r.7</th>\n",
       "      <th>60) I strive for excellence in everything I do.</th>\n",
       "      <th>C.7</th>\n",
       "      <th>Neuroticism</th>\n",
       "      <th>Extraversion</th>\n",
       "      <th>Openness</th>\n",
       "      <th>Agreeableness</th>\n",
       "      <th>Conscientiousness</th>\n",
       "    </tr>\n",
       "  </thead>\n",
       "  <tbody>\n",
       "    <tr>\n",
       "      <th>0</th>\n",
       "      <td>0</td>\n",
       "      <td>1001</td>\n",
       "      <td>NaN</td>\n",
       "      <td>NaN</td>\n",
       "      <td>NaN</td>\n",
       "      <td>NaN</td>\n",
       "      <td>NaN</td>\n",
       "      <td>NaN</td>\n",
       "      <td>NaN</td>\n",
       "      <td>NaN</td>\n",
       "      <td>...</td>\n",
       "      <td>NaN</td>\n",
       "      <td>NaN</td>\n",
       "      <td>NaN</td>\n",
       "      <td>NaN</td>\n",
       "      <td>NaN</td>\n",
       "      <td>NaN</td>\n",
       "      <td>NaN</td>\n",
       "      <td>NaN</td>\n",
       "      <td>NaN</td>\n",
       "      <td>NaN</td>\n",
       "    </tr>\n",
       "  </tbody>\n",
       "</table>\n",
       "<p>1 rows × 126 columns</p>\n",
       "</div>"
      ],
      "text/plain": [
       "   index  Subject 1) I am not a worrier.  N-r  \\\n",
       "0      0     1001                    NaN  NaN   \n",
       "\n",
       "  2) I like to have a lot of people around me.   E  \\\n",
       "0                                          NaN NaN   \n",
       "\n",
       "  3) I don't like to waste my time daydreaming.  O-r  \\\n",
       "0                                           NaN  NaN   \n",
       "\n",
       "  4) I try to be courteous to everyone I meet.   A  ... O.4  \\\n",
       "0                                          NaN NaN  ... NaN   \n",
       "\n",
       "   59) If necessary, I am willing to manipulate people to get what I want.  \\\n",
       "0                                                NaN                         \n",
       "\n",
       "  A-r.7  60) I strive for excellence in everything I do. C.7  Neuroticism  \\\n",
       "0   NaN                                              NaN NaN          NaN   \n",
       "\n",
       "  Extraversion  Openness Agreeableness  Conscientiousness  \n",
       "0          NaN       NaN           NaN                NaN  \n",
       "\n",
       "[1 rows x 126 columns]"
      ]
     },
     "execution_count": 39,
     "metadata": {},
     "output_type": "execute_result"
    }
   ],
   "source": [
    "R00[VARIABLE].iloc[miss_subj_amount[miss_subj_amount > 90 ].index,:]"
   ]
  },
  {
   "cell_type": "code",
   "execution_count": 40,
   "metadata": {},
   "outputs": [
    {
     "data": {
      "text/html": [
       "<div>\n",
       "<style scoped>\n",
       "    .dataframe tbody tr th:only-of-type {\n",
       "        vertical-align: middle;\n",
       "    }\n",
       "\n",
       "    .dataframe tbody tr th {\n",
       "        vertical-align: top;\n",
       "    }\n",
       "\n",
       "    .dataframe thead th {\n",
       "        text-align: right;\n",
       "    }\n",
       "</style>\n",
       "<table border=\"1\" class=\"dataframe\">\n",
       "  <thead>\n",
       "    <tr style=\"text-align: right;\">\n",
       "      <th></th>\n",
       "      <th>index</th>\n",
       "      <th>Subject</th>\n",
       "      <th>1) I am not a worrier.</th>\n",
       "      <th>N-r</th>\n",
       "      <th>2) I like to have a lot of people around me.</th>\n",
       "      <th>E</th>\n",
       "      <th>3) I don't like to waste my time daydreaming.</th>\n",
       "      <th>O-r</th>\n",
       "      <th>4) I try to be courteous to everyone I meet.</th>\n",
       "      <th>A</th>\n",
       "      <th>...</th>\n",
       "      <th>O.4</th>\n",
       "      <th>59) If necessary, I am willing to manipulate people to get what I want.</th>\n",
       "      <th>A-r.7</th>\n",
       "      <th>60) I strive for excellence in everything I do.</th>\n",
       "      <th>C.7</th>\n",
       "      <th>Neuroticism</th>\n",
       "      <th>Extraversion</th>\n",
       "      <th>Openness</th>\n",
       "      <th>Agreeableness</th>\n",
       "      <th>Conscientiousness</th>\n",
       "    </tr>\n",
       "  </thead>\n",
       "  <tbody>\n",
       "    <tr>\n",
       "      <th>38</th>\n",
       "      <td>38</td>\n",
       "      <td>1039</td>\n",
       "      <td>Agree</td>\n",
       "      <td>2.0</td>\n",
       "      <td>Disagree</td>\n",
       "      <td>2.0</td>\n",
       "      <td>Neutral</td>\n",
       "      <td>3.0</td>\n",
       "      <td>Strongly Agree</td>\n",
       "      <td>5.0</td>\n",
       "      <td>...</td>\n",
       "      <td>4.0</td>\n",
       "      <td>Disagree</td>\n",
       "      <td>4.0</td>\n",
       "      <td>Agree</td>\n",
       "      <td>4.0</td>\n",
       "      <td>26.0</td>\n",
       "      <td>36.0</td>\n",
       "      <td>35.0</td>\n",
       "      <td>49.0</td>\n",
       "      <td>49.0</td>\n",
       "    </tr>\n",
       "    <tr>\n",
       "      <th>64</th>\n",
       "      <td>64</td>\n",
       "      <td>1065</td>\n",
       "      <td>Neutral</td>\n",
       "      <td>3.0</td>\n",
       "      <td>Disagree</td>\n",
       "      <td>2.0</td>\n",
       "      <td>Neutral</td>\n",
       "      <td>3.0</td>\n",
       "      <td>Strongly Agree</td>\n",
       "      <td>5.0</td>\n",
       "      <td>...</td>\n",
       "      <td>2.0</td>\n",
       "      <td>Strongly disagree</td>\n",
       "      <td>5.0</td>\n",
       "      <td>Agree</td>\n",
       "      <td>4.0</td>\n",
       "      <td>33.0</td>\n",
       "      <td>28.0</td>\n",
       "      <td>28.0</td>\n",
       "      <td>39.0</td>\n",
       "      <td>32.0</td>\n",
       "    </tr>\n",
       "    <tr>\n",
       "      <th>99</th>\n",
       "      <td>99</td>\n",
       "      <td>1100</td>\n",
       "      <td>Strongly Agree</td>\n",
       "      <td>1.0</td>\n",
       "      <td>Strongly Disagree</td>\n",
       "      <td>1.0</td>\n",
       "      <td>Strongly Agree</td>\n",
       "      <td>1.0</td>\n",
       "      <td>Agree</td>\n",
       "      <td>4.0</td>\n",
       "      <td>...</td>\n",
       "      <td>4.0</td>\n",
       "      <td>Neutral</td>\n",
       "      <td>3.0</td>\n",
       "      <td>Agree</td>\n",
       "      <td>4.0</td>\n",
       "      <td>17.0</td>\n",
       "      <td>35.0</td>\n",
       "      <td>31.0</td>\n",
       "      <td>42.0</td>\n",
       "      <td>43.0</td>\n",
       "    </tr>\n",
       "  </tbody>\n",
       "</table>\n",
       "<p>3 rows × 126 columns</p>\n",
       "</div>"
      ],
      "text/plain": [
       "    index  Subject 1) I am not a worrier.  N-r  \\\n",
       "38     38     1039                  Agree  2.0   \n",
       "64     64     1065                Neutral  3.0   \n",
       "99     99     1100         Strongly Agree  1.0   \n",
       "\n",
       "   2) I like to have a lot of people around me.    E  \\\n",
       "38                                     Disagree  2.0   \n",
       "64                                     Disagree  2.0   \n",
       "99                            Strongly Disagree  1.0   \n",
       "\n",
       "   3) I don't like to waste my time daydreaming.  O-r  \\\n",
       "38                                       Neutral  3.0   \n",
       "64                                       Neutral  3.0   \n",
       "99                                Strongly Agree  1.0   \n",
       "\n",
       "   4) I try to be courteous to everyone I meet.    A  ...  O.4  \\\n",
       "38                               Strongly Agree  5.0  ...  4.0   \n",
       "64                               Strongly Agree  5.0  ...  2.0   \n",
       "99                                        Agree  4.0  ...  4.0   \n",
       "\n",
       "    59) If necessary, I am willing to manipulate people to get what I want.  \\\n",
       "38                                           Disagree                         \n",
       "64                                  Strongly disagree                         \n",
       "99                                            Neutral                         \n",
       "\n",
       "   A-r.7  60) I strive for excellence in everything I do.  C.7  Neuroticism  \\\n",
       "38   4.0                                            Agree  4.0         26.0   \n",
       "64   5.0                                            Agree  4.0         33.0   \n",
       "99   3.0                                            Agree  4.0         17.0   \n",
       "\n",
       "   Extraversion  Openness Agreeableness  Conscientiousness  \n",
       "38         36.0      35.0          49.0               49.0  \n",
       "64         28.0      28.0          39.0               32.0  \n",
       "99         35.0      31.0          42.0               43.0  \n",
       "\n",
       "[3 rows x 126 columns]"
      ]
     },
     "execution_count": 40,
     "metadata": {},
     "output_type": "execute_result"
    }
   ],
   "source": [
    "R00[VARIABLE].iloc[miss_subj_amount[miss_subj_amount < 22 ].index,:]"
   ]
  },
  {
   "cell_type": "code",
   "execution_count": 41,
   "metadata": {},
   "outputs": [],
   "source": [
    "ammount_sort =  sorted(list(zip(missing_subjects,miss_subj_amount)), key =  lambda elem : elem[1] )"
   ]
  },
  {
   "cell_type": "code",
   "execution_count": 42,
   "metadata": {},
   "outputs": [
    {
     "data": {
      "text/plain": [
       "[(1039, 1),\n",
       " (1100, 1),\n",
       " (1065, 14),\n",
       " (1003, 60),\n",
       " (1005, 60),\n",
       " (1006, 60),\n",
       " (1007, 60),\n",
       " (1010, 60),\n",
       " (1011, 60),\n",
       " (1012, 60),\n",
       " (1013, 60),\n",
       " (1015, 60),\n",
       " (1016, 60),\n",
       " (1017, 60),\n",
       " (1022, 60),\n",
       " (1023, 60),\n",
       " (1025, 60),\n",
       " (1026, 60),\n",
       " (1027, 60),\n",
       " (1028, 60),\n",
       " (1031, 60),\n",
       " (1033, 60),\n",
       " (1036, 60),\n",
       " (1038, 60),\n",
       " (1040, 60),\n",
       " (1042, 60),\n",
       " (1043, 60),\n",
       " (1044, 60),\n",
       " (1046, 60),\n",
       " (1052, 60),\n",
       " (1054, 60),\n",
       " (1056, 60),\n",
       " (1057, 60),\n",
       " (1059, 60),\n",
       " (1061, 60),\n",
       " (1062, 60),\n",
       " (1063, 60),\n",
       " (1064, 60),\n",
       " (1068, 60),\n",
       " (1069, 60),\n",
       " (1070, 60),\n",
       " (1071, 60),\n",
       " (1072, 60),\n",
       " (1074, 60),\n",
       " (1075, 60),\n",
       " (1076, 60),\n",
       " (1077, 60),\n",
       " (1078, 60),\n",
       " (1082, 60),\n",
       " (1083, 60),\n",
       " (1086, 60),\n",
       " (1088, 60),\n",
       " (1090, 60),\n",
       " (1091, 60),\n",
       " (1093, 60),\n",
       " (1094, 60),\n",
       " (1095, 60),\n",
       " (1102, 60),\n",
       " (1001, 124)]"
      ]
     },
     "execution_count": 42,
     "metadata": {},
     "output_type": "execute_result"
    }
   ],
   "source": [
    "ammount_sort"
   ]
  },
  {
   "cell_type": "markdown",
   "metadata": {},
   "source": [
    "3 subjects missing data, 2 of these are missing one field only.\n",
    "Subject 1065 is missing 14 questions. Maybe we should invalid this subject results."
   ]
  },
  {
   "cell_type": "code",
   "execution_count": 43,
   "metadata": {},
   "outputs": [
    {
     "data": {
      "text/plain": [
       "47"
      ]
     },
     "execution_count": 43,
     "metadata": {},
     "output_type": "execute_result"
    }
   ],
   "source": [
    "R00[VARIABLE]['Subject'].shape[0] - miss_subj_amount[miss_subj_amount >  1].count()"
   ]
  },
  {
   "cell_type": "code",
   "execution_count": 44,
   "metadata": {},
   "outputs": [],
   "source": [
    "ALL_MISSING_SUBJECTS[VARIABLE] = list(zip(missing_subjects,miss_subj_amount))"
   ]
  },
  {
   "cell_type": "markdown",
   "metadata": {},
   "source": [
    "### AVI"
   ]
  },
  {
   "cell_type": "code",
   "execution_count": 45,
   "metadata": {},
   "outputs": [
    {
     "name": "stdout",
     "output_type": "stream",
     "text": [
      "Unique subjects:  104\n",
      "All subjects :  105\n"
     ]
    }
   ],
   "source": [
    "VARIABLE = 'AVI'\n",
    "#First row is always the field `subject` for every variable.\n",
    "print('Unique subjects: ', R00[VARIABLE]['Subject'].unique().shape[0])\n",
    "print('All subjects : ', R00[VARIABLE]['Subject'].shape[0])"
   ]
  },
  {
   "cell_type": "code",
   "execution_count": 46,
   "metadata": {},
   "outputs": [
    {
     "data": {
      "text/plain": [
       "1103    2\n",
       "Name: Subject, dtype: int64"
      ]
     },
     "execution_count": 46,
     "metadata": {},
     "output_type": "execute_result"
    }
   ],
   "source": [
    "R00[VARIABLE]['Subject'].value_counts()[R00[VARIABLE]['Subject'].value_counts() > 1]"
   ]
  },
  {
   "cell_type": "code",
   "execution_count": 47,
   "metadata": {},
   "outputs": [
    {
     "data": {
      "text/html": [
       "<div>\n",
       "<style scoped>\n",
       "    .dataframe tbody tr th:only-of-type {\n",
       "        vertical-align: middle;\n",
       "    }\n",
       "\n",
       "    .dataframe tbody tr th {\n",
       "        vertical-align: top;\n",
       "    }\n",
       "\n",
       "    .dataframe thead th {\n",
       "        text-align: right;\n",
       "    }\n",
       "</style>\n",
       "<table border=\"1\" class=\"dataframe\">\n",
       "  <thead>\n",
       "    <tr style=\"text-align: right;\">\n",
       "      <th></th>\n",
       "      <th>Subject</th>\n",
       "      <th>Actually Feel: Enthusiastic</th>\n",
       "      <th>Actual HAP</th>\n",
       "      <th>Actually Feel: Dull</th>\n",
       "      <th>Actual LAN</th>\n",
       "      <th>Actually Feel: Excited</th>\n",
       "      <th>Actual HAP.1</th>\n",
       "      <th>Actually Feel: Sleepy</th>\n",
       "      <th>Actual LAN.1</th>\n",
       "      <th>Actually Feel: Strong</th>\n",
       "      <th>...</th>\n",
       "      <th>HAN_actual</th>\n",
       "      <th>HA_actual</th>\n",
       "      <th>HAP_ideal</th>\n",
       "      <th>P_ideal</th>\n",
       "      <th>LAP_actual.1</th>\n",
       "      <th>LA_ideal</th>\n",
       "      <th>LAN_ideal</th>\n",
       "      <th>N_ideal</th>\n",
       "      <th>HAN_ideal</th>\n",
       "      <th>HA_ideal</th>\n",
       "    </tr>\n",
       "  </thead>\n",
       "  <tbody>\n",
       "    <tr>\n",
       "      <th>102</th>\n",
       "      <td>1103</td>\n",
       "      <td>NaN</td>\n",
       "      <td>0.0</td>\n",
       "      <td>NaN</td>\n",
       "      <td>0.0</td>\n",
       "      <td>NaN</td>\n",
       "      <td>0.0</td>\n",
       "      <td>NaN</td>\n",
       "      <td>0.0</td>\n",
       "      <td>NaN</td>\n",
       "      <td>...</td>\n",
       "      <td>NaN</td>\n",
       "      <td>NaN</td>\n",
       "      <td>NaN</td>\n",
       "      <td>NaN</td>\n",
       "      <td>NaN</td>\n",
       "      <td>NaN</td>\n",
       "      <td>NaN</td>\n",
       "      <td>NaN</td>\n",
       "      <td>NaN</td>\n",
       "      <td>NaN</td>\n",
       "    </tr>\n",
       "    <tr>\n",
       "      <th>103</th>\n",
       "      <td>1103</td>\n",
       "      <td>M</td>\n",
       "      <td>4.0</td>\n",
       "      <td>N</td>\n",
       "      <td>1.0</td>\n",
       "      <td>H</td>\n",
       "      <td>3.0</td>\n",
       "      <td>H</td>\n",
       "      <td>3.0</td>\n",
       "      <td>M</td>\n",
       "      <td>...</td>\n",
       "      <td>2.333333</td>\n",
       "      <td>2.0</td>\n",
       "      <td>4.0</td>\n",
       "      <td>4.0</td>\n",
       "      <td>4.2</td>\n",
       "      <td>2.0</td>\n",
       "      <td>1.333333</td>\n",
       "      <td>2.0</td>\n",
       "      <td>2.0</td>\n",
       "      <td>2.666667</td>\n",
       "    </tr>\n",
       "  </tbody>\n",
       "</table>\n",
       "<p>2 rows × 137 columns</p>\n",
       "</div>"
      ],
      "text/plain": [
       "     Subject Actually Feel: Enthusiastic  Actual HAP Actually Feel: Dull  \\\n",
       "102     1103                         NaN         0.0                 NaN   \n",
       "103     1103                           M         4.0                   N   \n",
       "\n",
       "     Actual LAN Actually Feel: Excited  Actual HAP.1 Actually Feel: Sleepy  \\\n",
       "102         0.0                    NaN           0.0                   NaN   \n",
       "103         1.0                      H           3.0                     H   \n",
       "\n",
       "     Actual LAN.1 Actually Feel: Strong  ...  HAN_actual HA_actual  HAP_ideal  \\\n",
       "102           0.0                   NaN  ...         NaN       NaN        NaN   \n",
       "103           3.0                     M  ...    2.333333       2.0        4.0   \n",
       "\n",
       "    P_ideal  LAP_actual.1 LA_ideal  LAN_ideal N_ideal  HAN_ideal  HA_ideal  \n",
       "102     NaN           NaN      NaN        NaN     NaN        NaN       NaN  \n",
       "103     4.0           4.2      2.0   1.333333     2.0        2.0  2.666667  \n",
       "\n",
       "[2 rows x 137 columns]"
      ]
     },
     "execution_count": 47,
     "metadata": {},
     "output_type": "execute_result"
    }
   ],
   "source": [
    "R00[VARIABLE].loc[R00[VARIABLE]['Subject'] == 1103, : ]"
   ]
  },
  {
   "cell_type": "code",
   "execution_count": 48,
   "metadata": {},
   "outputs": [],
   "source": [
    "R00[VARIABLE] = R00[VARIABLE].drop(102).reset_index().copy()"
   ]
  },
  {
   "cell_type": "code",
   "execution_count": 49,
   "metadata": {},
   "outputs": [
    {
     "name": "stdout",
     "output_type": "stream",
     "text": [
      "COLUMNS:  138\n",
      "COLUMN WITH MAX NUM OF MISSINGS:  53 | Column:  Actually Feel: Aroused\n"
     ]
    },
    {
     "data": {
      "text/plain": [
       "index                           0\n",
       "Subject                         0\n",
       "Actually Feel: Enthusiastic    52\n",
       "Actual HAP                      1\n",
       "Actually Feel: Dull            52\n",
       "Actual LAN                      1\n",
       "Actually Feel: Excited         52\n",
       "Actual HAP.1                    1\n",
       "Actually Feel: Sleepy          52\n",
       "Actual LAN.1                    1\n",
       "Actually Feel: Strong          52\n",
       "Actual HAP.2                    1\n",
       "Actually Feel: Sluggish        52\n",
       "Actual LAN.2                    1\n",
       "Actually Feel: Euphoric        52\n",
       "Actual HAP.3                    1\n",
       "Actually Feel: Idle            52\n",
       "Actual LA                       1\n",
       "Actually Feel: Aroused         53\n",
       "Actual HA                       1\n",
       "Actually Feel: Rested          52\n",
       "Actual LAP                      1\n",
       "Actually Feel: Astonished      52\n",
       "Actual HA.1                     1\n",
       "Actually Feel: Quiet           52\n",
       "Actual LA.1                     1\n",
       "Actually Feel: Surprised       52\n",
       "Actual HA.2                     1\n",
       "Actually Feel: Still           53\n",
       "Actual LA.2                     1\n",
       "                               ..\n",
       "Ideally Feel: Lonely           52\n",
       "Ideal N                         1\n",
       "Ideally Feel: Content          52\n",
       "Ideal P                         1\n",
       "Ideally Feel: Sad              52\n",
       "Ideal N.1                       1\n",
       "Ideally Feel: Happy            52\n",
       "Ideal P.1                       1\n",
       "Ideally Feel: Unhappy          52\n",
       "Ideal N.2                       1\n",
       "Ideally Feel: Satisfied        52\n",
       "Ideal P.2                       1\n",
       "Ideally Feel: Serene           51\n",
       "Ideal LAP.4                     1\n",
       "HAP_actual                     52\n",
       "P_actual                       52\n",
       "LAP_actual                     52\n",
       "LA_actual                      52\n",
       "LAN_actual                     52\n",
       "N_actual                       52\n",
       "HAN_actual                     52\n",
       "HA_actual                      52\n",
       "HAP_ideal                      52\n",
       "P_ideal                        52\n",
       "LAP_actual.1                   51\n",
       "LA_ideal                       52\n",
       "LAN_ideal                      52\n",
       "N_ideal                        52\n",
       "HAN_ideal                      52\n",
       "HA_ideal                       52\n",
       "Length: 138, dtype: int64"
      ]
     },
     "execution_count": 49,
     "metadata": {},
     "output_type": "execute_result"
    }
   ],
   "source": [
    "print('COLUMNS: ',R00[VARIABLE].shape[1])\n",
    "print('COLUMN WITH MAX NUM OF MISSINGS: ', R00[VARIABLE].isna().sum().max() , '| Column: ' , R00[VARIABLE].isna().sum().idxmax())\n",
    "R00[VARIABLE].isna().sum()"
   ]
  },
  {
   "cell_type": "code",
   "execution_count": 50,
   "metadata": {},
   "outputs": [
    {
     "data": {
      "text/plain": [
       "(array([ 5.,  0.,  0.,  0.,  0., 51.,  0.,  0.,  0.,  1.]),\n",
       " array([  1. ,  14.5,  28. ,  41.5,  55. ,  68.5,  82. ,  95.5, 109. ,\n",
       "        122.5, 136. ]),\n",
       " <a list of 10 Patch objects>)"
      ]
     },
     "execution_count": 50,
     "metadata": {},
     "output_type": "execute_result"
    },
    {
     "data": {
      "image/png": "[encoded data removed]",
      "text/plain": [
       "<Figure size 432x288 with 1 Axes>"
      ]
     },
     "metadata": {
      "needs_background": "light"
     },
     "output_type": "display_data"
    }
   ],
   "source": [
    "missing_rows = R00[VARIABLE].isna().any(axis=1)\n",
    "missing_subjects = R00[VARIABLE]['Subject'][missing_rows]\n",
    "miss_subj_amount =  R00[VARIABLE].loc[missing_rows,:].isna().sum(axis = 1)\n",
    "plt.xlabel('Columns')\n",
    "plt.ylabel('# Missing')\n",
    "plt.hist(miss_subj_amount)"
   ]
  },
  {
   "cell_type": "code",
   "execution_count": 51,
   "metadata": {},
   "outputs": [
    {
     "data": {
      "text/html": [
       "<div>\n",
       "<style scoped>\n",
       "    .dataframe tbody tr th:only-of-type {\n",
       "        vertical-align: middle;\n",
       "    }\n",
       "\n",
       "    .dataframe tbody tr th {\n",
       "        vertical-align: top;\n",
       "    }\n",
       "\n",
       "    .dataframe thead th {\n",
       "        text-align: right;\n",
       "    }\n",
       "</style>\n",
       "<table border=\"1\" class=\"dataframe\">\n",
       "  <thead>\n",
       "    <tr style=\"text-align: right;\">\n",
       "      <th></th>\n",
       "      <th>index</th>\n",
       "      <th>Subject</th>\n",
       "      <th>Actually Feel: Enthusiastic</th>\n",
       "      <th>Actual HAP</th>\n",
       "      <th>Actually Feel: Dull</th>\n",
       "      <th>Actual LAN</th>\n",
       "      <th>Actually Feel: Excited</th>\n",
       "      <th>Actual HAP.1</th>\n",
       "      <th>Actually Feel: Sleepy</th>\n",
       "      <th>Actual LAN.1</th>\n",
       "      <th>...</th>\n",
       "      <th>HAN_actual</th>\n",
       "      <th>HA_actual</th>\n",
       "      <th>HAP_ideal</th>\n",
       "      <th>P_ideal</th>\n",
       "      <th>LAP_actual.1</th>\n",
       "      <th>LA_ideal</th>\n",
       "      <th>LAN_ideal</th>\n",
       "      <th>N_ideal</th>\n",
       "      <th>HAN_ideal</th>\n",
       "      <th>HA_ideal</th>\n",
       "    </tr>\n",
       "  </thead>\n",
       "  <tbody>\n",
       "    <tr>\n",
       "      <th>0</th>\n",
       "      <td>0</td>\n",
       "      <td>1001</td>\n",
       "      <td>NaN</td>\n",
       "      <td>NaN</td>\n",
       "      <td>NaN</td>\n",
       "      <td>NaN</td>\n",
       "      <td>NaN</td>\n",
       "      <td>NaN</td>\n",
       "      <td>NaN</td>\n",
       "      <td>NaN</td>\n",
       "      <td>...</td>\n",
       "      <td>NaN</td>\n",
       "      <td>NaN</td>\n",
       "      <td>NaN</td>\n",
       "      <td>NaN</td>\n",
       "      <td>NaN</td>\n",
       "      <td>NaN</td>\n",
       "      <td>NaN</td>\n",
       "      <td>NaN</td>\n",
       "      <td>NaN</td>\n",
       "      <td>NaN</td>\n",
       "    </tr>\n",
       "  </tbody>\n",
       "</table>\n",
       "<p>1 rows × 138 columns</p>\n",
       "</div>"
      ],
      "text/plain": [
       "   index  Subject Actually Feel: Enthusiastic  Actual HAP Actually Feel: Dull  \\\n",
       "0      0     1001                         NaN         NaN                 NaN   \n",
       "\n",
       "   Actual LAN Actually Feel: Excited  Actual HAP.1 Actually Feel: Sleepy  \\\n",
       "0         NaN                    NaN           NaN                   NaN   \n",
       "\n",
       "   Actual LAN.1  ... HAN_actual  HA_actual HAP_ideal  P_ideal LAP_actual.1  \\\n",
       "0           NaN  ...        NaN        NaN       NaN      NaN          NaN   \n",
       "\n",
       "   LA_ideal LAN_ideal  N_ideal HAN_ideal  HA_ideal  \n",
       "0       NaN       NaN      NaN       NaN       NaN  \n",
       "\n",
       "[1 rows x 138 columns]"
      ]
     },
     "execution_count": 51,
     "metadata": {},
     "output_type": "execute_result"
    }
   ],
   "source": [
    "R00[VARIABLE].iloc[miss_subj_amount[miss_subj_amount > 90 ].index,:]"
   ]
  },
  {
   "cell_type": "code",
   "execution_count": 52,
   "metadata": {},
   "outputs": [
    {
     "data": {
      "text/html": [
       "<div>\n",
       "<style scoped>\n",
       "    .dataframe tbody tr th:only-of-type {\n",
       "        vertical-align: middle;\n",
       "    }\n",
       "\n",
       "    .dataframe tbody tr th {\n",
       "        vertical-align: top;\n",
       "    }\n",
       "\n",
       "    .dataframe thead th {\n",
       "        text-align: right;\n",
       "    }\n",
       "</style>\n",
       "<table border=\"1\" class=\"dataframe\">\n",
       "  <thead>\n",
       "    <tr style=\"text-align: right;\">\n",
       "      <th></th>\n",
       "      <th>index</th>\n",
       "      <th>Subject</th>\n",
       "      <th>Actually Feel: Enthusiastic</th>\n",
       "      <th>Actual HAP</th>\n",
       "      <th>Actually Feel: Dull</th>\n",
       "      <th>Actual LAN</th>\n",
       "      <th>Actually Feel: Excited</th>\n",
       "      <th>Actual HAP.1</th>\n",
       "      <th>Actually Feel: Sleepy</th>\n",
       "      <th>Actual LAN.1</th>\n",
       "      <th>...</th>\n",
       "      <th>HAN_actual</th>\n",
       "      <th>HA_actual</th>\n",
       "      <th>HAP_ideal</th>\n",
       "      <th>P_ideal</th>\n",
       "      <th>LAP_actual.1</th>\n",
       "      <th>LA_ideal</th>\n",
       "      <th>LAN_ideal</th>\n",
       "      <th>N_ideal</th>\n",
       "      <th>HAN_ideal</th>\n",
       "      <th>HA_ideal</th>\n",
       "    </tr>\n",
       "  </thead>\n",
       "  <tbody>\n",
       "    <tr>\n",
       "      <th>9</th>\n",
       "      <td>9</td>\n",
       "      <td>1010</td>\n",
       "      <td>M</td>\n",
       "      <td>4.0</td>\n",
       "      <td>A</td>\n",
       "      <td>2.0</td>\n",
       "      <td>H</td>\n",
       "      <td>3.0</td>\n",
       "      <td>A</td>\n",
       "      <td>2.0</td>\n",
       "      <td>...</td>\n",
       "      <td>2.000000</td>\n",
       "      <td>2.000000</td>\n",
       "      <td>3.2</td>\n",
       "      <td>4.333333</td>\n",
       "      <td>4.5</td>\n",
       "      <td>2.2</td>\n",
       "      <td>1.666667</td>\n",
       "      <td>1.000000</td>\n",
       "      <td>1.000000</td>\n",
       "      <td>2.000000</td>\n",
       "    </tr>\n",
       "    <tr>\n",
       "      <th>11</th>\n",
       "      <td>11</td>\n",
       "      <td>1012</td>\n",
       "      <td>M</td>\n",
       "      <td>4.0</td>\n",
       "      <td>A</td>\n",
       "      <td>2.0</td>\n",
       "      <td>H</td>\n",
       "      <td>3.0</td>\n",
       "      <td>ALL</td>\n",
       "      <td>5.0</td>\n",
       "      <td>...</td>\n",
       "      <td>1.000000</td>\n",
       "      <td>3.333333</td>\n",
       "      <td>5.0</td>\n",
       "      <td>4.000000</td>\n",
       "      <td>4.4</td>\n",
       "      <td>1.8</td>\n",
       "      <td>1.000000</td>\n",
       "      <td>1.000000</td>\n",
       "      <td>1.000000</td>\n",
       "      <td>1.333333</td>\n",
       "    </tr>\n",
       "    <tr>\n",
       "      <th>57</th>\n",
       "      <td>57</td>\n",
       "      <td>1058</td>\n",
       "      <td>A</td>\n",
       "      <td>2.0</td>\n",
       "      <td>A</td>\n",
       "      <td>2.0</td>\n",
       "      <td>H</td>\n",
       "      <td>3.0</td>\n",
       "      <td>A</td>\n",
       "      <td>2.0</td>\n",
       "      <td>...</td>\n",
       "      <td>2.333333</td>\n",
       "      <td>2.333333</td>\n",
       "      <td>3.4</td>\n",
       "      <td>4.000000</td>\n",
       "      <td>4.2</td>\n",
       "      <td>2.8</td>\n",
       "      <td>1.333333</td>\n",
       "      <td>2.333333</td>\n",
       "      <td>1.333333</td>\n",
       "      <td>2.333333</td>\n",
       "    </tr>\n",
       "    <tr>\n",
       "      <th>99</th>\n",
       "      <td>99</td>\n",
       "      <td>1100</td>\n",
       "      <td>A</td>\n",
       "      <td>2.0</td>\n",
       "      <td>N</td>\n",
       "      <td>1.0</td>\n",
       "      <td>H</td>\n",
       "      <td>3.0</td>\n",
       "      <td>A</td>\n",
       "      <td>2.0</td>\n",
       "      <td>...</td>\n",
       "      <td>1.000000</td>\n",
       "      <td>1.666667</td>\n",
       "      <td>2.4</td>\n",
       "      <td>5.000000</td>\n",
       "      <td>4.6</td>\n",
       "      <td>2.6</td>\n",
       "      <td>1.666667</td>\n",
       "      <td>1.000000</td>\n",
       "      <td>1.000000</td>\n",
       "      <td>2.666667</td>\n",
       "    </tr>\n",
       "    <tr>\n",
       "      <th>102</th>\n",
       "      <td>103</td>\n",
       "      <td>1103</td>\n",
       "      <td>M</td>\n",
       "      <td>4.0</td>\n",
       "      <td>N</td>\n",
       "      <td>1.0</td>\n",
       "      <td>H</td>\n",
       "      <td>3.0</td>\n",
       "      <td>H</td>\n",
       "      <td>3.0</td>\n",
       "      <td>...</td>\n",
       "      <td>2.333333</td>\n",
       "      <td>2.000000</td>\n",
       "      <td>4.0</td>\n",
       "      <td>4.000000</td>\n",
       "      <td>4.2</td>\n",
       "      <td>2.0</td>\n",
       "      <td>1.333333</td>\n",
       "      <td>2.000000</td>\n",
       "      <td>2.000000</td>\n",
       "      <td>2.666667</td>\n",
       "    </tr>\n",
       "  </tbody>\n",
       "</table>\n",
       "<p>5 rows × 138 columns</p>\n",
       "</div>"
      ],
      "text/plain": [
       "     index  Subject Actually Feel: Enthusiastic  Actual HAP  \\\n",
       "9        9     1010                           M         4.0   \n",
       "11      11     1012                           M         4.0   \n",
       "57      57     1058                           A         2.0   \n",
       "99      99     1100                           A         2.0   \n",
       "102    103     1103                           M         4.0   \n",
       "\n",
       "    Actually Feel: Dull  Actual LAN Actually Feel: Excited  Actual HAP.1  \\\n",
       "9                     A         2.0                      H           3.0   \n",
       "11                    A         2.0                      H           3.0   \n",
       "57                    A         2.0                      H           3.0   \n",
       "99                    N         1.0                      H           3.0   \n",
       "102                   N         1.0                      H           3.0   \n",
       "\n",
       "    Actually Feel: Sleepy  Actual LAN.1  ... HAN_actual  HA_actual HAP_ideal  \\\n",
       "9                       A           2.0  ...   2.000000   2.000000       3.2   \n",
       "11                    ALL           5.0  ...   1.000000   3.333333       5.0   \n",
       "57                      A           2.0  ...   2.333333   2.333333       3.4   \n",
       "99                      A           2.0  ...   1.000000   1.666667       2.4   \n",
       "102                     H           3.0  ...   2.333333   2.000000       4.0   \n",
       "\n",
       "      P_ideal LAP_actual.1  LA_ideal LAN_ideal   N_ideal HAN_ideal  HA_ideal  \n",
       "9    4.333333          4.5       2.2  1.666667  1.000000  1.000000  2.000000  \n",
       "11   4.000000          4.4       1.8  1.000000  1.000000  1.000000  1.333333  \n",
       "57   4.000000          4.2       2.8  1.333333  2.333333  1.333333  2.333333  \n",
       "99   5.000000          4.6       2.6  1.666667  1.000000  1.000000  2.666667  \n",
       "102  4.000000          4.2       2.0  1.333333  2.000000  2.000000  2.666667  \n",
       "\n",
       "[5 rows x 138 columns]"
      ]
     },
     "execution_count": 52,
     "metadata": {},
     "output_type": "execute_result"
    }
   ],
   "source": [
    "R00[VARIABLE].iloc[miss_subj_amount[miss_subj_amount < 20 ].index,:]"
   ]
  },
  {
   "cell_type": "code",
   "execution_count": 53,
   "metadata": {},
   "outputs": [
    {
     "data": {
      "text/plain": [
       "[(1010, 1),\n",
       " (1012, 1),\n",
       " (1058, 1),\n",
       " (1103, 1),\n",
       " (1100, 2),\n",
       " (1015, 74),\n",
       " (1003, 76),\n",
       " (1005, 76),\n",
       " (1006, 76),\n",
       " (1007, 76),\n",
       " (1016, 76),\n",
       " (1017, 76),\n",
       " (1022, 76),\n",
       " (1023, 76),\n",
       " (1025, 76),\n",
       " (1026, 76),\n",
       " (1027, 76),\n",
       " (1028, 76),\n",
       " (1031, 76),\n",
       " (1033, 76),\n",
       " (1036, 76),\n",
       " (1038, 76),\n",
       " (1040, 76),\n",
       " (1042, 76),\n",
       " (1043, 76),\n",
       " (1044, 76),\n",
       " (1046, 76),\n",
       " (1052, 76),\n",
       " (1054, 76),\n",
       " (1056, 76),\n",
       " (1057, 76),\n",
       " (1059, 76),\n",
       " (1061, 76),\n",
       " (1062, 76),\n",
       " (1063, 76),\n",
       " (1064, 76),\n",
       " (1068, 76),\n",
       " (1069, 76),\n",
       " (1070, 76),\n",
       " (1071, 76),\n",
       " (1072, 76),\n",
       " (1074, 76),\n",
       " (1075, 76),\n",
       " (1076, 76),\n",
       " (1077, 76),\n",
       " (1078, 76),\n",
       " (1082, 76),\n",
       " (1083, 76),\n",
       " (1086, 76),\n",
       " (1088, 76),\n",
       " (1090, 76),\n",
       " (1091, 76),\n",
       " (1093, 76),\n",
       " (1094, 76),\n",
       " (1095, 76),\n",
       " (1102, 76),\n",
       " (1001, 136)]"
      ]
     },
     "execution_count": 53,
     "metadata": {},
     "output_type": "execute_result"
    }
   ],
   "source": [
    "ammount_sort =  sorted(list(zip(missing_subjects,miss_subj_amount)), key =  lambda elem : elem[1] )\n",
    "ammount_sort"
   ]
  },
  {
   "cell_type": "markdown",
   "metadata": {},
   "source": [
    "As in the other cases the subect 1001 is always empty. Let's remove this one\n",
    "\n",
    "51 with missing +- 76 missing values\n",
    "\n",
    "5 subject missing  at least one field\n"
   ]
  },
  {
   "cell_type": "code",
   "execution_count": 54,
   "metadata": {},
   "outputs": [],
   "source": [
    "ALL_MISSING_SUBJECTS[VARIABLE] = ammount_sort"
   ]
  },
  {
   "cell_type": "markdown",
   "metadata": {},
   "source": [
    "---"
   ]
  },
  {
   "cell_type": "markdown",
   "metadata": {},
   "source": [
    "## BIS"
   ]
  },
  {
   "cell_type": "code",
   "execution_count": 55,
   "metadata": {},
   "outputs": [
    {
     "name": "stdout",
     "output_type": "stream",
     "text": [
      "Unique subjects:  104\n",
      "All subjects :  105\n"
     ]
    }
   ],
   "source": [
    "VARIABLE = 'BIS'\n",
    "print('Unique subjects: ', R00[VARIABLE]['Subject'].unique().shape[0])\n",
    "print('All subjects : ', R00[VARIABLE]['Subject'].shape[0])"
   ]
  },
  {
   "cell_type": "code",
   "execution_count": 56,
   "metadata": {},
   "outputs": [
    {
     "data": {
      "text/plain": [
       "1103    2\n",
       "Name: Subject, dtype: int64"
      ]
     },
     "execution_count": 56,
     "metadata": {},
     "output_type": "execute_result"
    }
   ],
   "source": [
    "R00[VARIABLE]['Subject'].value_counts()[R00[VARIABLE]['Subject'].value_counts() > 1]"
   ]
  },
  {
   "cell_type": "code",
   "execution_count": 57,
   "metadata": {},
   "outputs": [
    {
     "data": {
      "text/html": [
       "<div>\n",
       "<style scoped>\n",
       "    .dataframe tbody tr th:only-of-type {\n",
       "        vertical-align: middle;\n",
       "    }\n",
       "\n",
       "    .dataframe tbody tr th {\n",
       "        vertical-align: top;\n",
       "    }\n",
       "\n",
       "    .dataframe thead th {\n",
       "        text-align: right;\n",
       "    }\n",
       "</style>\n",
       "<table border=\"1\" class=\"dataframe\">\n",
       "  <thead>\n",
       "    <tr style=\"text-align: right;\">\n",
       "      <th></th>\n",
       "      <th>Subject</th>\n",
       "      <th>1) I plan tasks carefully.</th>\n",
       "      <th>Self Control/Nonplanning-reverse</th>\n",
       "      <th>2) I do things without thinking.</th>\n",
       "      <th>Motor/Motor</th>\n",
       "      <th>3) I make up my mind quickly.</th>\n",
       "      <th>Motor/Motor.1</th>\n",
       "      <th>4) I am happy-go-lucky.</th>\n",
       "      <th>Motor/Motor.2</th>\n",
       "      <th>5) I don't \"pay attention\".</th>\n",
       "      <th>...</th>\n",
       "      <th>BIS_total</th>\n",
       "      <th>Attention_1</th>\n",
       "      <th>CogIns</th>\n",
       "      <th>Motor_1</th>\n",
       "      <th>Perserverance</th>\n",
       "      <th>Self-Control</th>\n",
       "      <th>CogComp</th>\n",
       "      <th>Attention_2</th>\n",
       "      <th>Motor_2</th>\n",
       "      <th>Nonplanning</th>\n",
       "    </tr>\n",
       "  </thead>\n",
       "  <tbody>\n",
       "    <tr>\n",
       "      <th>102</th>\n",
       "      <td>1103</td>\n",
       "      <td>NaN</td>\n",
       "      <td>0.0</td>\n",
       "      <td>NaN</td>\n",
       "      <td>NaN</td>\n",
       "      <td>NaN</td>\n",
       "      <td>NaN</td>\n",
       "      <td>NaN</td>\n",
       "      <td>NaN</td>\n",
       "      <td>NaN</td>\n",
       "      <td>...</td>\n",
       "      <td>0.0</td>\n",
       "      <td>0.0</td>\n",
       "      <td>0.0</td>\n",
       "      <td>0.0</td>\n",
       "      <td>0.0</td>\n",
       "      <td>0.0</td>\n",
       "      <td>0.0</td>\n",
       "      <td>0.0</td>\n",
       "      <td>0.0</td>\n",
       "      <td>0.0</td>\n",
       "    </tr>\n",
       "    <tr>\n",
       "      <th>103</th>\n",
       "      <td>1103</td>\n",
       "      <td>2.0</td>\n",
       "      <td>3.0</td>\n",
       "      <td>3.0</td>\n",
       "      <td>NaN</td>\n",
       "      <td>2.0</td>\n",
       "      <td>NaN</td>\n",
       "      <td>3.0</td>\n",
       "      <td>NaN</td>\n",
       "      <td>3.0</td>\n",
       "      <td>...</td>\n",
       "      <td>73.0</td>\n",
       "      <td>14.0</td>\n",
       "      <td>8.0</td>\n",
       "      <td>17.0</td>\n",
       "      <td>6.0</td>\n",
       "      <td>14.0</td>\n",
       "      <td>14.0</td>\n",
       "      <td>22.0</td>\n",
       "      <td>23.0</td>\n",
       "      <td>28.0</td>\n",
       "    </tr>\n",
       "  </tbody>\n",
       "</table>\n",
       "<p>2 rows × 71 columns</p>\n",
       "</div>"
      ],
      "text/plain": [
       "     Subject  1) I plan tasks carefully.  Self Control/Nonplanning-reverse  \\\n",
       "102     1103                         NaN                               0.0   \n",
       "103     1103                         2.0                               3.0   \n",
       "\n",
       "     2) I do things without thinking.  Motor/Motor  \\\n",
       "102                               NaN          NaN   \n",
       "103                               3.0          NaN   \n",
       "\n",
       "     3) I make up my mind quickly.  Motor/Motor.1  4) I am happy-go-lucky.  \\\n",
       "102                            NaN            NaN                      NaN   \n",
       "103                            2.0            NaN                      3.0   \n",
       "\n",
       "     Motor/Motor.2  5) I don't \"pay attention\".  ...  BIS_total  Attention_1  \\\n",
       "102            NaN                          NaN  ...        0.0          0.0   \n",
       "103            NaN                          3.0  ...       73.0         14.0   \n",
       "\n",
       "     CogIns  Motor_1  Perserverance  Self-Control  CogComp  Attention_2  \\\n",
       "102     0.0      0.0            0.0           0.0      0.0          0.0   \n",
       "103     8.0     17.0            6.0          14.0     14.0         22.0   \n",
       "\n",
       "     Motor_2  Nonplanning  \n",
       "102      0.0          0.0  \n",
       "103     23.0         28.0  \n",
       "\n",
       "[2 rows x 71 columns]"
      ]
     },
     "execution_count": 57,
     "metadata": {},
     "output_type": "execute_result"
    }
   ],
   "source": [
    "R00[VARIABLE].loc[R00[VARIABLE]['Subject'] == 1103, : ]"
   ]
  },
  {
   "cell_type": "code",
   "execution_count": 58,
   "metadata": {},
   "outputs": [],
   "source": [
    "R00[VARIABLE] = R00[VARIABLE].drop(102).reset_index().copy()"
   ]
  },
  {
   "cell_type": "code",
   "execution_count": 59,
   "metadata": {},
   "outputs": [
    {
     "name": "stdout",
     "output_type": "stream",
     "text": [
      "COLUMNS:  72\n",
      "COLUMN WITH MAX NUM OF MISSINGS:  104 | Column:  Motor/Motor\n"
     ]
    },
    {
     "data": {
      "text/plain": [
       "index                                                         0\n",
       "Subject                                                       0\n",
       "1) I plan tasks carefully.                                   56\n",
       "Self Control/Nonplanning-reverse                              1\n",
       "2) I do things without thinking.                             56\n",
       "Motor/Motor                                                 104\n",
       "3) I make up my mind quickly.                                56\n",
       "Motor/Motor.1                                               104\n",
       "4) I am happy-go-lucky.                                      56\n",
       "Motor/Motor.2                                               104\n",
       "5) I don't \"pay attention\".                                  56\n",
       "Attention/Attentional                                       104\n",
       "6) I have \"racing\" thoughts.                                 56\n",
       "CogIns/Attentional                                          104\n",
       "7) I plan trips well ahead of time.                          56\n",
       "Self-Control/Nonplanning-reverse                              1\n",
       "8) I am self controlled.                                     56\n",
       "Self-Control/Nonplanning-reverse.1                            1\n",
       "9) I concentrate easily.                                     56\n",
       "Attention/Attentional-reverse                                 1\n",
       "10) I save regularly.                                        56\n",
       "CogComp/Nonplanning-reverse                                   1\n",
       "11) I \"squirm\" at plays or lectures.                         56\n",
       "Unnamed: 22                                                 104\n",
       "12) I am a careful thinker.                                  56\n",
       "Unnamed: 24                                                   1\n",
       "13) I plan for job security.                                 56\n",
       "Unnamed: 26                                                   1\n",
       "14) I say things without thinking.                           56\n",
       "Unnamed: 28                                                 104\n",
       "                                                           ... \n",
       "21) I change residences                                      56\n",
       "Unnamed: 42                                                 104\n",
       "22) I buy things on impulse.                                 56\n",
       "Unnamed: 44                                                 104\n",
       "23) I can only think about one thing at a time.              56\n",
       "Unnamed: 46                                                 104\n",
       "24) I change hobbies.                                        56\n",
       "Unnamed: 48                                                 104\n",
       "25) I spend or charge more than I earn.                      57\n",
       "Unnamed: 50                                                 104\n",
       "26) I often have extraneous thoughts while thinking.         56\n",
       "Unnamed: 52                                                 104\n",
       "27) I am more interested in the present than the future.     56\n",
       "Unnamed: 54                                                 104\n",
       "28) I am restless at the theater or lectures.                56\n",
       "Unnamed: 56                                                 104\n",
       "29) I like puzzles.                                          56\n",
       "Unnamed: 58                                                   1\n",
       "30) I am future oriented.                                    56\n",
       "Unnamed: 60                                                   1\n",
       "BIS_total                                                     1\n",
       "Attention_1                                                   1\n",
       "CogIns                                                        1\n",
       "Motor_1                                                       1\n",
       "Perserverance                                                 1\n",
       "Self-Control                                                  1\n",
       "CogComp                                                       1\n",
       "Attention_2                                                   1\n",
       "Motor_2                                                       1\n",
       "Nonplanning                                                   1\n",
       "Length: 72, dtype: int64"
      ]
     },
     "execution_count": 59,
     "metadata": {},
     "output_type": "execute_result"
    }
   ],
   "source": [
    "print('COLUMNS: ',R00[VARIABLE].shape[1])\n",
    "print('COLUMN WITH MAX NUM OF MISSINGS: ', R00[VARIABLE].isna().sum().max() , '| Column: ' , R00[VARIABLE].isna().sum().idxmax())\n",
    "R00[VARIABLE].isna().sum()"
   ]
  },
  {
   "cell_type": "code",
   "execution_count": 60,
   "metadata": {},
   "outputs": [
    {
     "data": {
      "text/plain": [
       "(array([48.,  0.,  0.,  0.,  0., 55.,  0.,  0.,  0.,  1.]),\n",
       " array([19. , 24.1, 29.2, 34.3, 39.4, 44.5, 49.6, 54.7, 59.8, 64.9, 70. ]),\n",
       " <a list of 10 Patch objects>)"
      ]
     },
     "execution_count": 60,
     "metadata": {},
     "output_type": "execute_result"
    },
    {
     "data": {
      "image/png": "[encoded data removed]",
      "text/plain": [
       "<Figure size 432x288 with 1 Axes>"
      ]
     },
     "metadata": {
      "needs_background": "light"
     },
     "output_type": "display_data"
    }
   ],
   "source": [
    "missing_rows = R00[VARIABLE].isna().any(axis=1)\n",
    "#missing_subjects = R00[VARIABLE]['Subject'][missing_rows]\n",
    "miss_subj_amount =  R00[VARIABLE].loc[missing_rows,:].isna().sum(axis = 1)\n",
    "plt.xlabel('Columns')\n",
    "plt.ylabel('# Missing')\n",
    "plt.hist(miss_subj_amount)"
   ]
  },
  {
   "cell_type": "code",
   "execution_count": 61,
   "metadata": {},
   "outputs": [],
   "source": [
    "#There are some fields that are always missing. Lets drop this columns\n",
    "all_missing_names = R00[VARIABLE].loc[:,R00[VARIABLE].isna().sum() == 104].columns"
   ]
  },
  {
   "cell_type": "code",
   "execution_count": 62,
   "metadata": {},
   "outputs": [],
   "source": [
    "R00[VARIABLE] = R00[VARIABLE].drop(columns = all_missing_names).copy()"
   ]
  },
  {
   "cell_type": "code",
   "execution_count": 63,
   "metadata": {},
   "outputs": [
    {
     "data": {
      "text/plain": [
       "(array([ 2.,  0.,  0.,  0.,  0., 55.,  0.,  0.,  0.,  1.]),\n",
       " array([ 1.,  6., 11., 16., 21., 26., 31., 36., 41., 46., 51.]),\n",
       " <a list of 10 Patch objects>)"
      ]
     },
     "execution_count": 63,
     "metadata": {},
     "output_type": "execute_result"
    },
    {
     "data": {
      "image/png": "[encoded data removed]",
      "text/plain": [
       "<Figure size 432x288 with 1 Axes>"
      ]
     },
     "metadata": {
      "needs_background": "light"
     },
     "output_type": "display_data"
    }
   ],
   "source": [
    "missing_rows = R00[VARIABLE].isna().any(axis=1)\n",
    "#missing_subjects = R00[VARIABLE]['Subject'][missing_rows]\n",
    "miss_subj_amount =  R00[VARIABLE].loc[missing_rows,:].isna().sum(axis = 1)\n",
    "plt.xlabel('Columns')\n",
    "plt.ylabel('# Missing')\n",
    "plt.hist(miss_subj_amount)"
   ]
  },
  {
   "cell_type": "code",
   "execution_count": 64,
   "metadata": {},
   "outputs": [
    {
     "data": {
      "text/html": [
       "<div>\n",
       "<style scoped>\n",
       "    .dataframe tbody tr th:only-of-type {\n",
       "        vertical-align: middle;\n",
       "    }\n",
       "\n",
       "    .dataframe tbody tr th {\n",
       "        vertical-align: top;\n",
       "    }\n",
       "\n",
       "    .dataframe thead th {\n",
       "        text-align: right;\n",
       "    }\n",
       "</style>\n",
       "<table border=\"1\" class=\"dataframe\">\n",
       "  <thead>\n",
       "    <tr style=\"text-align: right;\">\n",
       "      <th></th>\n",
       "      <th>index</th>\n",
       "      <th>Subject</th>\n",
       "      <th>1) I plan tasks carefully.</th>\n",
       "      <th>Self Control/Nonplanning-reverse</th>\n",
       "      <th>2) I do things without thinking.</th>\n",
       "      <th>3) I make up my mind quickly.</th>\n",
       "      <th>4) I am happy-go-lucky.</th>\n",
       "      <th>5) I don't \"pay attention\".</th>\n",
       "      <th>6) I have \"racing\" thoughts.</th>\n",
       "      <th>7) I plan trips well ahead of time.</th>\n",
       "      <th>...</th>\n",
       "      <th>BIS_total</th>\n",
       "      <th>Attention_1</th>\n",
       "      <th>CogIns</th>\n",
       "      <th>Motor_1</th>\n",
       "      <th>Perserverance</th>\n",
       "      <th>Self-Control</th>\n",
       "      <th>CogComp</th>\n",
       "      <th>Attention_2</th>\n",
       "      <th>Motor_2</th>\n",
       "      <th>Nonplanning</th>\n",
       "    </tr>\n",
       "  </thead>\n",
       "  <tbody>\n",
       "    <tr>\n",
       "      <th>0</th>\n",
       "      <td>0</td>\n",
       "      <td>1001</td>\n",
       "      <td>NaN</td>\n",
       "      <td>NaN</td>\n",
       "      <td>NaN</td>\n",
       "      <td>NaN</td>\n",
       "      <td>NaN</td>\n",
       "      <td>NaN</td>\n",
       "      <td>NaN</td>\n",
       "      <td>NaN</td>\n",
       "      <td>...</td>\n",
       "      <td>NaN</td>\n",
       "      <td>NaN</td>\n",
       "      <td>NaN</td>\n",
       "      <td>NaN</td>\n",
       "      <td>NaN</td>\n",
       "      <td>NaN</td>\n",
       "      <td>NaN</td>\n",
       "      <td>NaN</td>\n",
       "      <td>NaN</td>\n",
       "      <td>NaN</td>\n",
       "    </tr>\n",
       "  </tbody>\n",
       "</table>\n",
       "<p>1 rows × 53 columns</p>\n",
       "</div>"
      ],
      "text/plain": [
       "   index  Subject  1) I plan tasks carefully.  \\\n",
       "0      0     1001                         NaN   \n",
       "\n",
       "   Self Control/Nonplanning-reverse  2) I do things without thinking.  \\\n",
       "0                               NaN                               NaN   \n",
       "\n",
       "   3) I make up my mind quickly.  4) I am happy-go-lucky.  \\\n",
       "0                            NaN                      NaN   \n",
       "\n",
       "   5) I don't \"pay attention\".  6) I have \"racing\" thoughts.  \\\n",
       "0                          NaN                           NaN   \n",
       "\n",
       "   7) I plan trips well ahead of time.  ...  BIS_total  Attention_1  CogIns  \\\n",
       "0                                  NaN  ...        NaN          NaN     NaN   \n",
       "\n",
       "   Motor_1  Perserverance  Self-Control  CogComp  Attention_2  Motor_2  \\\n",
       "0      NaN            NaN           NaN      NaN          NaN      NaN   \n",
       "\n",
       "   Nonplanning  \n",
       "0          NaN  \n",
       "\n",
       "[1 rows x 53 columns]"
      ]
     },
     "execution_count": 64,
     "metadata": {},
     "output_type": "execute_result"
    }
   ],
   "source": [
    "R00[VARIABLE].iloc[miss_subj_amount[miss_subj_amount > 40 ].index,:]"
   ]
  },
  {
   "cell_type": "code",
   "execution_count": 65,
   "metadata": {},
   "outputs": [
    {
     "data": {
      "text/html": [
       "<div>\n",
       "<style scoped>\n",
       "    .dataframe tbody tr th:only-of-type {\n",
       "        vertical-align: middle;\n",
       "    }\n",
       "\n",
       "    .dataframe tbody tr th {\n",
       "        vertical-align: top;\n",
       "    }\n",
       "\n",
       "    .dataframe thead th {\n",
       "        text-align: right;\n",
       "    }\n",
       "</style>\n",
       "<table border=\"1\" class=\"dataframe\">\n",
       "  <thead>\n",
       "    <tr style=\"text-align: right;\">\n",
       "      <th></th>\n",
       "      <th>index</th>\n",
       "      <th>Subject</th>\n",
       "      <th>1) I plan tasks carefully.</th>\n",
       "      <th>Self Control/Nonplanning-reverse</th>\n",
       "      <th>2) I do things without thinking.</th>\n",
       "      <th>3) I make up my mind quickly.</th>\n",
       "      <th>4) I am happy-go-lucky.</th>\n",
       "      <th>5) I don't \"pay attention\".</th>\n",
       "      <th>6) I have \"racing\" thoughts.</th>\n",
       "      <th>7) I plan trips well ahead of time.</th>\n",
       "      <th>...</th>\n",
       "      <th>BIS_total</th>\n",
       "      <th>Attention_1</th>\n",
       "      <th>CogIns</th>\n",
       "      <th>Motor_1</th>\n",
       "      <th>Perserverance</th>\n",
       "      <th>Self-Control</th>\n",
       "      <th>CogComp</th>\n",
       "      <th>Attention_2</th>\n",
       "      <th>Motor_2</th>\n",
       "      <th>Nonplanning</th>\n",
       "    </tr>\n",
       "  </thead>\n",
       "  <tbody>\n",
       "    <tr>\n",
       "      <th>78</th>\n",
       "      <td>78</td>\n",
       "      <td>1079</td>\n",
       "      <td>4.0</td>\n",
       "      <td>1.0</td>\n",
       "      <td>1.0</td>\n",
       "      <td>3.0</td>\n",
       "      <td>4.0</td>\n",
       "      <td>1.0</td>\n",
       "      <td>3.0</td>\n",
       "      <td>4.0</td>\n",
       "      <td>...</td>\n",
       "      <td>54.0</td>\n",
       "      <td>9.0</td>\n",
       "      <td>7.0</td>\n",
       "      <td>16.0</td>\n",
       "      <td>8.0</td>\n",
       "      <td>6.0</td>\n",
       "      <td>8.0</td>\n",
       "      <td>16.0</td>\n",
       "      <td>24.0</td>\n",
       "      <td>14.0</td>\n",
       "    </tr>\n",
       "    <tr>\n",
       "      <th>99</th>\n",
       "      <td>99</td>\n",
       "      <td>1100</td>\n",
       "      <td>3.0</td>\n",
       "      <td>2.0</td>\n",
       "      <td>1.0</td>\n",
       "      <td>2.0</td>\n",
       "      <td>1.0</td>\n",
       "      <td>1.0</td>\n",
       "      <td>1.0</td>\n",
       "      <td>2.0</td>\n",
       "      <td>...</td>\n",
       "      <td>45.0</td>\n",
       "      <td>5.0</td>\n",
       "      <td>3.0</td>\n",
       "      <td>9.0</td>\n",
       "      <td>8.0</td>\n",
       "      <td>11.0</td>\n",
       "      <td>9.0</td>\n",
       "      <td>8.0</td>\n",
       "      <td>17.0</td>\n",
       "      <td>20.0</td>\n",
       "    </tr>\n",
       "  </tbody>\n",
       "</table>\n",
       "<p>2 rows × 53 columns</p>\n",
       "</div>"
      ],
      "text/plain": [
       "    index  Subject  1) I plan tasks carefully.  \\\n",
       "78     78     1079                         4.0   \n",
       "99     99     1100                         3.0   \n",
       "\n",
       "    Self Control/Nonplanning-reverse  2) I do things without thinking.  \\\n",
       "78                               1.0                               1.0   \n",
       "99                               2.0                               1.0   \n",
       "\n",
       "    3) I make up my mind quickly.  4) I am happy-go-lucky.  \\\n",
       "78                            3.0                      4.0   \n",
       "99                            2.0                      1.0   \n",
       "\n",
       "    5) I don't \"pay attention\".  6) I have \"racing\" thoughts.  \\\n",
       "78                          1.0                           3.0   \n",
       "99                          1.0                           1.0   \n",
       "\n",
       "    7) I plan trips well ahead of time.  ...  BIS_total  Attention_1  CogIns  \\\n",
       "78                                  4.0  ...       54.0          9.0     7.0   \n",
       "99                                  2.0  ...       45.0          5.0     3.0   \n",
       "\n",
       "    Motor_1  Perserverance  Self-Control  CogComp  Attention_2  Motor_2  \\\n",
       "78     16.0            8.0           6.0      8.0         16.0     24.0   \n",
       "99      9.0            8.0          11.0      9.0          8.0     17.0   \n",
       "\n",
       "    Nonplanning  \n",
       "78         14.0  \n",
       "99         20.0  \n",
       "\n",
       "[2 rows x 53 columns]"
      ]
     },
     "execution_count": 65,
     "metadata": {},
     "output_type": "execute_result"
    }
   ],
   "source": [
    "R00[VARIABLE].iloc[miss_subj_amount[miss_subj_amount < 10 ].index,:]"
   ]
  },
  {
   "cell_type": "code",
   "execution_count": 66,
   "metadata": {},
   "outputs": [
    {
     "data": {
      "text/plain": [
       "[(1083, 1),\n",
       " (1103, 1),\n",
       " (1003, 30),\n",
       " (1005, 30),\n",
       " (1006, 30),\n",
       " (1007, 30),\n",
       " (1010, 30),\n",
       " (1012, 30),\n",
       " (1015, 30),\n",
       " (1016, 30),\n",
       " (1017, 30),\n",
       " (1022, 30),\n",
       " (1023, 30),\n",
       " (1025, 30),\n",
       " (1026, 30),\n",
       " (1027, 30),\n",
       " (1028, 30),\n",
       " (1031, 30),\n",
       " (1033, 30),\n",
       " (1036, 30),\n",
       " (1038, 30),\n",
       " (1040, 30),\n",
       " (1042, 30),\n",
       " (1043, 30),\n",
       " (1044, 30),\n",
       " (1046, 30),\n",
       " (1052, 30),\n",
       " (1054, 30),\n",
       " (1056, 30),\n",
       " (1057, 30),\n",
       " (1058, 30),\n",
       " (1059, 30),\n",
       " (1061, 30),\n",
       " (1062, 30),\n",
       " (1063, 30),\n",
       " (1064, 30),\n",
       " (1068, 30),\n",
       " (1069, 30),\n",
       " (1070, 30),\n",
       " (1071, 30),\n",
       " (1072, 30),\n",
       " (1074, 30),\n",
       " (1075, 30),\n",
       " (1076, 30),\n",
       " (1077, 30),\n",
       " (1078, 30),\n",
       " (1082, 30),\n",
       " (1086, 30),\n",
       " (1088, 30),\n",
       " (1090, 30),\n",
       " (1091, 30),\n",
       " (1093, 30),\n",
       " (1094, 30),\n",
       " (1095, 30),\n",
       " (1100, 30),\n",
       " (1102, 30),\n",
       " (1001, 51)]"
      ]
     },
     "execution_count": 66,
     "metadata": {},
     "output_type": "execute_result"
    }
   ],
   "source": [
    "ammount_sort =  sorted(list(zip(missing_subjects,miss_subj_amount)), key =  lambda elem : elem[1] )\n",
    "ammount_sort"
   ]
  },
  {
   "cell_type": "markdown",
   "metadata": {},
   "source": [
    "Again 55 subjects with missing columns. <br>\n",
    "Subject 1001 is consistenly missing all values <br>\n",
    "2 subjects missing one column\n"
   ]
  },
  {
   "cell_type": "code",
   "execution_count": 67,
   "metadata": {},
   "outputs": [],
   "source": [
    "ALL_MISSING_SUBJECTS[VARIABLE] = ammount_sort"
   ]
  },
  {
   "cell_type": "markdown",
   "metadata": {},
   "source": [
    "----"
   ]
  },
  {
   "cell_type": "markdown",
   "metadata": {},
   "source": [
    "### BISBAS"
   ]
  },
  {
   "cell_type": "code",
   "execution_count": 68,
   "metadata": {},
   "outputs": [
    {
     "name": "stdout",
     "output_type": "stream",
     "text": [
      "Unique subjects:  104\n",
      "All subjects :  105\n"
     ]
    }
   ],
   "source": [
    "VARIABLE = 'BISBAS'\n",
    "print('Unique subjects: ', R00[VARIABLE]['Subject'].unique().shape[0])\n",
    "print('All subjects : ', R00[VARIABLE]['Subject'].shape[0])"
   ]
  },
  {
   "cell_type": "code",
   "execution_count": 69,
   "metadata": {},
   "outputs": [
    {
     "data": {
      "text/plain": [
       "1103    2\n",
       "Name: Subject, dtype: int64"
      ]
     },
     "execution_count": 69,
     "metadata": {},
     "output_type": "execute_result"
    }
   ],
   "source": [
    "R00[VARIABLE]['Subject'].value_counts()[R00[VARIABLE]['Subject'].value_counts() > 1]"
   ]
  },
  {
   "cell_type": "code",
   "execution_count": 70,
   "metadata": {},
   "outputs": [
    {
     "data": {
      "text/html": [
       "<div>\n",
       "<style scoped>\n",
       "    .dataframe tbody tr th:only-of-type {\n",
       "        vertical-align: middle;\n",
       "    }\n",
       "\n",
       "    .dataframe tbody tr th {\n",
       "        vertical-align: top;\n",
       "    }\n",
       "\n",
       "    .dataframe thead th {\n",
       "        text-align: right;\n",
       "    }\n",
       "</style>\n",
       "<table border=\"1\" class=\"dataframe\">\n",
       "  <thead>\n",
       "    <tr style=\"text-align: right;\">\n",
       "      <th></th>\n",
       "      <th>Subject</th>\n",
       "      <th>1) When I get something I want, I feel excited and energized.</th>\n",
       "      <th>BAS RR</th>\n",
       "      <th>2) If I think something unpleasant is about to happen, I usually get pretty worked up.</th>\n",
       "      <th>BIS</th>\n",
       "      <th>3) If I see a chance to get something I want, I move in on it right away.</th>\n",
       "      <th>BAS Drive</th>\n",
       "      <th>4) I worry about making mistakes.</th>\n",
       "      <th>BIS.1</th>\n",
       "      <th>5) I'm always willing to try something new if it will be fun.</th>\n",
       "      <th>...</th>\n",
       "      <th>18) I have very fews fears compared to my friends.</th>\n",
       "      <th>BIS-reverse.1</th>\n",
       "      <th>19)When good things happen to me, it affects me strongly.</th>\n",
       "      <th>BAS RR.3</th>\n",
       "      <th>20) When I see an opportunity for something I like, I get excited right away.</th>\n",
       "      <th>BAS RR.4</th>\n",
       "      <th>BIS.5</th>\n",
       "      <th>BAS_D</th>\n",
       "      <th>BAS_FS</th>\n",
       "      <th>BAS_RR</th>\n",
       "    </tr>\n",
       "  </thead>\n",
       "  <tbody>\n",
       "    <tr>\n",
       "      <th>102</th>\n",
       "      <td>1103</td>\n",
       "      <td>NaN</td>\n",
       "      <td>NaN</td>\n",
       "      <td>NaN</td>\n",
       "      <td>NaN</td>\n",
       "      <td>NaN</td>\n",
       "      <td>NaN</td>\n",
       "      <td>NaN</td>\n",
       "      <td>NaN</td>\n",
       "      <td>NaN</td>\n",
       "      <td>...</td>\n",
       "      <td>NaN</td>\n",
       "      <td>NaN</td>\n",
       "      <td>NaN</td>\n",
       "      <td>NaN</td>\n",
       "      <td>NaN</td>\n",
       "      <td>NaN</td>\n",
       "      <td>0.0</td>\n",
       "      <td>0.0</td>\n",
       "      <td>0.0</td>\n",
       "      <td>0.0</td>\n",
       "    </tr>\n",
       "    <tr>\n",
       "      <th>103</th>\n",
       "      <td>1103</td>\n",
       "      <td>5.0</td>\n",
       "      <td>5.0</td>\n",
       "      <td>4.0</td>\n",
       "      <td>4.0</td>\n",
       "      <td>5.0</td>\n",
       "      <td>5.0</td>\n",
       "      <td>4.0</td>\n",
       "      <td>4.0</td>\n",
       "      <td>5.0</td>\n",
       "      <td>...</td>\n",
       "      <td>5.0</td>\n",
       "      <td>1.0</td>\n",
       "      <td>5.0</td>\n",
       "      <td>5.0</td>\n",
       "      <td>5.0</td>\n",
       "      <td>5.0</td>\n",
       "      <td>25.0</td>\n",
       "      <td>16.0</td>\n",
       "      <td>19.0</td>\n",
       "      <td>24.0</td>\n",
       "    </tr>\n",
       "  </tbody>\n",
       "</table>\n",
       "<p>2 rows × 45 columns</p>\n",
       "</div>"
      ],
      "text/plain": [
       "     Subject  1) When I get something I want, I feel excited and energized.  \\\n",
       "102     1103                                                NaN               \n",
       "103     1103                                                5.0               \n",
       "\n",
       "     BAS RR  \\\n",
       "102     NaN   \n",
       "103     5.0   \n",
       "\n",
       "     2) If I think something unpleasant is about to happen, I usually get pretty worked up.  \\\n",
       "102                                                NaN                                        \n",
       "103                                                4.0                                        \n",
       "\n",
       "     BIS  \\\n",
       "102  NaN   \n",
       "103  4.0   \n",
       "\n",
       "     3) If I see a chance to get something I want, I move in on it right away.  \\\n",
       "102                                                NaN                           \n",
       "103                                                5.0                           \n",
       "\n",
       "     BAS Drive  4) I worry about making mistakes.  BIS.1  \\\n",
       "102        NaN                                NaN    NaN   \n",
       "103        5.0                                4.0    4.0   \n",
       "\n",
       "     5) I'm always willing to try something new if it will be fun.  ...  \\\n",
       "102                                                NaN              ...   \n",
       "103                                                5.0              ...   \n",
       "\n",
       "     18) I have very fews fears compared to my friends.  BIS-reverse.1  \\\n",
       "102                                                NaN             NaN   \n",
       "103                                                5.0             1.0   \n",
       "\n",
       "     19)When good things happen to me, it affects me strongly.  BAS RR.3  \\\n",
       "102                                                NaN               NaN   \n",
       "103                                                5.0               5.0   \n",
       "\n",
       "     20) When I see an opportunity for something I like, I get excited right away.  \\\n",
       "102                                                NaN                               \n",
       "103                                                5.0                               \n",
       "\n",
       "     BAS RR.4  BIS.5  BAS_D  BAS_FS  BAS_RR  \n",
       "102       NaN    0.0    0.0     0.0     0.0  \n",
       "103       5.0   25.0   16.0    19.0    24.0  \n",
       "\n",
       "[2 rows x 45 columns]"
      ]
     },
     "execution_count": 70,
     "metadata": {},
     "output_type": "execute_result"
    }
   ],
   "source": [
    "R00[VARIABLE].loc[R00[VARIABLE]['Subject'] == 1103, : ]"
   ]
  },
  {
   "cell_type": "code",
   "execution_count": 71,
   "metadata": {},
   "outputs": [],
   "source": [
    "R00[VARIABLE] = R00[VARIABLE].drop(102).reset_index().copy()"
   ]
  },
  {
   "cell_type": "code",
   "execution_count": 72,
   "metadata": {},
   "outputs": [
    {
     "name": "stdout",
     "output_type": "stream",
     "text": [
      "COLUMNS:  46\n",
      "COLUMN WITH MAX NUM OF MISSINGS:  57 | Column:  15) I feel worried when I think I have done poorly at something.\n"
     ]
    },
    {
     "data": {
      "text/plain": [
       "index                                                                                            0\n",
       "Subject                                                                                          0\n",
       "1) When I get something I want, I feel excited and energized.                                   56\n",
       "BAS RR                                                                                          56\n",
       "2) If I think something unpleasant is about to happen, I usually get pretty worked up.          56\n",
       "BIS                                                                                             56\n",
       "3) If I see a chance to get something I want, I move in on it right away.                       56\n",
       "BAS Drive                                                                                       56\n",
       "4) I worry about making mistakes.                                                               56\n",
       "BIS.1                                                                                           56\n",
       "5) I'm always willing to try something new if it will be fun.                                   56\n",
       "BAS Fun                                                                                         56\n",
       "6) When I want something I usually go all-out to get it.                                        56\n",
       "BAS Drive.1                                                                                     56\n",
       "7) Criticism or scolding hurts me quite a bit.                                                  56\n",
       "BIS.2                                                                                           56\n",
       "8) It would excite me to win a contest.                                                         56\n",
       "BAS RR.1                                                                                        56\n",
       "9) I will often do things for no other reason than that they might be fun.                      56\n",
       "BAS Fun.1                                                                                       56\n",
       "10) I feel pretty worried or upset when I think or know that somebody is angry at me.           56\n",
       "BIS.3                                                                                           56\n",
       "11) I often act on the spur of the moment.                                                      56\n",
       "BAS Fun.2                                                                                       56\n",
       "12) When I'm doing well at something, I love to keep at it.                                     56\n",
       "BAS RR.2                                                                                        56\n",
       "13) Even if something bad is about to happen to me, I rarely experience fear or nervousness.    56\n",
       "BIS-reverse                                                                                     56\n",
       "14) I go out of my way to get things I want.                                                    56\n",
       "BAS Drive.2                                                                                     56\n",
       "15) I feel worried when I think I have done poorly at something.                                57\n",
       "BIS.4                                                                                           57\n",
       "16) I crave excitement and new sensations.                                                      56\n",
       "BAS Fun.3                                                                                       56\n",
       "17) When I go after something, I use a \"no holds barred\" approach.                              56\n",
       "BAS Drive.3                                                                                     56\n",
       "18) I have very fews fears compared to my friends.                                              56\n",
       "BIS-reverse.1                                                                                   56\n",
       "19)When good things happen to me, it affects me strongly.                                       56\n",
       "BAS RR.3                                                                                        56\n",
       "20) When I see an opportunity for something I like, I get excited right away.                   56\n",
       "BAS RR.4                                                                                        56\n",
       "BIS.5                                                                                            1\n",
       "BAS_D                                                                                            1\n",
       "BAS_FS                                                                                           1\n",
       "BAS_RR                                                                                           1\n",
       "dtype: int64"
      ]
     },
     "execution_count": 72,
     "metadata": {},
     "output_type": "execute_result"
    }
   ],
   "source": [
    "print('COLUMNS: ',R00[VARIABLE].shape[1])\n",
    "print('COLUMN WITH MAX NUM OF MISSINGS: ', R00[VARIABLE].isna().sum().max() , '| Column: ' , R00[VARIABLE].isna().sum().idxmax())\n",
    "R00[VARIABLE].isna().sum()"
   ]
  },
  {
   "cell_type": "code",
   "execution_count": 73,
   "metadata": {},
   "outputs": [
    {
     "data": {
      "text/plain": [
       "(array([ 1.,  0.,  0.,  0.,  0.,  0.,  0.,  0.,  0., 56.]),\n",
       " array([ 2. ,  6.2, 10.4, 14.6, 18.8, 23. , 27.2, 31.4, 35.6, 39.8, 44. ]),\n",
       " <a list of 10 Patch objects>)"
      ]
     },
     "execution_count": 73,
     "metadata": {},
     "output_type": "execute_result"
    },
    {
     "data": {
      "image/png": "[encoded data removed]",
      "text/plain": [
       "<Figure size 432x288 with 1 Axes>"
      ]
     },
     "metadata": {
      "needs_background": "light"
     },
     "output_type": "display_data"
    }
   ],
   "source": [
    "missing_rows = R00[VARIABLE].isna().any(axis=1)\n",
    "#missing_subjects = R00[VARIABLE]['Subject'][missing_rows]\n",
    "miss_subj_amount =  R00[VARIABLE].loc[missing_rows,:].isna().sum(axis = 1)\n",
    "plt.xlabel('Columns')\n",
    "plt.ylabel('# Missing')\n",
    "plt.hist(miss_subj_amount)"
   ]
  },
  {
   "cell_type": "code",
   "execution_count": 74,
   "metadata": {},
   "outputs": [
    {
     "data": {
      "text/html": [
       "<div>\n",
       "<style scoped>\n",
       "    .dataframe tbody tr th:only-of-type {\n",
       "        vertical-align: middle;\n",
       "    }\n",
       "\n",
       "    .dataframe tbody tr th {\n",
       "        vertical-align: top;\n",
       "    }\n",
       "\n",
       "    .dataframe thead th {\n",
       "        text-align: right;\n",
       "    }\n",
       "</style>\n",
       "<table border=\"1\" class=\"dataframe\">\n",
       "  <thead>\n",
       "    <tr style=\"text-align: right;\">\n",
       "      <th></th>\n",
       "      <th>index</th>\n",
       "      <th>Subject</th>\n",
       "      <th>1) When I get something I want, I feel excited and energized.</th>\n",
       "      <th>BAS RR</th>\n",
       "      <th>2) If I think something unpleasant is about to happen, I usually get pretty worked up.</th>\n",
       "      <th>BIS</th>\n",
       "      <th>3) If I see a chance to get something I want, I move in on it right away.</th>\n",
       "      <th>BAS Drive</th>\n",
       "      <th>4) I worry about making mistakes.</th>\n",
       "      <th>BIS.1</th>\n",
       "      <th>...</th>\n",
       "      <th>18) I have very fews fears compared to my friends.</th>\n",
       "      <th>BIS-reverse.1</th>\n",
       "      <th>19)When good things happen to me, it affects me strongly.</th>\n",
       "      <th>BAS RR.3</th>\n",
       "      <th>20) When I see an opportunity for something I like, I get excited right away.</th>\n",
       "      <th>BAS RR.4</th>\n",
       "      <th>BIS.5</th>\n",
       "      <th>BAS_D</th>\n",
       "      <th>BAS_FS</th>\n",
       "      <th>BAS_RR</th>\n",
       "    </tr>\n",
       "  </thead>\n",
       "  <tbody>\n",
       "    <tr>\n",
       "      <th>57</th>\n",
       "      <td>57</td>\n",
       "      <td>1058</td>\n",
       "      <td>5.0</td>\n",
       "      <td>5.0</td>\n",
       "      <td>3.0</td>\n",
       "      <td>3.0</td>\n",
       "      <td>3.0</td>\n",
       "      <td>3.0</td>\n",
       "      <td>5.0</td>\n",
       "      <td>5.0</td>\n",
       "      <td>...</td>\n",
       "      <td>4.0</td>\n",
       "      <td>2.0</td>\n",
       "      <td>5.0</td>\n",
       "      <td>5.0</td>\n",
       "      <td>4.0</td>\n",
       "      <td>4.0</td>\n",
       "      <td>23.0</td>\n",
       "      <td>11.0</td>\n",
       "      <td>11.0</td>\n",
       "      <td>23.0</td>\n",
       "    </tr>\n",
       "  </tbody>\n",
       "</table>\n",
       "<p>1 rows × 46 columns</p>\n",
       "</div>"
      ],
      "text/plain": [
       "    index  Subject  \\\n",
       "57     57     1058   \n",
       "\n",
       "    1) When I get something I want, I feel excited and energized.  BAS RR  \\\n",
       "57                                                5.0                 5.0   \n",
       "\n",
       "    2) If I think something unpleasant is about to happen, I usually get pretty worked up.  \\\n",
       "57                                                3.0                                        \n",
       "\n",
       "    BIS  \\\n",
       "57  3.0   \n",
       "\n",
       "    3) If I see a chance to get something I want, I move in on it right away.  \\\n",
       "57                                                3.0                           \n",
       "\n",
       "    BAS Drive  4) I worry about making mistakes.  BIS.1  ...  \\\n",
       "57        3.0                                5.0    5.0  ...   \n",
       "\n",
       "    18) I have very fews fears compared to my friends.  BIS-reverse.1  \\\n",
       "57                                                4.0             2.0   \n",
       "\n",
       "    19)When good things happen to me, it affects me strongly.  BAS RR.3  \\\n",
       "57                                                5.0               5.0   \n",
       "\n",
       "    20) When I see an opportunity for something I like, I get excited right away.  \\\n",
       "57                                                4.0                               \n",
       "\n",
       "    BAS RR.4  BIS.5  BAS_D  BAS_FS  BAS_RR  \n",
       "57       4.0   23.0   11.0    11.0    23.0  \n",
       "\n",
       "[1 rows x 46 columns]"
      ]
     },
     "execution_count": 74,
     "metadata": {},
     "output_type": "execute_result"
    }
   ],
   "source": [
    "R00[VARIABLE].iloc[miss_subj_amount[miss_subj_amount < 10 ].index,:]"
   ]
  },
  {
   "cell_type": "code",
   "execution_count": 75,
   "metadata": {},
   "outputs": [
    {
     "data": {
      "text/plain": [
       "[(1061, 2),\n",
       " (1003, 40),\n",
       " (1005, 40),\n",
       " (1006, 40),\n",
       " (1007, 40),\n",
       " (1010, 40),\n",
       " (1012, 40),\n",
       " (1015, 40),\n",
       " (1016, 40),\n",
       " (1017, 40),\n",
       " (1022, 40),\n",
       " (1023, 40),\n",
       " (1025, 40),\n",
       " (1026, 40),\n",
       " (1027, 40),\n",
       " (1028, 40),\n",
       " (1031, 40),\n",
       " (1033, 40),\n",
       " (1036, 40),\n",
       " (1038, 40),\n",
       " (1040, 40),\n",
       " (1042, 40),\n",
       " (1043, 40),\n",
       " (1044, 40),\n",
       " (1046, 40),\n",
       " (1052, 40),\n",
       " (1054, 40),\n",
       " (1056, 40),\n",
       " (1057, 40),\n",
       " (1058, 40),\n",
       " (1059, 40),\n",
       " (1062, 40),\n",
       " (1063, 40),\n",
       " (1064, 40),\n",
       " (1068, 40),\n",
       " (1069, 40),\n",
       " (1070, 40),\n",
       " (1071, 40),\n",
       " (1072, 40),\n",
       " (1074, 40),\n",
       " (1075, 40),\n",
       " (1076, 40),\n",
       " (1077, 40),\n",
       " (1078, 40),\n",
       " (1082, 40),\n",
       " (1083, 40),\n",
       " (1086, 40),\n",
       " (1088, 40),\n",
       " (1090, 40),\n",
       " (1091, 40),\n",
       " (1093, 40),\n",
       " (1094, 40),\n",
       " (1095, 40),\n",
       " (1100, 40),\n",
       " (1102, 40),\n",
       " (1103, 40),\n",
       " (1001, 44)]"
      ]
     },
     "execution_count": 75,
     "metadata": {},
     "output_type": "execute_result"
    }
   ],
   "source": [
    "ammount_sort =  sorted(list(zip(missing_subjects,miss_subj_amount)), key =  lambda elem : elem[1] )\n",
    "ammount_sort"
   ]
  },
  {
   "cell_type": "markdown",
   "metadata": {},
   "source": [
    "Again we have 56 subject with missing values. <br>\n",
    "Only one subject with one missing columns. <br>\n",
    "One more time it seems that 1001 is empty <br>"
   ]
  },
  {
   "cell_type": "code",
   "execution_count": 76,
   "metadata": {},
   "outputs": [],
   "source": [
    "ALL_MISSING_SUBJECTS[VARIABLE] = ammount_sort"
   ]
  },
  {
   "cell_type": "code",
   "execution_count": 81,
   "metadata": {},
   "outputs": [],
   "source": [
    "os.chdir('C:/Users/joaqu/OneDrive/Escritorio/emotional-states/Code/EDA/')\n",
    "with open('missing_survey.pickle', 'wb') as handle:\n",
    "    pickle.dump(ALL_MISSING_SUBJECTS, handle)"
   ]
  },
  {
   "cell_type": "code",
   "execution_count": 85,
   "metadata": {},
   "outputs": [],
   "source": [
    "keys = ALL_MISSING_SUBJECTS.keys()"
   ]
  },
  {
   "cell_type": "code",
   "execution_count": 94,
   "metadata": {},
   "outputs": [],
   "source": [
    "all_people = set()"
   ]
  },
  {
   "cell_type": "code",
   "execution_count": 95,
   "metadata": {},
   "outputs": [],
   "source": [
    "for k in keys:\n",
    "    values = ALL_MISSING_SUBJECTS[k]\n",
    "    for val in values:\n",
    "        all_people.add(val[0])"
   ]
  },
  {
   "cell_type": "code",
   "execution_count": 98,
   "metadata": {},
   "outputs": [
    {
     "data": {
      "text/plain": [
       "63"
      ]
     },
     "execution_count": 98,
     "metadata": {},
     "output_type": "execute_result"
    }
   ],
   "source": [
    "len(all_people)"
   ]
  },
  {
   "cell_type": "code",
   "execution_count": 101,
   "metadata": {},
   "outputs": [],
   "source": [
    "dict_values = {}\n",
    "for val in all_people:\n",
    "    dict_values[val] = 0\n",
    "    \n",
    "for val in all_people:\n",
    "    for k in keys:\n",
    "        vals = ALL_MISSING_SUBJECTS[k]\n",
    "        for single in vals:\n",
    "            if val == single[0]:\n",
    "                dict_values[val] += single[1]"
   ]
  },
  {
   "cell_type": "code",
   "execution_count": 110,
   "metadata": {},
   "outputs": [],
   "source": [
    "subject_n_missing = sorted(dict_values.items(), key = lambda elem : (elem[1],elem[0]))"
   ]
  },
  {
   "cell_type": "code",
   "execution_count": 127,
   "metadata": {},
   "outputs": [
    {
     "data": {
      "text/plain": [
       "[(1029, 1),\n",
       " (1039, 1),\n",
       " (1098, 2),\n",
       " (1065, 19),\n",
       " (1058, 71),\n",
       " (1100, 73),\n",
       " (1103, 110),\n",
       " (1011, 128),\n",
       " (1013, 128),\n",
       " (1010, 197),\n",
       " (1012, 199),\n",
       " (1061, 236),\n",
       " (1083, 245),\n",
       " (1015, 272),\n",
       " (1003, 274),\n",
       " (1005, 274),\n",
       " (1006, 274),\n",
       " (1007, 274),\n",
       " (1016, 274),\n",
       " (1017, 274),\n",
       " (1022, 274),\n",
       " (1023, 274),\n",
       " (1025, 274),\n",
       " (1026, 274),\n",
       " (1027, 274),\n",
       " (1028, 274),\n",
       " (1031, 274),\n",
       " (1033, 274),\n",
       " (1036, 274),\n",
       " (1038, 274),\n",
       " (1040, 274),\n",
       " (1042, 274),\n",
       " (1043, 274),\n",
       " (1044, 274),\n",
       " (1046, 274),\n",
       " (1052, 274),\n",
       " (1054, 274),\n",
       " (1056, 274),\n",
       " (1057, 274),\n",
       " (1059, 274),\n",
       " (1062, 274),\n",
       " (1063, 274),\n",
       " (1064, 274),\n",
       " (1068, 274),\n",
       " (1069, 274),\n",
       " (1070, 274),\n",
       " (1071, 274),\n",
       " (1072, 274),\n",
       " (1074, 274),\n",
       " (1075, 274),\n",
       " (1076, 274),\n",
       " (1077, 274),\n",
       " (1078, 274),\n",
       " (1082, 274),\n",
       " (1086, 274),\n",
       " (1088, 274),\n",
       " (1090, 274),\n",
       " (1091, 274),\n",
       " (1093, 274),\n",
       " (1094, 274),\n",
       " (1095, 274),\n",
       " (1102, 274),\n",
       " (1001, 464)]"
      ]
     },
     "execution_count": 127,
     "metadata": {},
     "output_type": "execute_result"
    }
   ],
   "source": [
    "subject_n_missing"
   ]
  },
  {
   "cell_type": "markdown",
   "metadata": {},
   "source": [
    "----"
   ]
  },
  {
   "cell_type": "markdown",
   "metadata": {},
   "source": [
    "# FITBIT DATA"
   ]
  },
  {
   "cell_type": "code",
   "execution_count": 116,
   "metadata": {},
   "outputs": [],
   "source": [
    "files_fitbit = os.listdir('C:/Users/joaqu/Box/Emotional-State-Capstone/data/R00/fitbit/fitbit_detailed/')"
   ]
  },
  {
   "cell_type": "code",
   "execution_count": 117,
   "metadata": {},
   "outputs": [],
   "source": [
    "import re"
   ]
  },
  {
   "cell_type": "code",
   "execution_count": 152,
   "metadata": {},
   "outputs": [],
   "source": [
    "ids = []\n",
    "for fi in files_fitbit:\n",
    "    one_file = re.findall(r'R00_[0-9]+_*', fi)\n",
    "    if len(one_file) > 0:\n",
    "        id = int(one_file[0].split('_')[1])\n",
    "        ids.append(id)"
   ]
  },
  {
   "cell_type": "code",
   "execution_count": 153,
   "metadata": {},
   "outputs": [],
   "source": [
    "ids = set(ids)"
   ]
  },
  {
   "cell_type": "code",
   "execution_count": 154,
   "metadata": {},
   "outputs": [],
   "source": [
    "missing_survey = {i[0] for i in subject_n_missing}"
   ]
  },
  {
   "cell_type": "code",
   "execution_count": 155,
   "metadata": {},
   "outputs": [
    {
     "data": {
      "text/plain": [
       "{1016, 1029, 1039}"
      ]
     },
     "execution_count": 155,
     "metadata": {},
     "output_type": "execute_result"
    }
   ],
   "source": [
    "fitbit_with_missing = set.intersection(ids,missing_survey)\n",
    "fitbit_with_missing"
   ]
  },
  {
   "cell_type": "code",
   "execution_count": 156,
   "metadata": {},
   "outputs": [
    {
     "name": "stdout",
     "output_type": "stream",
     "text": [
      "In summary we only can use the data of 37 subjects.\n",
      "The good news is that we have almost complete data for those subjects.      \n",
      "The only exception are subjects {1016, 1029, 1039}. Beeing subject 1016, the only complicated case with 274 missing cells\n"
     ]
    }
   ],
   "source": [
    "print(f'In summary we only can use the data of {len(ids)} subjects.\\nThe good news is that we have almost complete data for those subjects.\\\n",
    "      \\nThe only exception are subjects {fitbit_with_missing}. Beeing subject 1016, the only complicated case with {dict_values[1016]} missing cells')"
   ]
  },
  {
   "cell_type": "markdown",
   "metadata": {},
   "source": [
    "---"
   ]
  },
  {
   "cell_type": "markdown",
   "metadata": {},
   "source": [
    "### Medical Sceening"
   ]
  },
  {
   "cell_type": "code",
   "execution_count": 150,
   "metadata": {},
   "outputs": [
    {
     "data": {
      "text/plain": [
       "97"
      ]
     },
     "execution_count": 150,
     "metadata": {},
     "output_type": "execute_result"
    }
   ],
   "source": [
    "VARIABLE = 'Medical Screening'\n",
    "R00[VARIABLE]['Subject'].unique().shape[0]"
   ]
  },
  {
   "cell_type": "code",
   "execution_count": 159,
   "metadata": {},
   "outputs": [
    {
     "data": {
      "text/plain": [
       "37"
      ]
     },
     "execution_count": 159,
     "metadata": {},
     "output_type": "execute_result"
    }
   ],
   "source": [
    "len(set.intersection(set(R00[VARIABLE]['Subject']), ids))"
   ]
  },
  {
   "cell_type": "code",
   "execution_count": 160,
   "metadata": {},
   "outputs": [],
   "source": [
    "#Great let's check if we have complete values for this 37 subject"
   ]
  },
  {
   "cell_type": "code",
   "execution_count": 166,
   "metadata": {},
   "outputs": [],
   "source": [
    "med_df = R00[VARIABLE].loc[R00[VARIABLE]['Subject'].isin(ids),:].copy()"
   ]
  },
  {
   "cell_type": "code",
   "execution_count": 172,
   "metadata": {},
   "outputs": [
    {
     "data": {
      "text/plain": [
       "((37, 88), Index(['Subject', 'Med History', 'Height (cm)', 'Weight (kg)',\n",
       "        'Vitals: Temp (˚F)', 'Vitals: Pulse', 'Vitals: Resp/min', 'Vitals: BP',\n",
       "        'Allergies:', 'Physical: General Appearance', 'Physical: HEENT',\n",
       "        'Physical: Cardiovascular', 'Physical: Respiratory',\n",
       "        'Physical: Gastrointestinal', 'Physical: Endocrine',\n",
       "        'Physical: Musculoskeletal', 'Physical:Lymphatic',\n",
       "        'Physical: Dermatologic', 'Neurological: Mental Status',\n",
       "        'Neurological: Cranial Nerves', 'Neurological: Sensory & Motor System',\n",
       "        'Neurological: Coordination & Gait', 'Neurological: Reflexes', 'EKG',\n",
       "        'CBC: White Blood Cell Count (x 1000µL)',\n",
       "        'CBC: Red Blood Cell Count (M/µL)', 'CBC: Hemoglobin (g/dL)',\n",
       "        'CBC: Hemocrit (%)', 'CBC: MCV (fL)', 'CBC: MCHC (g/dL)',\n",
       "        'CBC: RDW (%)', 'CBC: Platelet Count (x 1000µL)', 'CBC: MPV (fL)',\n",
       "        'CBC: ANC (x1000/µL)', 'CBC: Neutrophils (%)', 'CBC: Lymphocytes (%)',\n",
       "        'CBC: ALC (x1000/µL)', 'CBC: Monocytes (%)', 'CBC: Eosinophils (%)',\n",
       "        'CBC: Basophils (%)', 'CBC: MCH (pg)',\n",
       "        'Coagulation: Prothrombin Time (s)', 'Coagulation: INR',\n",
       "        'Coagulation: Partial Thromboplastin Time (s)',\n",
       "        'HCG (mU/mL) [Women Only]', 'Thyroid Stimulating Hormone (µU/mL)',\n",
       "        'Chemistry: Sodium (mmol/L)', 'Chemistry: Potassium (mmol/L)',\n",
       "        'Chemistry: Chloride (mmol/L)', 'Chemistry: Bicarbonate (mmol/L)',\n",
       "        'Chemistry: Anion Gap', 'Chemistry: Glucose (mg/dL)',\n",
       "        'Chemistry: Urea Nitrogen (mg/dL)', 'Chemsitry: Creatinine (mg/dL)',\n",
       "        'Chemistry: Calcium (mg/dL)', 'Chemistry: BUN/Creatinine Ratio ',\n",
       "        'Chemistry: Protein (g/dL)', 'Chemistry: Albumin (g/dL)',\n",
       "        'Chemistry: Bilirubin (mg/dL)', 'Chemistry: Alkaline Phosphatase (U/L)',\n",
       "        'Chemistry: ALT (U/L)', 'Chemistry: AST (U/L)',\n",
       "        'Chemistry: Globulin (g/dL)', 'Chemistry: Albumin/Globulin Ratio',\n",
       "        'Chemistry: GFR (mL/min/1.73m2)', 'Urinalysis: Opacity',\n",
       "        'Urinalysis: Color', 'Urinalysis: Specific Gravity', 'Urinalysis: pH',\n",
       "        'Urinalysis: Protein', 'Urinalysis: Glucose', 'Urinalysis: Blood',\n",
       "        'Urinalysis: Bilirubin', 'Urinalysis: Ketones',\n",
       "        'Urinalysis: Leukocyte Esterase', 'Urinalysis: Nitrites',\n",
       "        'Urinalysis: Urobiliogen (EU/DL)', 'Toxicology: Amphetamine',\n",
       "        'Toxicology: Barbiturate ', 'Toxicology: Benzodiazepines',\n",
       "        'Toxicology: Cocaine', 'Toxicology: Opiates', 'Toxicology: Oxycodone',\n",
       "        'Toxicology: Phencyclidine', 'Toxicology: Methadone',\n",
       "        'MRI Eligibility?', 'PET Eligbility?', 'Notes/Specific Abnormalities:'],\n",
       "       dtype='object'))"
      ]
     },
     "execution_count": 172,
     "metadata": {},
     "output_type": "execute_result"
    }
   ],
   "source": [
    "med_df.shape, med_df.columns"
   ]
  },
  {
   "cell_type": "code",
   "execution_count": 170,
   "metadata": {},
   "outputs": [
    {
     "name": "stdout",
     "output_type": "stream",
     "text": [
      "COLUMNS:  88\n",
      "COLUMN WITH MAX NUM OF MISSINGS:  35 | Column:  Notes/Specific Abnormalities:\n"
     ]
    },
    {
     "data": {
      "text/plain": [
       "Subject                                    0\n",
       "Med History                                4\n",
       "Height (cm)                                1\n",
       "Weight (kg)                                1\n",
       "Vitals: Temp (˚F)                          2\n",
       "Vitals: Pulse                              1\n",
       "Vitals: Resp/min                           1\n",
       "Vitals: BP                                 1\n",
       "Allergies:                                 1\n",
       "Physical: General Appearance               1\n",
       "Physical: HEENT                            1\n",
       "Physical: Cardiovascular                   1\n",
       "Physical: Respiratory                      1\n",
       "Physical: Gastrointestinal                 1\n",
       "Physical: Endocrine                        1\n",
       "Physical: Musculoskeletal                  1\n",
       "Physical:Lymphatic                         1\n",
       "Physical: Dermatologic                     1\n",
       "Neurological: Mental Status                1\n",
       "Neurological: Cranial Nerves               1\n",
       "Neurological: Sensory & Motor System       1\n",
       "Neurological: Coordination & Gait          1\n",
       "Neurological: Reflexes                     1\n",
       "EKG                                        1\n",
       "CBC: White Blood Cell Count (x 1000µL)     1\n",
       "CBC: Red Blood Cell Count (M/µL)           1\n",
       "CBC: Hemoglobin (g/dL)                     1\n",
       "CBC: Hemocrit (%)                          1\n",
       "CBC: MCV (fL)                              1\n",
       "CBC: MCHC (g/dL)                           1\n",
       "                                          ..\n",
       "Chemistry: Bilirubin (mg/dL)               1\n",
       "Chemistry: Alkaline Phosphatase (U/L)      1\n",
       "Chemistry: ALT (U/L)                       1\n",
       "Chemistry: AST (U/L)                       1\n",
       "Chemistry: Globulin (g/dL)                 1\n",
       "Chemistry: Albumin/Globulin Ratio          1\n",
       "Chemistry: GFR (mL/min/1.73m2)             2\n",
       "Urinalysis: Opacity                        2\n",
       "Urinalysis: Color                          2\n",
       "Urinalysis: Specific Gravity               2\n",
       "Urinalysis: pH                             2\n",
       "Urinalysis: Protein                        2\n",
       "Urinalysis: Glucose                        2\n",
       "Urinalysis: Blood                          2\n",
       "Urinalysis: Bilirubin                      2\n",
       "Urinalysis: Ketones                        2\n",
       "Urinalysis: Leukocyte Esterase             2\n",
       "Urinalysis: Nitrites                       2\n",
       "Urinalysis: Urobiliogen (EU/DL)            2\n",
       "Toxicology: Amphetamine                    2\n",
       "Toxicology: Barbiturate                    2\n",
       "Toxicology: Benzodiazepines                2\n",
       "Toxicology: Cocaine                        2\n",
       "Toxicology: Opiates                        2\n",
       "Toxicology: Oxycodone                      2\n",
       "Toxicology: Phencyclidine                  2\n",
       "Toxicology: Methadone                      2\n",
       "MRI Eligibility?                           2\n",
       "PET Eligbility?                            2\n",
       "Notes/Specific Abnormalities:             35\n",
       "Length: 88, dtype: int64"
      ]
     },
     "execution_count": 170,
     "metadata": {},
     "output_type": "execute_result"
    }
   ],
   "source": [
    "print('COLUMNS: ',med_df.shape[1])\n",
    "print('COLUMN WITH MAX NUM OF MISSINGS: ', med_df.isna().sum().max() , '| Column: ' , med_df.isna().sum().idxmax())\n",
    "med_df.isna().sum()"
   ]
  },
  {
   "cell_type": "code",
   "execution_count": 174,
   "metadata": {},
   "outputs": [
    {
     "data": {
      "text/plain": [
       "(array([35.,  0.,  1.,  0.,  0.,  0.,  0.,  0.,  0.,  1.]),\n",
       " array([ 1. ,  9.6, 18.2, 26.8, 35.4, 44. , 52.6, 61.2, 69.8, 78.4, 87. ]),\n",
       " <a list of 10 Patch objects>)"
      ]
     },
     "execution_count": 174,
     "metadata": {},
     "output_type": "execute_result"
    },
    {
     "data": {
      "image/png": "[encoded data removed]",
      "text/plain": [
       "<Figure size 432x288 with 1 Axes>"
      ]
     },
     "metadata": {
      "needs_background": "light"
     },
     "output_type": "display_data"
    }
   ],
   "source": [
    "missing_rows = med_df.isna().any(axis=1)\n",
    "miss_subj_amount =  med_df.loc[missing_rows,:].isna().sum(axis = 1)\n",
    "plt.xlabel('Columns')\n",
    "plt.ylabel('# Missing')\n",
    "plt.hist(miss_subj_amount)"
   ]
  },
  {
   "cell_type": "markdown",
   "metadata": {},
   "source": [
    "It seems that the Specific Abnormalities field is a very rare field, so we should discard this for our analysis"
   ]
  },
  {
   "cell_type": "code",
   "execution_count": 183,
   "metadata": {},
   "outputs": [
    {
     "name": "stdout",
     "output_type": "stream",
     "text": [
      "COLUMNS:  87\n",
      "COLUMN WITH MAX NUM OF MISSINGS:  27 | Column:  HCG (mU/mL) [Women Only]\n"
     ]
    },
    {
     "data": {
      "text/plain": [
       "Subject                                   0\n",
       "Med History                               4\n",
       "Height (cm)                               1\n",
       "Weight (kg)                               1\n",
       "Vitals: Temp (˚F)                         2\n",
       "Vitals: Pulse                             1\n",
       "Vitals: Resp/min                          1\n",
       "Vitals: BP                                1\n",
       "Allergies:                                1\n",
       "Physical: General Appearance              1\n",
       "Physical: HEENT                           1\n",
       "Physical: Cardiovascular                  1\n",
       "Physical: Respiratory                     1\n",
       "Physical: Gastrointestinal                1\n",
       "Physical: Endocrine                       1\n",
       "Physical: Musculoskeletal                 1\n",
       "Physical:Lymphatic                        1\n",
       "Physical: Dermatologic                    1\n",
       "Neurological: Mental Status               1\n",
       "Neurological: Cranial Nerves              1\n",
       "Neurological: Sensory & Motor System      1\n",
       "Neurological: Coordination & Gait         1\n",
       "Neurological: Reflexes                    1\n",
       "EKG                                       1\n",
       "CBC: White Blood Cell Count (x 1000µL)    1\n",
       "CBC: Red Blood Cell Count (M/µL)          1\n",
       "CBC: Hemoglobin (g/dL)                    1\n",
       "CBC: Hemocrit (%)                         1\n",
       "CBC: MCV (fL)                             1\n",
       "CBC: MCHC (g/dL)                          1\n",
       "                                         ..\n",
       "Chemistry: Albumin (g/dL)                 1\n",
       "Chemistry: Bilirubin (mg/dL)              1\n",
       "Chemistry: Alkaline Phosphatase (U/L)     1\n",
       "Chemistry: ALT (U/L)                      1\n",
       "Chemistry: AST (U/L)                      1\n",
       "Chemistry: Globulin (g/dL)                1\n",
       "Chemistry: Albumin/Globulin Ratio         1\n",
       "Chemistry: GFR (mL/min/1.73m2)            2\n",
       "Urinalysis: Opacity                       2\n",
       "Urinalysis: Color                         2\n",
       "Urinalysis: Specific Gravity              2\n",
       "Urinalysis: pH                            2\n",
       "Urinalysis: Protein                       2\n",
       "Urinalysis: Glucose                       2\n",
       "Urinalysis: Blood                         2\n",
       "Urinalysis: Bilirubin                     2\n",
       "Urinalysis: Ketones                       2\n",
       "Urinalysis: Leukocyte Esterase            2\n",
       "Urinalysis: Nitrites                      2\n",
       "Urinalysis: Urobiliogen (EU/DL)           2\n",
       "Toxicology: Amphetamine                   2\n",
       "Toxicology: Barbiturate                   2\n",
       "Toxicology: Benzodiazepines               2\n",
       "Toxicology: Cocaine                       2\n",
       "Toxicology: Opiates                       2\n",
       "Toxicology: Oxycodone                     2\n",
       "Toxicology: Phencyclidine                 2\n",
       "Toxicology: Methadone                     2\n",
       "MRI Eligibility?                          2\n",
       "PET Eligbility?                           2\n",
       "Length: 87, dtype: int64"
      ]
     },
     "execution_count": 183,
     "metadata": {},
     "output_type": "execute_result"
    }
   ],
   "source": [
    "med_df = med_df.drop(columns='Notes/Specific Abnormalities:').copy()\n",
    "print('COLUMNS: ',med_df.shape[1])\n",
    "print('COLUMN WITH MAX NUM OF MISSINGS: ', med_df.isna().sum().max() , '| Column: ' , med_df.isna().sum().idxmax())\n",
    "med_df.isna().sum()"
   ]
  },
  {
   "cell_type": "code",
   "execution_count": 182,
   "metadata": {},
   "outputs": [
    {
     "data": {
      "text/plain": [
       "(array([27.,  0.,  1.,  0.,  0.,  0.,  0.,  0.,  0.,  1.]),\n",
       " array([ 1. ,  9.5, 18. , 26.5, 35. , 43.5, 52. , 60.5, 69. , 77.5, 86. ]),\n",
       " <a list of 10 Patch objects>)"
      ]
     },
     "execution_count": 182,
     "metadata": {},
     "output_type": "execute_result"
    },
    {
     "data": {
      "image/png": "[encoded data removed]",
      "text/plain": [
       "<Figure size 432x288 with 1 Axes>"
      ]
     },
     "metadata": {
      "needs_background": "light"
     },
     "output_type": "display_data"
    }
   ],
   "source": [
    "missing_rows = med_df.isna().any(axis=1)\n",
    "miss_subj_amount =  med_df.loc[missing_rows,:].isna().sum(axis = 1)\n",
    "plt.xlabel('Columns')\n",
    "plt.ylabel('# Missing')\n",
    "plt.hist(miss_subj_amount)"
   ]
  },
  {
   "cell_type": "code",
   "execution_count": 185,
   "metadata": {},
   "outputs": [
    {
     "data": {
      "text/html": [
       "<div>\n",
       "<style scoped>\n",
       "    .dataframe tbody tr th:only-of-type {\n",
       "        vertical-align: middle;\n",
       "    }\n",
       "\n",
       "    .dataframe tbody tr th {\n",
       "        vertical-align: top;\n",
       "    }\n",
       "\n",
       "    .dataframe thead th {\n",
       "        text-align: right;\n",
       "    }\n",
       "</style>\n",
       "<table border=\"1\" class=\"dataframe\">\n",
       "  <thead>\n",
       "    <tr style=\"text-align: right;\">\n",
       "      <th></th>\n",
       "      <th>Subject</th>\n",
       "      <th>Med History</th>\n",
       "      <th>Height (cm)</th>\n",
       "      <th>Weight (kg)</th>\n",
       "      <th>Vitals: Temp (˚F)</th>\n",
       "      <th>Vitals: Pulse</th>\n",
       "      <th>Vitals: Resp/min</th>\n",
       "      <th>Vitals: BP</th>\n",
       "      <th>Allergies:</th>\n",
       "      <th>Physical: General Appearance</th>\n",
       "      <th>...</th>\n",
       "      <th>Toxicology: Amphetamine</th>\n",
       "      <th>Toxicology: Barbiturate</th>\n",
       "      <th>Toxicology: Benzodiazepines</th>\n",
       "      <th>Toxicology: Cocaine</th>\n",
       "      <th>Toxicology: Opiates</th>\n",
       "      <th>Toxicology: Oxycodone</th>\n",
       "      <th>Toxicology: Phencyclidine</th>\n",
       "      <th>Toxicology: Methadone</th>\n",
       "      <th>MRI Eligibility?</th>\n",
       "      <th>PET Eligbility?</th>\n",
       "    </tr>\n",
       "  </thead>\n",
       "  <tbody>\n",
       "    <tr>\n",
       "      <th>15</th>\n",
       "      <td>1016</td>\n",
       "      <td>NaN</td>\n",
       "      <td>NaN</td>\n",
       "      <td>NaN</td>\n",
       "      <td>NaN</td>\n",
       "      <td>NaN</td>\n",
       "      <td>NaN</td>\n",
       "      <td>NaN</td>\n",
       "      <td>NaN</td>\n",
       "      <td>NaN</td>\n",
       "      <td>...</td>\n",
       "      <td>NaN</td>\n",
       "      <td>NaN</td>\n",
       "      <td>NaN</td>\n",
       "      <td>NaN</td>\n",
       "      <td>NaN</td>\n",
       "      <td>NaN</td>\n",
       "      <td>NaN</td>\n",
       "      <td>NaN</td>\n",
       "      <td>NaN</td>\n",
       "      <td>NaN</td>\n",
       "    </tr>\n",
       "    <tr>\n",
       "      <th>40</th>\n",
       "      <td>1041</td>\n",
       "      <td>Camrese (daily birth control); 6 drinks/month;...</td>\n",
       "      <td>164.0</td>\n",
       "      <td>86.0</td>\n",
       "      <td>97.9</td>\n",
       "      <td>65.0</td>\n",
       "      <td>14.0</td>\n",
       "      <td>115/71</td>\n",
       "      <td>Azithromycin</td>\n",
       "      <td>Normal</td>\n",
       "      <td>...</td>\n",
       "      <td>NaN</td>\n",
       "      <td>NaN</td>\n",
       "      <td>NaN</td>\n",
       "      <td>NaN</td>\n",
       "      <td>NaN</td>\n",
       "      <td>NaN</td>\n",
       "      <td>NaN</td>\n",
       "      <td>NaN</td>\n",
       "      <td>NaN</td>\n",
       "      <td>NaN</td>\n",
       "    </tr>\n",
       "  </tbody>\n",
       "</table>\n",
       "<p>2 rows × 87 columns</p>\n",
       "</div>"
      ],
      "text/plain": [
       "    Subject                                        Med History  Height (cm)  \\\n",
       "15     1016                                                NaN          NaN   \n",
       "40     1041  Camrese (daily birth control); 6 drinks/month;...        164.0   \n",
       "\n",
       "    Weight (kg)  Vitals: Temp (˚F)  Vitals: Pulse  Vitals: Resp/min  \\\n",
       "15          NaN                NaN            NaN               NaN   \n",
       "40         86.0               97.9           65.0              14.0   \n",
       "\n",
       "   Vitals: BP    Allergies: Physical: General Appearance  ...  \\\n",
       "15        NaN           NaN                          NaN  ...   \n",
       "40     115/71  Azithromycin                       Normal  ...   \n",
       "\n",
       "   Toxicology: Amphetamine Toxicology: Barbiturate   \\\n",
       "15                     NaN                      NaN   \n",
       "40                     NaN                      NaN   \n",
       "\n",
       "   Toxicology: Benzodiazepines Toxicology: Cocaine Toxicology: Opiates  \\\n",
       "15                         NaN                 NaN                 NaN   \n",
       "40                         NaN                 NaN                 NaN   \n",
       "\n",
       "   Toxicology: Oxycodone Toxicology: Phencyclidine Toxicology: Methadone  \\\n",
       "15                   NaN                       NaN                   NaN   \n",
       "40                   NaN                       NaN                   NaN   \n",
       "\n",
       "   MRI Eligibility? PET Eligbility?  \n",
       "15              NaN             NaN  \n",
       "40              NaN             NaN  \n",
       "\n",
       "[2 rows x 87 columns]"
      ]
     },
     "execution_count": 185,
     "metadata": {},
     "output_type": "execute_result"
    }
   ],
   "source": [
    "med_df.loc[ miss_subj_amount[miss_subj_amount > 10 ].index, :]"
   ]
  },
  {
   "cell_type": "code",
   "execution_count": 189,
   "metadata": {},
   "outputs": [
    {
     "name": "stdout",
     "output_type": "stream",
     "text": [
      "Missing values:  22\n"
     ]
    },
    {
     "data": {
      "text/plain": [
       "Subject                                                                                1041\n",
       "Med History                               Camrese (daily birth control); 6 drinks/month;...\n",
       "Height (cm)                                                                             164\n",
       "Weight (kg)                                                                              86\n",
       "Vitals: Temp (˚F)                                                                      97.9\n",
       "Vitals: Pulse                                                                            65\n",
       "Vitals: Resp/min                                                                         14\n",
       "Vitals: BP                                                                           115/71\n",
       "Allergies:                                                                     Azithromycin\n",
       "Physical: General Appearance                                                         Normal\n",
       "Physical: HEENT                                                                      Normal\n",
       "Physical: Cardiovascular                                                             Normal\n",
       "Physical: Respiratory                                                                Normal\n",
       "Physical: Gastrointestinal                                                           Normal\n",
       "Physical: Endocrine                                                                  Normal\n",
       "Physical: Musculoskeletal                                                            Normal\n",
       "Physical:Lymphatic                                                                   Normal\n",
       "Physical: Dermatologic                                                               Normal\n",
       "Neurological: Mental Status                                                          Normal\n",
       "Neurological: Cranial Nerves                                                         Normal\n",
       "Neurological: Sensory & Motor System                                                 Normal\n",
       "Neurological: Coordination & Gait                                                    Normal\n",
       "Neurological: Reflexes                                                               Normal\n",
       "EKG                                                                Normal ECG: Sinus rhythm\n",
       "CBC: White Blood Cell Count (x 1000µL)                                                  5.9\n",
       "CBC: Red Blood Cell Count (M/µL)                                                        4.4\n",
       "CBC: Hemoglobin (g/dL)                                                                 13.3\n",
       "CBC: Hemocrit (%)                                                                      37.7\n",
       "CBC: MCV (fL)                                                                            87\n",
       "CBC: MCHC (g/dL)                                                                       35.4\n",
       "                                                                ...                        \n",
       "Chemistry: Albumin (g/dL)                                                               4.3\n",
       "Chemistry: Bilirubin (mg/dL)                                                           0.29\n",
       "Chemistry: Alkaline Phosphatase (U/L)                                                    59\n",
       "Chemistry: ALT (U/L)                                                                     12\n",
       "Chemistry: AST (U/L)                                                                     14\n",
       "Chemistry: Globulin (g/dL)                                                              3.1\n",
       "Chemistry: Albumin/Globulin Ratio                                                       1.4\n",
       "Chemistry: GFR (mL/min/1.73m2)                                                          >60\n",
       "Urinalysis: Opacity                                                                     NaN\n",
       "Urinalysis: Color                                                                       NaN\n",
       "Urinalysis: Specific Gravity                                                            NaN\n",
       "Urinalysis: pH                                                                          NaN\n",
       "Urinalysis: Protein                                                                     NaN\n",
       "Urinalysis: Glucose                                                                     NaN\n",
       "Urinalysis: Blood                                                                       NaN\n",
       "Urinalysis: Bilirubin                                                                   NaN\n",
       "Urinalysis: Ketones                                                                     NaN\n",
       "Urinalysis: Leukocyte Esterase                                                          NaN\n",
       "Urinalysis: Nitrites                                                                    NaN\n",
       "Urinalysis: Urobiliogen (EU/DL)                                                         NaN\n",
       "Toxicology: Amphetamine                                                                 NaN\n",
       "Toxicology: Barbiturate                                                                 NaN\n",
       "Toxicology: Benzodiazepines                                                             NaN\n",
       "Toxicology: Cocaine                                                                     NaN\n",
       "Toxicology: Opiates                                                                     NaN\n",
       "Toxicology: Oxycodone                                                                   NaN\n",
       "Toxicology: Phencyclidine                                                               NaN\n",
       "Toxicology: Methadone                                                                   NaN\n",
       "MRI Eligibility?                                                                        NaN\n",
       "PET Eligbility?                                                                         NaN\n",
       "Name: 40, Length: 87, dtype: object"
      ]
     },
     "execution_count": 189,
     "metadata": {},
     "output_type": "execute_result"
    }
   ],
   "source": [
    "print('Missing values: ' , med_df.loc[40].isna().sum())\n",
    "med_df.loc[40]"
   ]
  },
  {
   "cell_type": "markdown",
   "metadata": {},
   "source": [
    ">Subject 1016 does not have any data<br>\n",
    ">Subject 1041 has 22 missing values, but this ones are for Urinalysis and Toxicology.<br>\n",
    ">It's probable that these subject does not have MRI data, we would need to check this."
   ]
  },
  {
   "cell_type": "markdown",
   "metadata": {},
   "source": [
    "Does any subject (besides 1016) have missing values for height, weight or EKG?"
   ]
  },
  {
   "cell_type": "code",
   "execution_count": 197,
   "metadata": {},
   "outputs": [
    {
     "data": {
      "text/plain": [
       "Height (cm)    0\n",
       "Weight (kg)    0\n",
       "EKG            0\n",
       "dtype: int64"
      ]
     },
     "execution_count": 197,
     "metadata": {},
     "output_type": "execute_result"
    }
   ],
   "source": [
    "med_df.loc[med_df['Subject'] != 1016,['Height (cm)','Weight (kg)', 'EKG']].isna().sum()"
   ]
  },
  {
   "cell_type": "markdown",
   "metadata": {},
   "source": [
    "Let's recode the EKG column with a categorycal variable"
   ]
  },
  {
   "cell_type": "code",
   "execution_count": 243,
   "metadata": {},
   "outputs": [],
   "source": [
    "med_df['Modif EKG'] = np.nan\n",
    "for data,idx in zip(med_df['EKG'],med_df['EKG'].index): \n",
    "    try:\n",
    "        data = data.lower()\n",
    "    except AttributeError as error:\n",
    "        data = np.nan\n",
    "        continue\n",
    "    if re.match(r'abnormal|borderline' , data):\n",
    "        data = 'Abnormal'\n",
    "    else:\n",
    "        data = 'Normal'\n",
    "    med_df['Modif EKG'].loc[idx] = data"
   ]
  },
  {
   "cell_type": "markdown",
   "metadata": {},
   "source": [
    "# In summary we only have 37 subjects available<br>\n",
    "# Subject 1016 is useless, because it does not have any survey data.<br>\n",
    "# Subjects [1029, 1039] have one missing value each (over more than 500 variables), so we are going to include them.<br>"
   ]
  },
  {
   "cell_type": "code",
   "execution_count": 290,
   "metadata": {},
   "outputs": [],
   "source": [
    "final_ids = ids.copy()"
   ]
  },
  {
   "cell_type": "code",
   "execution_count": 291,
   "metadata": {},
   "outputs": [],
   "source": [
    "final_ids.remove(1016)"
   ]
  },
  {
   "cell_type": "code",
   "execution_count": 292,
   "metadata": {},
   "outputs": [],
   "source": [
    "variables_used = ['Demographics', 'Medical Screening','AVI', 'BISBAS', 'BIS', 'TPQ-NS', 'NEO-SF', 'FTP', 'SBQ','SWLS' ]"
   ]
  },
  {
   "cell_type": "code",
   "execution_count": 293,
   "metadata": {},
   "outputs": [],
   "source": [
    "SURVEY_DF = R00.copy()"
   ]
  },
  {
   "cell_type": "code",
   "execution_count": 295,
   "metadata": {},
   "outputs": [],
   "source": [
    "var_to_delete = [i for i in SURVEY_DF.keys() if i not in variables_used]"
   ]
  },
  {
   "cell_type": "code",
   "execution_count": 296,
   "metadata": {},
   "outputs": [],
   "source": [
    "for i in var_to_delete:\n",
    "    del SURVEY_DF[i]"
   ]
  },
  {
   "cell_type": "code",
   "execution_count": 297,
   "metadata": {},
   "outputs": [
    {
     "data": {
      "text/plain": [
       "odict_keys(['Demographics', 'Medical Screening', 'AVI', 'BISBAS', 'BIS', 'TPQ-NS', 'NEO-SF', 'SWLS', 'FTP', 'SBQ'])"
      ]
     },
     "execution_count": 297,
     "metadata": {},
     "output_type": "execute_result"
    }
   ],
   "source": [
    "SURVEY_DF.keys()"
   ]
  },
  {
   "cell_type": "code",
   "execution_count": 298,
   "metadata": {},
   "outputs": [
    {
     "name": "stdout",
     "output_type": "stream",
     "text": [
      "Demographics\n",
      "Medical Screening\n",
      "AVI\n",
      "BISBAS\n",
      "BIS\n",
      "TPQ-NS\n",
      "NEO-SF\n",
      "FTP\n",
      "SBQ\n",
      "SWLS\n"
     ]
    }
   ],
   "source": [
    "for i in variables_used:\n",
    "    print(i)\n",
    "    SURVEY_DF[i] = SURVEY_DF[i].loc[SURVEY_DF[i]['Subject'].isin(final_ids),:].copy()"
   ]
  },
  {
   "cell_type": "code",
   "execution_count": 304,
   "metadata": {},
   "outputs": [],
   "source": [
    "with open('Clean Data/SURVEY_DF.pickle', 'wb') as handle:\n",
    "    pickle.dump(SURVEY_DF,handle)"
   ]
  },
  {
   "cell_type": "markdown",
   "metadata": {},
   "source": [
    "# Outlier analysis"
   ]
  },
  {
   "cell_type": "code",
   "execution_count": 57,
   "metadata": {},
   "outputs": [],
   "source": [
    "with open('Clean Data/SURVEY_DF.pickle', 'rb') as handle:\n",
    "    df = pickle.load(handle)"
   ]
  },
  {
   "cell_type": "code",
   "execution_count": 2,
   "metadata": {},
   "outputs": [],
   "source": [
    "def get_outliers(df,variable, columns):\n",
    "    all_outliers = {}\n",
    "    if not isinstance(columns,str) and len(columns) > 1:\n",
    "        for i in columns:\n",
    "            fliers = boxplot_stats(df[variable].loc[:,i])[0]['fliers']\n",
    "            print(i, fliers)\n",
    "            all_outliers[i] = df[variable].loc[:,i].loc[df[variable].loc[:,i].isin(fliers)]\n",
    "    else:\n",
    "        fliers = boxplot_stats(df[variable].loc[:,columns])[0]['fliers']\n",
    "        print(fliers)\n",
    "        all_outliers[columns] = df[variable].loc[:,columns].loc[df[variable].loc[:,columns].isin(fliers)]\n",
    "        \n",
    "    return all_outliers"
   ]
  },
  {
   "cell_type": "code",
   "execution_count": 3,
   "metadata": {},
   "outputs": [],
   "source": [
    "def print_outlier(all_outliers,df, variable, column):\n",
    "    dict_df = {}\n",
    "    if not isinstance(column,str) and len(column) > 1:\n",
    "        for i in column:\n",
    "            if all_outliers[i].empty: \n",
    "                continue\n",
    "            idx =  list(all_outliers[i].index)\n",
    "            #print(idx)\n",
    "            dict_df[i] = df[variable].loc[idx]\n",
    "        return dict_df        \n",
    "    else:\n",
    "        if all_outliers[column].empty: \n",
    "            return  None\n",
    "        idx =  list(all_outliers[column].index)\n",
    "        print(idx)\n",
    "        small_df = df[variable].loc[idx]\n",
    "        return small_df"
   ]
  },
  {
   "cell_type": "markdown",
   "metadata": {},
   "source": [
    "### Demographics"
   ]
  },
  {
   "cell_type": "code",
   "execution_count": 3,
   "metadata": {},
   "outputs": [
    {
     "data": {
      "text/plain": [
       "Subject               int64\n",
       "Occupation           object\n",
       "Education           float64\n",
       "Ethnicity            object\n",
       "Religion             object\n",
       "Sex                  object\n",
       "Marital_Status       object\n",
       "Children            float64\n",
       "Lives_with           object\n",
       "Household_income     object\n",
       "Medications          object\n",
       "dtype: object"
      ]
     },
     "execution_count": 3,
     "metadata": {},
     "output_type": "execute_result"
    }
   ],
   "source": [
    "df['Demographics'].dtypes"
   ]
  },
  {
   "cell_type": "markdown",
   "metadata": {},
   "source": [
    "#### Education"
   ]
  },
  {
   "cell_type": "code",
   "execution_count": 74,
   "metadata": {},
   "outputs": [
    {
     "data": {
      "text/plain": [
       "<matplotlib.axes._subplots.AxesSubplot at 0x168dd993e48>"
      ]
     },
     "execution_count": 74,
     "metadata": {},
     "output_type": "execute_result"
    },
    {
     "data": {
      "image/png": "[encoded data removed]",
      "text/plain": [
       "<Figure size 432x288 with 1 Axes>"
      ]
     },
     "metadata": {
      "needs_background": "light"
     },
     "output_type": "display_data"
    }
   ],
   "source": [
    "sbn.boxplot(df['Demographics']['Education'], whis = 1.5,orient= 'vertical')\n",
    "#Data inside whiskers --> the lowest datum still within 1.5 IQR of the lower quartile, and the highest datum still within 1.5 IQR of the upper quartile\n",
    "#Any data not included between the whiskers should be plotted as an outlier with a dot, small circle, or star, but occasionally this is not done."
   ]
  },
  {
   "cell_type": "markdown",
   "metadata": {},
   "source": [
    "#### Children"
   ]
  },
  {
   "cell_type": "code",
   "execution_count": 75,
   "metadata": {},
   "outputs": [
    {
     "data": {
      "text/plain": [
       "<matplotlib.axes._subplots.AxesSubplot at 0x168dd9c7d68>"
      ]
     },
     "execution_count": 75,
     "metadata": {},
     "output_type": "execute_result"
    },
    {
     "data": {
      "image/png": "[encoded data removed]",
      "text/plain": [
       "<Figure size 432x288 with 1 Axes>"
      ]
     },
     "metadata": {
      "needs_background": "light"
     },
     "output_type": "display_data"
    }
   ],
   "source": [
    "sbn.boxplot(df['Demographics']['Children'], whis = 1.5,orient= 'vertical')"
   ]
  },
  {
   "cell_type": "markdown",
   "metadata": {},
   "source": [
    "### AVI"
   ]
  },
  {
   "cell_type": "code",
   "execution_count": 76,
   "metadata": {},
   "outputs": [],
   "source": [
    "avi_short = df['AVI'].iloc[:,-16:-8]"
   ]
  },
  {
   "cell_type": "code",
   "execution_count": 77,
   "metadata": {},
   "outputs": [
    {
     "data": {
      "text/plain": [
       "<matplotlib.axes._subplots.AxesSubplot at 0x168dda075c0>"
      ]
     },
     "execution_count": 77,
     "metadata": {},
     "output_type": "execute_result"
    },
    {
     "data": {
      "image/png": "[encoded data removed]",
      "text/plain": [
       "<Figure size 432x288 with 1 Axes>"
      ]
     },
     "metadata": {
      "needs_background": "light"
     },
     "output_type": "display_data"
    }
   ],
   "source": [
    "avi_short.boxplot()"
   ]
  },
  {
   "cell_type": "code",
   "execution_count": 294,
   "metadata": {},
   "outputs": [
    {
     "data": {
      "text/plain": [
       "Text(0.5, 0, 'Actual emotion')"
      ]
     },
     "execution_count": 294,
     "metadata": {},
     "output_type": "execute_result"
    },
    {
     "data": {
      "image/png": "[encoded data removed]",
      "text/plain": [
       "<Figure size 1080x360 with 1 Axes>"
      ]
     },
     "metadata": {
      "needs_background": "light"
     },
     "output_type": "display_data"
    }
   ],
   "source": [
    "plt.figure(figsize=(15,5))\n",
    "sbn.boxplot(x=\"variable\", y=\"value\", data= pd.melt(avi_short))\n",
    "plt.xlabel('Actual emotion')"
   ]
  },
  {
   "cell_type": "code",
   "execution_count": 288,
   "metadata": {},
   "outputs": [
    {
     "name": "stdout",
     "output_type": "stream",
     "text": [
      "HAP_actual []\n",
      "P_actual []\n",
      "LAP_actual []\n",
      "LA_actual [1.4 1.4 1.4 3.4 3.2]\n",
      "LAN_actual [3.66666667]\n",
      "N_actual [1.         1.         1.         2.66666667 2.66666667 3.\n",
      " 3.33333333]\n",
      "HAN_actual [3.33333333]\n",
      "HA_actual [1.33333333 1.33333333 3.33333333 3.        ]\n"
     ]
    }
   ],
   "source": [
    "outliers = print_outlier(get_outliers(df, 'AVI',avi_short.columns), df,'AVI', avi_short.columns)"
   ]
  },
  {
   "cell_type": "code",
   "execution_count": 291,
   "metadata": {},
   "outputs": [
    {
     "data": {
      "text/plain": [
       "dict_keys(['LA_actual', 'LAN_actual', 'N_actual', 'HAN_actual', 'HA_actual'])"
      ]
     },
     "execution_count": 291,
     "metadata": {},
     "output_type": "execute_result"
    }
   ],
   "source": [
    "outliers.keys()"
   ]
  },
  {
   "cell_type": "code",
   "execution_count": 293,
   "metadata": {},
   "outputs": [
    {
     "data": {
      "text/html": [
       "<div>\n",
       "<style scoped>\n",
       "    .dataframe tbody tr th:only-of-type {\n",
       "        vertical-align: middle;\n",
       "    }\n",
       "\n",
       "    .dataframe tbody tr th {\n",
       "        vertical-align: top;\n",
       "    }\n",
       "\n",
       "    .dataframe thead th {\n",
       "        text-align: right;\n",
       "    }\n",
       "</style>\n",
       "<table border=\"1\" class=\"dataframe\">\n",
       "  <thead>\n",
       "    <tr style=\"text-align: right;\">\n",
       "      <th></th>\n",
       "      <th>index</th>\n",
       "      <th>Subject</th>\n",
       "      <th>Actually Feel: Enthusiastic</th>\n",
       "      <th>Actual HAP</th>\n",
       "      <th>Actually Feel: Dull</th>\n",
       "      <th>Actual LAN</th>\n",
       "      <th>Actually Feel: Excited</th>\n",
       "      <th>Actual HAP.1</th>\n",
       "      <th>Actually Feel: Sleepy</th>\n",
       "      <th>Actual LAN.1</th>\n",
       "      <th>...</th>\n",
       "      <th>HAN_actual</th>\n",
       "      <th>HA_actual</th>\n",
       "      <th>HAP_ideal</th>\n",
       "      <th>P_ideal</th>\n",
       "      <th>LAP_actual.1</th>\n",
       "      <th>LA_ideal</th>\n",
       "      <th>LAN_ideal</th>\n",
       "      <th>N_ideal</th>\n",
       "      <th>HAN_ideal</th>\n",
       "      <th>HA_ideal</th>\n",
       "    </tr>\n",
       "  </thead>\n",
       "  <tbody>\n",
       "    <tr>\n",
       "      <th>47</th>\n",
       "      <td>47</td>\n",
       "      <td>1048</td>\n",
       "      <td>M</td>\n",
       "      <td>4.0</td>\n",
       "      <td>N</td>\n",
       "      <td>1.0</td>\n",
       "      <td>A</td>\n",
       "      <td>2.0</td>\n",
       "      <td>ALL</td>\n",
       "      <td>5.0</td>\n",
       "      <td>...</td>\n",
       "      <td>1.0</td>\n",
       "      <td>2.0</td>\n",
       "      <td>5.0</td>\n",
       "      <td>5.0</td>\n",
       "      <td>5.0</td>\n",
       "      <td>1.8</td>\n",
       "      <td>1.0</td>\n",
       "      <td>1.0</td>\n",
       "      <td>1.0</td>\n",
       "      <td>4.666667</td>\n",
       "    </tr>\n",
       "  </tbody>\n",
       "</table>\n",
       "<p>1 rows × 138 columns</p>\n",
       "</div>"
      ],
      "text/plain": [
       "    index  Subject Actually Feel: Enthusiastic  Actual HAP  \\\n",
       "47     47     1048                           M         4.0   \n",
       "\n",
       "   Actually Feel: Dull  Actual LAN Actually Feel: Excited  Actual HAP.1  \\\n",
       "47                   N         1.0                      A           2.0   \n",
       "\n",
       "   Actually Feel: Sleepy  Actual LAN.1  ... HAN_actual  HA_actual HAP_ideal  \\\n",
       "47                   ALL           5.0  ...        1.0        2.0       5.0   \n",
       "\n",
       "    P_ideal LAP_actual.1  LA_ideal LAN_ideal  N_ideal HAN_ideal  HA_ideal  \n",
       "47      5.0          5.0       1.8       1.0      1.0       1.0  4.666667  \n",
       "\n",
       "[1 rows x 138 columns]"
      ]
     },
     "execution_count": 293,
     "metadata": {},
     "output_type": "execute_result"
    }
   ],
   "source": [
    "outliers['LAN_actual']"
   ]
  },
  {
   "cell_type": "markdown",
   "metadata": {},
   "source": [
    "### SBQ "
   ]
  },
  {
   "cell_type": "code",
   "execution_count": 280,
   "metadata": {},
   "outputs": [
    {
     "name": "stdout",
     "output_type": "stream",
     "text": [
      "[]\n"
     ]
    },
    {
     "data": {
      "image/png": "[encoded data removed]",
      "text/plain": [
       "<Figure size 432x288 with 1 Axes>"
      ]
     },
     "metadata": {
      "needs_background": "light"
     },
     "output_type": "display_data"
    }
   ],
   "source": [
    "sbn.boxplot(df['SBQ'].loc[:,'SBQ'],orient= 'vertical')\n",
    "print_outlier(get_outliers(df, 'SBQ','SBQ'), df,'SBQ', 'SBQ')"
   ]
  },
  {
   "cell_type": "markdown",
   "metadata": {},
   "source": [
    "### SWLS "
   ]
  },
  {
   "cell_type": "code",
   "execution_count": 281,
   "metadata": {},
   "outputs": [
    {
     "name": "stdout",
     "output_type": "stream",
     "text": [
      "[4 6]\n",
      "[40, 59]\n"
     ]
    },
    {
     "data": {
      "text/html": [
       "<div>\n",
       "<style scoped>\n",
       "    .dataframe tbody tr th:only-of-type {\n",
       "        vertical-align: middle;\n",
       "    }\n",
       "\n",
       "    .dataframe tbody tr th {\n",
       "        vertical-align: top;\n",
       "    }\n",
       "\n",
       "    .dataframe thead th {\n",
       "        text-align: right;\n",
       "    }\n",
       "</style>\n",
       "<table border=\"1\" class=\"dataframe\">\n",
       "  <thead>\n",
       "    <tr style=\"text-align: right;\">\n",
       "      <th></th>\n",
       "      <th>Subject</th>\n",
       "      <th>1) In most ways my life is close to ideal.</th>\n",
       "      <th>2) The conditions of my life are excellent.</th>\n",
       "      <th>3) I am satisfied with my life.</th>\n",
       "      <th>4) So far I have gotten the important things I want in life.</th>\n",
       "      <th>5) If I could live my life over, I would change almost nothing.</th>\n",
       "      <th>SWLS</th>\n",
       "    </tr>\n",
       "  </thead>\n",
       "  <tbody>\n",
       "    <tr>\n",
       "      <th>40</th>\n",
       "      <td>1041</td>\n",
       "      <td>0.0</td>\n",
       "      <td>0.0</td>\n",
       "      <td>4.0</td>\n",
       "      <td>0.0</td>\n",
       "      <td>0.0</td>\n",
       "      <td>4</td>\n",
       "    </tr>\n",
       "    <tr>\n",
       "      <th>59</th>\n",
       "      <td>1060</td>\n",
       "      <td>0.0</td>\n",
       "      <td>2.0</td>\n",
       "      <td>2.0</td>\n",
       "      <td>2.0</td>\n",
       "      <td>0.0</td>\n",
       "      <td>6</td>\n",
       "    </tr>\n",
       "  </tbody>\n",
       "</table>\n",
       "</div>"
      ],
      "text/plain": [
       "    Subject  1) In most ways my life is close to ideal.  \\\n",
       "40     1041                                         0.0   \n",
       "59     1060                                         0.0   \n",
       "\n",
       "    2) The conditions of my life are excellent.  \\\n",
       "40                                          0.0   \n",
       "59                                          2.0   \n",
       "\n",
       "    3) I am satisfied with my life.  \\\n",
       "40                              4.0   \n",
       "59                              2.0   \n",
       "\n",
       "    4) So far I have gotten the important things I want in life.  \\\n",
       "40                                                0.0              \n",
       "59                                                2.0              \n",
       "\n",
       "    5) If I could live my life over, I would change almost nothing.  SWLS  \n",
       "40                                                0.0                   4  \n",
       "59                                                0.0                   6  "
      ]
     },
     "execution_count": 281,
     "metadata": {},
     "output_type": "execute_result"
    },
    {
     "data": {
      "image/png": "[encoded data removed]",
      "text/plain": [
       "<Figure size 432x288 with 1 Axes>"
      ]
     },
     "metadata": {
      "needs_background": "light"
     },
     "output_type": "display_data"
    }
   ],
   "source": [
    "sbn.boxplot(df['SWLS'].loc[:,'SWLS'],orient= 'vertical')\n",
    "print_outlier(get_outliers(df, 'SWLS','SWLS'), df,'SWLS', 'SWLS')"
   ]
  },
  {
   "cell_type": "markdown",
   "metadata": {},
   "source": [
    "### TPQ-NS "
   ]
  },
  {
   "cell_type": "code",
   "execution_count": 282,
   "metadata": {},
   "outputs": [
    {
     "name": "stdout",
     "output_type": "stream",
     "text": [
      "[24. 23.]\n",
      "[29, 83]\n"
     ]
    },
    {
     "data": {
      "text/html": [
       "<div>\n",
       "<style scoped>\n",
       "    .dataframe tbody tr th:only-of-type {\n",
       "        vertical-align: middle;\n",
       "    }\n",
       "\n",
       "    .dataframe tbody tr th {\n",
       "        vertical-align: top;\n",
       "    }\n",
       "\n",
       "    .dataframe thead th {\n",
       "        text-align: right;\n",
       "    }\n",
       "</style>\n",
       "<table border=\"1\" class=\"dataframe\">\n",
       "  <thead>\n",
       "    <tr style=\"text-align: right;\">\n",
       "      <th></th>\n",
       "      <th>Subject</th>\n",
       "      <th>1) I often try new things just for fun or thrills, even if most people think it's a waste of time.</th>\n",
       "      <th>NS1</th>\n",
       "      <th>2) When nothing new is happening, I usually start looking for something thrilling or exciting.</th>\n",
       "      <th>NS1.1</th>\n",
       "      <th>3) I usually demand very good practical reasons before I'm willing to change my old ways of doing things.</th>\n",
       "      <th>NS1.2</th>\n",
       "      <th>4) I hate to change the way I do things, even if many people tell me there is a new and better way to do it.</th>\n",
       "      <th>NS1.3</th>\n",
       "      <th>5) I like it when people can do whatever they want without strict rules and regulations.</th>\n",
       "      <th>...</th>\n",
       "      <th>NS1.7</th>\n",
       "      <th>33) I like to stay at home better than to travel or explore new places.</th>\n",
       "      <th>NS1.8</th>\n",
       "      <th>34) I like to pay close attention to details in everything I do.</th>\n",
       "      <th>NS2.7</th>\n",
       "      <th>NS1.9</th>\n",
       "      <th>NS2.8</th>\n",
       "      <th>NS3.7</th>\n",
       "      <th>NS4.10</th>\n",
       "      <th>NS_total</th>\n",
       "    </tr>\n",
       "  </thead>\n",
       "  <tbody>\n",
       "    <tr>\n",
       "      <th>29</th>\n",
       "      <td>1030</td>\n",
       "      <td>T</td>\n",
       "      <td>1.0</td>\n",
       "      <td>F</td>\n",
       "      <td>0.0</td>\n",
       "      <td>F</td>\n",
       "      <td>1.0</td>\n",
       "      <td>F</td>\n",
       "      <td>1.0</td>\n",
       "      <td>T</td>\n",
       "      <td>...</td>\n",
       "      <td>1.0</td>\n",
       "      <td>F</td>\n",
       "      <td>1.0</td>\n",
       "      <td>F</td>\n",
       "      <td>1.0</td>\n",
       "      <td>7.0</td>\n",
       "      <td>5.0</td>\n",
       "      <td>5.0</td>\n",
       "      <td>7.0</td>\n",
       "      <td>24.0</td>\n",
       "    </tr>\n",
       "    <tr>\n",
       "      <th>83</th>\n",
       "      <td>1084</td>\n",
       "      <td>T</td>\n",
       "      <td>1.0</td>\n",
       "      <td>F</td>\n",
       "      <td>0.0</td>\n",
       "      <td>F</td>\n",
       "      <td>1.0</td>\n",
       "      <td>T</td>\n",
       "      <td>0.0</td>\n",
       "      <td>T</td>\n",
       "      <td>...</td>\n",
       "      <td>0.0</td>\n",
       "      <td>T</td>\n",
       "      <td>0.0</td>\n",
       "      <td>F</td>\n",
       "      <td>1.0</td>\n",
       "      <td>4.0</td>\n",
       "      <td>5.0</td>\n",
       "      <td>7.0</td>\n",
       "      <td>7.0</td>\n",
       "      <td>23.0</td>\n",
       "    </tr>\n",
       "  </tbody>\n",
       "</table>\n",
       "<p>2 rows × 74 columns</p>\n",
       "</div>"
      ],
      "text/plain": [
       "    Subject  \\\n",
       "29     1030   \n",
       "83     1084   \n",
       "\n",
       "   1) I often try new things just for fun or thrills, even if most people think it's a waste of time.  \\\n",
       "29                                                  T                                                   \n",
       "83                                                  T                                                   \n",
       "\n",
       "    NS1  \\\n",
       "29  1.0   \n",
       "83  1.0   \n",
       "\n",
       "   2) When nothing new is happening, I usually start looking for something thrilling or exciting.  \\\n",
       "29                                                  F                                               \n",
       "83                                                  F                                               \n",
       "\n",
       "    NS1.1  \\\n",
       "29    0.0   \n",
       "83    0.0   \n",
       "\n",
       "   3) I usually demand very good practical reasons before I'm willing to change my old ways of doing things.  \\\n",
       "29                                                  F                                                          \n",
       "83                                                  F                                                          \n",
       "\n",
       "    NS1.2  \\\n",
       "29    1.0   \n",
       "83    1.0   \n",
       "\n",
       "   4) I hate to change the way I do things, even if many people tell me there is a new and better way to do it.  \\\n",
       "29                                                  F                                                             \n",
       "83                                                  T                                                             \n",
       "\n",
       "    NS1.3  \\\n",
       "29    1.0   \n",
       "83    0.0   \n",
       "\n",
       "   5) I like it when people can do whatever they want without strict rules and regulations.  \\\n",
       "29                                                  T                                         \n",
       "83                                                  T                                         \n",
       "\n",
       "    ...  NS1.7  \\\n",
       "29  ...    1.0   \n",
       "83  ...    0.0   \n",
       "\n",
       "   33) I like to stay at home better than to travel or explore new places.  \\\n",
       "29                                                  F                        \n",
       "83                                                  T                        \n",
       "\n",
       "    NS1.8 34) I like to pay close attention to details in everything I do.  \\\n",
       "29    1.0                                                  F                 \n",
       "83    0.0                                                  F                 \n",
       "\n",
       "    NS2.7 NS1.9  NS2.8 NS3.7  NS4.10 NS_total  \n",
       "29    1.0   7.0    5.0   5.0     7.0     24.0  \n",
       "83    1.0   4.0    5.0   7.0     7.0     23.0  \n",
       "\n",
       "[2 rows x 74 columns]"
      ]
     },
     "execution_count": 282,
     "metadata": {},
     "output_type": "execute_result"
    },
    {
     "data": {
      "image/png": "[encoded data removed]",
      "text/plain": [
       "<Figure size 432x288 with 1 Axes>"
      ]
     },
     "metadata": {
      "needs_background": "light"
     },
     "output_type": "display_data"
    }
   ],
   "source": [
    "sbn.boxplot(df['TPQ-NS'].loc[:,'NS_total'],orient= 'vertical')\n",
    "print_outlier(get_outliers(df, 'TPQ-NS','NS_total'), df,'TPQ-NS', 'NS_total')"
   ]
  },
  {
   "cell_type": "markdown",
   "metadata": {},
   "source": [
    "### FTP "
   ]
  },
  {
   "cell_type": "code",
   "execution_count": 284,
   "metadata": {},
   "outputs": [
    {
     "name": "stdout",
     "output_type": "stream",
     "text": [
      "[2.4]\n",
      "[38]\n"
     ]
    },
    {
     "data": {
      "text/html": [
       "<div>\n",
       "<style scoped>\n",
       "    .dataframe tbody tr th:only-of-type {\n",
       "        vertical-align: middle;\n",
       "    }\n",
       "\n",
       "    .dataframe tbody tr th {\n",
       "        vertical-align: top;\n",
       "    }\n",
       "\n",
       "    .dataframe thead th {\n",
       "        text-align: right;\n",
       "    }\n",
       "</style>\n",
       "<table border=\"1\" class=\"dataframe\">\n",
       "  <thead>\n",
       "    <tr style=\"text-align: right;\">\n",
       "      <th></th>\n",
       "      <th>Subject</th>\n",
       "      <th>1) Many opportunities await me in the future.</th>\n",
       "      <th>2) I expect that I will set many new goals in the future.</th>\n",
       "      <th>3) My future is filled with possibilities.</th>\n",
       "      <th>4) Most of my life lies ahead of me.</th>\n",
       "      <th>5) My future seems infinite to me.</th>\n",
       "      <th>6) I could do anything I want in the future.</th>\n",
       "      <th>7) There is plenty of time left in my life to make new plans.</th>\n",
       "      <th>8) I have the sense that time is running out.</th>\n",
       "      <th>Revese</th>\n",
       "      <th>9) There are only limited possibilities in my future.</th>\n",
       "      <th>Reverse</th>\n",
       "      <th>10) As I get older, I begin to experience time as limited.</th>\n",
       "      <th>Reverse.1</th>\n",
       "      <th>FTP</th>\n",
       "    </tr>\n",
       "  </thead>\n",
       "  <tbody>\n",
       "    <tr>\n",
       "      <th>38</th>\n",
       "      <td>1039</td>\n",
       "      <td>3.0</td>\n",
       "      <td>3.0</td>\n",
       "      <td>4.0</td>\n",
       "      <td>1.0</td>\n",
       "      <td>1.0</td>\n",
       "      <td>2.0</td>\n",
       "      <td>3.0</td>\n",
       "      <td>6.0</td>\n",
       "      <td>2.0</td>\n",
       "      <td>5.0</td>\n",
       "      <td>3.0</td>\n",
       "      <td>6.0</td>\n",
       "      <td>2.0</td>\n",
       "      <td>2.4</td>\n",
       "    </tr>\n",
       "  </tbody>\n",
       "</table>\n",
       "</div>"
      ],
      "text/plain": [
       "    Subject  1) Many opportunities await me in the future.  \\\n",
       "38     1039                                            3.0   \n",
       "\n",
       "    2) I expect that I will set many new goals in the future.  \\\n",
       "38                                                3.0           \n",
       "\n",
       "    3) My future is filled with possibilities.  \\\n",
       "38                                         4.0   \n",
       "\n",
       "    4) Most of my life lies ahead of me.  5) My future seems infinite to me.  \\\n",
       "38                                   1.0                                 1.0   \n",
       "\n",
       "    6) I could do anything I want in the future.  \\\n",
       "38                                           2.0   \n",
       "\n",
       "    7) There is plenty of time left in my life to make new plans.  \\\n",
       "38                                                3.0               \n",
       "\n",
       "    8) I have the sense that time is running out.  Revese  \\\n",
       "38                                            6.0     2.0   \n",
       "\n",
       "    9) There are only limited possibilities in my future.  Reverse  \\\n",
       "38                                                5.0          3.0   \n",
       "\n",
       "    10) As I get older, I begin to experience time as limited.  Reverse.1  FTP  \n",
       "38                                                6.0                 2.0  2.4  "
      ]
     },
     "execution_count": 284,
     "metadata": {},
     "output_type": "execute_result"
    },
    {
     "data": {
      "image/png": "[encoded data removed]",
      "text/plain": [
       "<Figure size 432x288 with 1 Axes>"
      ]
     },
     "metadata": {
      "needs_background": "light"
     },
     "output_type": "display_data"
    }
   ],
   "source": [
    "ax = sbn.boxplot(df['FTP'].loc[:,'FTP'],orient= 'vertical')\n",
    "print_outlier(get_outliers(df, 'FTP','FTP'), df,'FTP', 'FTP')"
   ]
  },
  {
   "cell_type": "markdown",
   "metadata": {},
   "source": [
    "### BISBAS"
   ]
  },
  {
   "cell_type": "code",
   "execution_count": 299,
   "metadata": {},
   "outputs": [],
   "source": [
    "small_bisbas = df['BISBAS'].iloc[:,-4:]"
   ]
  },
  {
   "cell_type": "code",
   "execution_count": 300,
   "metadata": {},
   "outputs": [
    {
     "data": {
      "text/plain": [
       "Text(0.5, 0, 'Actual emotion')"
      ]
     },
     "execution_count": 300,
     "metadata": {},
     "output_type": "execute_result"
    },
    {
     "data": {
      "image/png": "[encoded data removed]",
      "text/plain": [
       "<Figure size 1080x360 with 1 Axes>"
      ]
     },
     "metadata": {
      "needs_background": "light"
     },
     "output_type": "display_data"
    }
   ],
   "source": [
    "plt.figure(figsize=(15,5))\n",
    "sbn.boxplot(x=\"variable\", y=\"value\", data= pd.melt(small_bisbas))\n",
    "plt.xlabel('Actual emotion')"
   ]
  },
  {
   "cell_type": "code",
   "execution_count": 303,
   "metadata": {},
   "outputs": [
    {
     "name": "stdout",
     "output_type": "stream",
     "text": [
      "BIS.5 []\n",
      "BAS_D [4.]\n",
      "BAS_FS [5.]\n",
      "BAS_RR []\n"
     ]
    }
   ],
   "source": [
    "outliers_bisbas = print_outlier(get_outliers(df, 'BISBAS',small_bisbas.columns), df,'BISBAS', small_bisbas.columns)"
   ]
  },
  {
   "cell_type": "code",
   "execution_count": 304,
   "metadata": {},
   "outputs": [
    {
     "data": {
      "text/html": [
       "<div>\n",
       "<style scoped>\n",
       "    .dataframe tbody tr th:only-of-type {\n",
       "        vertical-align: middle;\n",
       "    }\n",
       "\n",
       "    .dataframe tbody tr th {\n",
       "        vertical-align: top;\n",
       "    }\n",
       "\n",
       "    .dataframe thead th {\n",
       "        text-align: right;\n",
       "    }\n",
       "</style>\n",
       "<table border=\"1\" class=\"dataframe\">\n",
       "  <thead>\n",
       "    <tr style=\"text-align: right;\">\n",
       "      <th></th>\n",
       "      <th>index</th>\n",
       "      <th>Subject</th>\n",
       "      <th>1) When I get something I want, I feel excited and energized.</th>\n",
       "      <th>BAS RR</th>\n",
       "      <th>2) If I think something unpleasant is about to happen, I usually get pretty worked up.</th>\n",
       "      <th>BIS</th>\n",
       "      <th>3) If I see a chance to get something I want, I move in on it right away.</th>\n",
       "      <th>BAS Drive</th>\n",
       "      <th>4) I worry about making mistakes.</th>\n",
       "      <th>BIS.1</th>\n",
       "      <th>...</th>\n",
       "      <th>18) I have very fews fears compared to my friends.</th>\n",
       "      <th>BIS-reverse.1</th>\n",
       "      <th>19)When good things happen to me, it affects me strongly.</th>\n",
       "      <th>BAS RR.3</th>\n",
       "      <th>20) When I see an opportunity for something I like, I get excited right away.</th>\n",
       "      <th>BAS RR.4</th>\n",
       "      <th>BIS.5</th>\n",
       "      <th>BAS_D</th>\n",
       "      <th>BAS_FS</th>\n",
       "      <th>BAS_RR</th>\n",
       "    </tr>\n",
       "  </thead>\n",
       "  <tbody>\n",
       "    <tr>\n",
       "      <th>40</th>\n",
       "      <td>40</td>\n",
       "      <td>1041</td>\n",
       "      <td>5.0</td>\n",
       "      <td>5.0</td>\n",
       "      <td>1.0</td>\n",
       "      <td>1.0</td>\n",
       "      <td>1.0</td>\n",
       "      <td>1.0</td>\n",
       "      <td>5.0</td>\n",
       "      <td>5.0</td>\n",
       "      <td>...</td>\n",
       "      <td>5.0</td>\n",
       "      <td>1.0</td>\n",
       "      <td>5.0</td>\n",
       "      <td>5.0</td>\n",
       "      <td>5.0</td>\n",
       "      <td>5.0</td>\n",
       "      <td>19.0</td>\n",
       "      <td>4.0</td>\n",
       "      <td>16.0</td>\n",
       "      <td>25.0</td>\n",
       "    </tr>\n",
       "  </tbody>\n",
       "</table>\n",
       "<p>1 rows × 46 columns</p>\n",
       "</div>"
      ],
      "text/plain": [
       "    index  Subject  \\\n",
       "40     40     1041   \n",
       "\n",
       "    1) When I get something I want, I feel excited and energized.  BAS RR  \\\n",
       "40                                                5.0                 5.0   \n",
       "\n",
       "    2) If I think something unpleasant is about to happen, I usually get pretty worked up.  \\\n",
       "40                                                1.0                                        \n",
       "\n",
       "    BIS  \\\n",
       "40  1.0   \n",
       "\n",
       "    3) If I see a chance to get something I want, I move in on it right away.  \\\n",
       "40                                                1.0                           \n",
       "\n",
       "    BAS Drive  4) I worry about making mistakes.  BIS.1  ...  \\\n",
       "40        1.0                                5.0    5.0  ...   \n",
       "\n",
       "    18) I have very fews fears compared to my friends.  BIS-reverse.1  \\\n",
       "40                                                5.0             1.0   \n",
       "\n",
       "    19)When good things happen to me, it affects me strongly.  BAS RR.3  \\\n",
       "40                                                5.0               5.0   \n",
       "\n",
       "    20) When I see an opportunity for something I like, I get excited right away.  \\\n",
       "40                                                5.0                               \n",
       "\n",
       "    BAS RR.4  BIS.5  BAS_D  BAS_FS  BAS_RR  \n",
       "40       5.0   19.0    4.0    16.0    25.0  \n",
       "\n",
       "[1 rows x 46 columns]"
      ]
     },
     "execution_count": 304,
     "metadata": {},
     "output_type": "execute_result"
    }
   ],
   "source": [
    "outliers_bisbas['BAS_D']"
   ]
  },
  {
   "cell_type": "code",
   "execution_count": 306,
   "metadata": {},
   "outputs": [
    {
     "data": {
      "text/html": [
       "<div>\n",
       "<style scoped>\n",
       "    .dataframe tbody tr th:only-of-type {\n",
       "        vertical-align: middle;\n",
       "    }\n",
       "\n",
       "    .dataframe tbody tr th {\n",
       "        vertical-align: top;\n",
       "    }\n",
       "\n",
       "    .dataframe thead th {\n",
       "        text-align: right;\n",
       "    }\n",
       "</style>\n",
       "<table border=\"1\" class=\"dataframe\">\n",
       "  <thead>\n",
       "    <tr style=\"text-align: right;\">\n",
       "      <th></th>\n",
       "      <th>index</th>\n",
       "      <th>Subject</th>\n",
       "      <th>1) When I get something I want, I feel excited and energized.</th>\n",
       "      <th>BAS RR</th>\n",
       "      <th>2) If I think something unpleasant is about to happen, I usually get pretty worked up.</th>\n",
       "      <th>BIS</th>\n",
       "      <th>3) If I see a chance to get something I want, I move in on it right away.</th>\n",
       "      <th>BAS Drive</th>\n",
       "      <th>4) I worry about making mistakes.</th>\n",
       "      <th>BIS.1</th>\n",
       "      <th>...</th>\n",
       "      <th>18) I have very fews fears compared to my friends.</th>\n",
       "      <th>BIS-reverse.1</th>\n",
       "      <th>19)When good things happen to me, it affects me strongly.</th>\n",
       "      <th>BAS RR.3</th>\n",
       "      <th>20) When I see an opportunity for something I like, I get excited right away.</th>\n",
       "      <th>BAS RR.4</th>\n",
       "      <th>BIS.5</th>\n",
       "      <th>BAS_D</th>\n",
       "      <th>BAS_FS</th>\n",
       "      <th>BAS_RR</th>\n",
       "    </tr>\n",
       "  </thead>\n",
       "  <tbody>\n",
       "    <tr>\n",
       "      <th>28</th>\n",
       "      <td>28</td>\n",
       "      <td>1029</td>\n",
       "      <td>1.0</td>\n",
       "      <td>1.0</td>\n",
       "      <td>1.0</td>\n",
       "      <td>1.0</td>\n",
       "      <td>1.0</td>\n",
       "      <td>1.0</td>\n",
       "      <td>1.0</td>\n",
       "      <td>1.0</td>\n",
       "      <td>...</td>\n",
       "      <td>5.0</td>\n",
       "      <td>1.0</td>\n",
       "      <td>5.0</td>\n",
       "      <td>5.0</td>\n",
       "      <td>1.0</td>\n",
       "      <td>1.0</td>\n",
       "      <td>11.0</td>\n",
       "      <td>6.0</td>\n",
       "      <td>5.0</td>\n",
       "      <td>13.0</td>\n",
       "    </tr>\n",
       "  </tbody>\n",
       "</table>\n",
       "<p>1 rows × 46 columns</p>\n",
       "</div>"
      ],
      "text/plain": [
       "    index  Subject  \\\n",
       "28     28     1029   \n",
       "\n",
       "    1) When I get something I want, I feel excited and energized.  BAS RR  \\\n",
       "28                                                1.0                 1.0   \n",
       "\n",
       "    2) If I think something unpleasant is about to happen, I usually get pretty worked up.  \\\n",
       "28                                                1.0                                        \n",
       "\n",
       "    BIS  \\\n",
       "28  1.0   \n",
       "\n",
       "    3) If I see a chance to get something I want, I move in on it right away.  \\\n",
       "28                                                1.0                           \n",
       "\n",
       "    BAS Drive  4) I worry about making mistakes.  BIS.1  ...  \\\n",
       "28        1.0                                1.0    1.0  ...   \n",
       "\n",
       "    18) I have very fews fears compared to my friends.  BIS-reverse.1  \\\n",
       "28                                                5.0             1.0   \n",
       "\n",
       "    19)When good things happen to me, it affects me strongly.  BAS RR.3  \\\n",
       "28                                                5.0               5.0   \n",
       "\n",
       "    20) When I see an opportunity for something I like, I get excited right away.  \\\n",
       "28                                                1.0                               \n",
       "\n",
       "    BAS RR.4  BIS.5  BAS_D  BAS_FS  BAS_RR  \n",
       "28       1.0   11.0    6.0     5.0    13.0  \n",
       "\n",
       "[1 rows x 46 columns]"
      ]
     },
     "execution_count": 306,
     "metadata": {},
     "output_type": "execute_result"
    }
   ],
   "source": [
    "outliers_bisbas['BAS_FS']"
   ]
  },
  {
   "cell_type": "code",
   "execution_count": 311,
   "metadata": {},
   "outputs": [],
   "source": [
    "small_bis = df['BIS'].iloc[:,-10:]"
   ]
  },
  {
   "cell_type": "code",
   "execution_count": 313,
   "metadata": {},
   "outputs": [
    {
     "name": "stdout",
     "output_type": "stream",
     "text": [
      "BIS_total []\n",
      "Attention_1 [18.]\n",
      "CogIns [11.]\n",
      "Motor_1 []\n",
      "Perserverance []\n",
      "Self-Control []\n",
      "CogComp []\n",
      "Attention_2 []\n",
      "Motor_2 []\n",
      "Nonplanning [32. 30. 30.]\n"
     ]
    }
   ],
   "source": [
    "outliers_bis = print_outlier(get_outliers(df, 'BIS',small_bis.columns), df,'BIS', small_bis.columns)"
   ]
  },
  {
   "cell_type": "code",
   "execution_count": 315,
   "metadata": {},
   "outputs": [
    {
     "data": {
      "text/plain": [
       "Text(0.5, 0, 'Actual emotion')"
      ]
     },
     "execution_count": 315,
     "metadata": {},
     "output_type": "execute_result"
    },
    {
     "data": {
      "image/png": "[encoded data removed]",
      "text/plain": [
       "<Figure size 1080x360 with 1 Axes>"
      ]
     },
     "metadata": {
      "needs_background": "light"
     },
     "output_type": "display_data"
    }
   ],
   "source": [
    "plt.figure(figsize=(15,5))\n",
    "sbn.boxplot(x=\"variable\", y=\"value\", data= pd.melt(small_bis.iloc[:,1:])) \n",
    "plt.xlabel('Actual emotion')"
   ]
  },
  {
   "cell_type": "code",
   "execution_count": 316,
   "metadata": {},
   "outputs": [
    {
     "data": {
      "image/png": "[encoded data removed]",
      "text/plain": [
       "<Figure size 432x288 with 1 Axes>"
      ]
     },
     "metadata": {
      "needs_background": "light"
     },
     "output_type": "display_data"
    }
   ],
   "source": [
    "ax = sbn.boxplot(df['BIS'].loc[:,'BIS_total'],orient= 'vertical') #No outliers on the genera scale"
   ]
  },
  {
   "cell_type": "markdown",
   "metadata": {},
   "source": [
    "### Medical Screening"
   ]
  },
  {
   "cell_type": "code",
   "execution_count": 319,
   "metadata": {},
   "outputs": [
    {
     "data": {
      "text/html": [
       "<div>\n",
       "<style scoped>\n",
       "    .dataframe tbody tr th:only-of-type {\n",
       "        vertical-align: middle;\n",
       "    }\n",
       "\n",
       "    .dataframe tbody tr th {\n",
       "        vertical-align: top;\n",
       "    }\n",
       "\n",
       "    .dataframe thead th {\n",
       "        text-align: right;\n",
       "    }\n",
       "</style>\n",
       "<table border=\"1\" class=\"dataframe\">\n",
       "  <thead>\n",
       "    <tr style=\"text-align: right;\">\n",
       "      <th></th>\n",
       "      <th>Subject</th>\n",
       "      <th>Med History</th>\n",
       "      <th>Height (cm)</th>\n",
       "      <th>Weight (kg)</th>\n",
       "      <th>Vitals: Temp (˚F)</th>\n",
       "      <th>Vitals: Pulse</th>\n",
       "      <th>Vitals: Resp/min</th>\n",
       "      <th>Vitals: BP</th>\n",
       "      <th>Allergies:</th>\n",
       "      <th>Physical: General Appearance</th>\n",
       "      <th>...</th>\n",
       "      <th>Toxicology: Barbiturate</th>\n",
       "      <th>Toxicology: Benzodiazepines</th>\n",
       "      <th>Toxicology: Cocaine</th>\n",
       "      <th>Toxicology: Opiates</th>\n",
       "      <th>Toxicology: Oxycodone</th>\n",
       "      <th>Toxicology: Phencyclidine</th>\n",
       "      <th>Toxicology: Methadone</th>\n",
       "      <th>MRI Eligibility?</th>\n",
       "      <th>PET Eligbility?</th>\n",
       "      <th>Notes/Specific Abnormalities:</th>\n",
       "    </tr>\n",
       "  </thead>\n",
       "  <tbody>\n",
       "    <tr>\n",
       "      <th>1</th>\n",
       "      <td>1002</td>\n",
       "      <td>Psychiatric disorder-P. Grandmother</td>\n",
       "      <td>161.0</td>\n",
       "      <td>61.5</td>\n",
       "      <td>98.0</td>\n",
       "      <td>73.0</td>\n",
       "      <td>16.0</td>\n",
       "      <td>117/84</td>\n",
       "      <td>Penicillin</td>\n",
       "      <td>Normal</td>\n",
       "      <td>...</td>\n",
       "      <td>Negative</td>\n",
       "      <td>Negative</td>\n",
       "      <td>Negative</td>\n",
       "      <td>Negative</td>\n",
       "      <td>Negative</td>\n",
       "      <td>Negative</td>\n",
       "      <td>Negative</td>\n",
       "      <td>Yes</td>\n",
       "      <td>Yes</td>\n",
       "      <td>NaN</td>\n",
       "    </tr>\n",
       "    <tr>\n",
       "      <th>3</th>\n",
       "      <td>1004</td>\n",
       "      <td>Paxil-2014 (2 month usage)</td>\n",
       "      <td>174.0</td>\n",
       "      <td>91.5</td>\n",
       "      <td>97.9</td>\n",
       "      <td>50.0</td>\n",
       "      <td>20.0</td>\n",
       "      <td>132/73</td>\n",
       "      <td>None</td>\n",
       "      <td>Normal</td>\n",
       "      <td>...</td>\n",
       "      <td>Negative</td>\n",
       "      <td>Negative</td>\n",
       "      <td>Negative</td>\n",
       "      <td>Negative</td>\n",
       "      <td>Negative</td>\n",
       "      <td>Negative</td>\n",
       "      <td>Negative</td>\n",
       "      <td>Yes</td>\n",
       "      <td>Yes</td>\n",
       "      <td>NaN</td>\n",
       "    </tr>\n",
       "    <tr>\n",
       "      <th>7</th>\n",
       "      <td>1008</td>\n",
       "      <td>Current: EPAP apnea, RX-20mg acifex, 1995- her...</td>\n",
       "      <td>182.0</td>\n",
       "      <td>103.7</td>\n",
       "      <td>97.2</td>\n",
       "      <td>77.0</td>\n",
       "      <td>16.0</td>\n",
       "      <td>118/72</td>\n",
       "      <td>None</td>\n",
       "      <td>Normal</td>\n",
       "      <td>...</td>\n",
       "      <td>Negative</td>\n",
       "      <td>Negative</td>\n",
       "      <td>Negative</td>\n",
       "      <td>Negative</td>\n",
       "      <td>Negative</td>\n",
       "      <td>Negative</td>\n",
       "      <td>Negative</td>\n",
       "      <td>Yes</td>\n",
       "      <td>Yes</td>\n",
       "      <td>NaN</td>\n",
       "    </tr>\n",
       "    <tr>\n",
       "      <th>8</th>\n",
       "      <td>1009</td>\n",
       "      <td>None</td>\n",
       "      <td>175.0</td>\n",
       "      <td>87.0</td>\n",
       "      <td>96.7</td>\n",
       "      <td>54.0</td>\n",
       "      <td>16.0</td>\n",
       "      <td>118/70</td>\n",
       "      <td>None</td>\n",
       "      <td>Normal</td>\n",
       "      <td>...</td>\n",
       "      <td>Negative</td>\n",
       "      <td>Negative</td>\n",
       "      <td>Negative</td>\n",
       "      <td>Negative</td>\n",
       "      <td>Negative</td>\n",
       "      <td>Negative</td>\n",
       "      <td>Negative</td>\n",
       "      <td>Yes</td>\n",
       "      <td>Yes</td>\n",
       "      <td>NaN</td>\n",
       "    </tr>\n",
       "    <tr>\n",
       "      <th>13</th>\n",
       "      <td>1014</td>\n",
       "      <td>HBP, high cholesterol, daughter-MDD, father-MI...</td>\n",
       "      <td>167.6</td>\n",
       "      <td>87.8</td>\n",
       "      <td>98.4</td>\n",
       "      <td>100.0</td>\n",
       "      <td>16.0</td>\n",
       "      <td>111/80</td>\n",
       "      <td>None</td>\n",
       "      <td>Normal</td>\n",
       "      <td>...</td>\n",
       "      <td>Negative</td>\n",
       "      <td>Negative</td>\n",
       "      <td>Negative</td>\n",
       "      <td>Negative</td>\n",
       "      <td>Negative</td>\n",
       "      <td>Negative</td>\n",
       "      <td>Negative</td>\n",
       "      <td>Yes</td>\n",
       "      <td>Yes</td>\n",
       "      <td>NaN</td>\n",
       "    </tr>\n",
       "  </tbody>\n",
       "</table>\n",
       "<p>5 rows × 88 columns</p>\n",
       "</div>"
      ],
      "text/plain": [
       "    Subject                                        Med History  Height (cm)  \\\n",
       "1      1002                Psychiatric disorder-P. Grandmother        161.0   \n",
       "3      1004                         Paxil-2014 (2 month usage)        174.0   \n",
       "7      1008  Current: EPAP apnea, RX-20mg acifex, 1995- her...        182.0   \n",
       "8      1009                                               None        175.0   \n",
       "13     1014  HBP, high cholesterol, daughter-MDD, father-MI...        167.6   \n",
       "\n",
       "    Weight (kg)  Vitals: Temp (˚F)  Vitals: Pulse  Vitals: Resp/min  \\\n",
       "1          61.5               98.0           73.0              16.0   \n",
       "3          91.5               97.9           50.0              20.0   \n",
       "7         103.7               97.2           77.0              16.0   \n",
       "8          87.0               96.7           54.0              16.0   \n",
       "13         87.8               98.4          100.0              16.0   \n",
       "\n",
       "   Vitals: BP  Allergies: Physical: General Appearance  ...  \\\n",
       "1      117/84  Penicillin                       Normal  ...   \n",
       "3      132/73        None                       Normal  ...   \n",
       "7      118/72        None                       Normal  ...   \n",
       "8      118/70        None                       Normal  ...   \n",
       "13     111/80        None                       Normal  ...   \n",
       "\n",
       "   Toxicology: Barbiturate  Toxicology: Benzodiazepines Toxicology: Cocaine  \\\n",
       "1                  Negative                    Negative            Negative   \n",
       "3                  Negative                    Negative            Negative   \n",
       "7                  Negative                    Negative            Negative   \n",
       "8                  Negative                    Negative            Negative   \n",
       "13                 Negative                    Negative            Negative   \n",
       "\n",
       "   Toxicology: Opiates Toxicology: Oxycodone Toxicology: Phencyclidine  \\\n",
       "1             Negative              Negative                  Negative   \n",
       "3             Negative              Negative                  Negative   \n",
       "7             Negative              Negative                  Negative   \n",
       "8             Negative              Negative                  Negative   \n",
       "13            Negative              Negative                  Negative   \n",
       "\n",
       "   Toxicology: Methadone MRI Eligibility? PET Eligbility?  \\\n",
       "1               Negative              Yes             Yes   \n",
       "3               Negative              Yes             Yes   \n",
       "7               Negative              Yes             Yes   \n",
       "8               Negative              Yes             Yes   \n",
       "13              Negative              Yes             Yes   \n",
       "\n",
       "   Notes/Specific Abnormalities:  \n",
       "1                            NaN  \n",
       "3                            NaN  \n",
       "7                            NaN  \n",
       "8                            NaN  \n",
       "13                           NaN  \n",
       "\n",
       "[5 rows x 88 columns]"
      ]
     },
     "execution_count": 319,
     "metadata": {},
     "output_type": "execute_result"
    }
   ],
   "source": [
    "df['Medical Screening'].head()"
   ]
  },
  {
   "cell_type": "code",
   "execution_count": 323,
   "metadata": {},
   "outputs": [
    {
     "data": {
      "text/plain": [
       "Text(0.5, 0, 'Actual emotion')"
      ]
     },
     "execution_count": 323,
     "metadata": {},
     "output_type": "execute_result"
    },
    {
     "data": {
      "image/png": "[encoded data removed]",
      "text/plain": [
       "<Figure size 1080x360 with 1 Axes>"
      ]
     },
     "metadata": {
      "needs_background": "light"
     },
     "output_type": "display_data"
    }
   ],
   "source": [
    "plt.figure(figsize=(15,5))\n",
    "sbn.boxplot(x=\"variable\", y=\"value\", data= pd.melt(df['Medical Screening'].iloc[:,2:7])) \n",
    "plt.xlabel('Actual emotion')"
   ]
  },
  {
   "cell_type": "code",
   "execution_count": 23,
   "metadata": {},
   "outputs": [
    {
     "name": "stdout",
     "output_type": "stream",
     "text": [
      "Height (cm) []\n",
      "Weight (kg) [134.2]\n",
      "Vitals: Temp (˚F) []\n",
      "Vitals: Pulse [100.]\n",
      "Vitals: Resp/min [12. 12. 20. 18. 20. 18.]\n"
     ]
    },
    {
     "name": "stderr",
     "output_type": "stream",
     "text": [
      "C:\\Users\\joaqu\\Anaconda3\\lib\\site-packages\\numpy\\lib\\function_base.py:3826: RuntimeWarning: Invalid value encountered in percentile\n",
      "  interpolation=interpolation)\n",
      "C:\\Users\\joaqu\\Anaconda3\\lib\\site-packages\\matplotlib\\cbook\\__init__.py:1316: RuntimeWarning: invalid value encountered in less_equal\n",
      "  wiskhi = x[x <= hival]\n",
      "C:\\Users\\joaqu\\Anaconda3\\lib\\site-packages\\matplotlib\\cbook\\__init__.py:1323: RuntimeWarning: invalid value encountered in greater_equal\n",
      "  wisklo = x[x >= loval]\n",
      "C:\\Users\\joaqu\\Anaconda3\\lib\\site-packages\\matplotlib\\cbook\\__init__.py:1331: RuntimeWarning: invalid value encountered in less\n",
      "  x[x < stats['whislo']],\n",
      "C:\\Users\\joaqu\\Anaconda3\\lib\\site-packages\\matplotlib\\cbook\\__init__.py:1332: RuntimeWarning: invalid value encountered in greater\n",
      "  x[x > stats['whishi']],\n"
     ]
    }
   ],
   "source": [
    "outliers_medical = print_outlier(get_outliers(df, 'Medical Screening', df['Medical Screening'].iloc[:,2:7].columns), df,'Medical Screening', df['Medical Screening'].iloc[:,2:7].columns)"
   ]
  },
  {
   "cell_type": "code",
   "execution_count": 26,
   "metadata": {},
   "outputs": [
    {
     "data": {
      "text/html": [
       "<div>\n",
       "<style scoped>\n",
       "    .dataframe tbody tr th:only-of-type {\n",
       "        vertical-align: middle;\n",
       "    }\n",
       "\n",
       "    .dataframe tbody tr th {\n",
       "        vertical-align: top;\n",
       "    }\n",
       "\n",
       "    .dataframe thead th {\n",
       "        text-align: right;\n",
       "    }\n",
       "</style>\n",
       "<table border=\"1\" class=\"dataframe\">\n",
       "  <thead>\n",
       "    <tr style=\"text-align: right;\">\n",
       "      <th></th>\n",
       "      <th>Subject</th>\n",
       "      <th>Med History</th>\n",
       "      <th>Height (cm)</th>\n",
       "      <th>Weight (kg)</th>\n",
       "      <th>Vitals: Temp (˚F)</th>\n",
       "      <th>Vitals: Pulse</th>\n",
       "      <th>Vitals: Resp/min</th>\n",
       "      <th>Vitals: BP</th>\n",
       "      <th>Allergies:</th>\n",
       "      <th>Physical: General Appearance</th>\n",
       "      <th>...</th>\n",
       "      <th>Toxicology: Barbiturate</th>\n",
       "      <th>Toxicology: Benzodiazepines</th>\n",
       "      <th>Toxicology: Cocaine</th>\n",
       "      <th>Toxicology: Opiates</th>\n",
       "      <th>Toxicology: Oxycodone</th>\n",
       "      <th>Toxicology: Phencyclidine</th>\n",
       "      <th>Toxicology: Methadone</th>\n",
       "      <th>MRI Eligibility?</th>\n",
       "      <th>PET Eligbility?</th>\n",
       "      <th>Notes/Specific Abnormalities:</th>\n",
       "    </tr>\n",
       "  </thead>\n",
       "  <tbody>\n",
       "    <tr>\n",
       "      <td>3</td>\n",
       "      <td>1004</td>\n",
       "      <td>Paxil-2014 (2 month usage)</td>\n",
       "      <td>174.0</td>\n",
       "      <td>91.5</td>\n",
       "      <td>97.9</td>\n",
       "      <td>50.0</td>\n",
       "      <td>20.0</td>\n",
       "      <td>132/73</td>\n",
       "      <td>None</td>\n",
       "      <td>Normal</td>\n",
       "      <td>...</td>\n",
       "      <td>Negative</td>\n",
       "      <td>Negative</td>\n",
       "      <td>Negative</td>\n",
       "      <td>Negative</td>\n",
       "      <td>Negative</td>\n",
       "      <td>Negative</td>\n",
       "      <td>Negative</td>\n",
       "      <td>Yes</td>\n",
       "      <td>Yes</td>\n",
       "      <td>NaN</td>\n",
       "    </tr>\n",
       "    <tr>\n",
       "      <td>20</td>\n",
       "      <td>1021</td>\n",
       "      <td>Father-heart attack in 50s</td>\n",
       "      <td>167.0</td>\n",
       "      <td>81.0</td>\n",
       "      <td>99.1</td>\n",
       "      <td>69.0</td>\n",
       "      <td>12.0</td>\n",
       "      <td>132/74</td>\n",
       "      <td>None</td>\n",
       "      <td>Normal</td>\n",
       "      <td>...</td>\n",
       "      <td>Negative</td>\n",
       "      <td>Negative</td>\n",
       "      <td>Negative</td>\n",
       "      <td>Negative</td>\n",
       "      <td>Negative</td>\n",
       "      <td>Negative</td>\n",
       "      <td>Negative</td>\n",
       "      <td>Yes</td>\n",
       "      <td>Yes</td>\n",
       "      <td>NaN</td>\n",
       "    </tr>\n",
       "    <tr>\n",
       "      <td>59</td>\n",
       "      <td>1060</td>\n",
       "      <td>Hypertension; Lisinopril (10mg), HCTZ (25mg); ...</td>\n",
       "      <td>159.5</td>\n",
       "      <td>80.0</td>\n",
       "      <td>97.7</td>\n",
       "      <td>76.0</td>\n",
       "      <td>18.0</td>\n",
       "      <td>130/82</td>\n",
       "      <td>Penicillin</td>\n",
       "      <td>Normal</td>\n",
       "      <td>...</td>\n",
       "      <td>Negative</td>\n",
       "      <td>Negative</td>\n",
       "      <td>Negative</td>\n",
       "      <td>Negative</td>\n",
       "      <td>Negative</td>\n",
       "      <td>Negative</td>\n",
       "      <td>Negative</td>\n",
       "      <td>Yes</td>\n",
       "      <td>Yes</td>\n",
       "      <td>NaN</td>\n",
       "    </tr>\n",
       "    <tr>\n",
       "      <td>78</td>\n",
       "      <td>1079</td>\n",
       "      <td>HTN; hypercholesterolemia; amoldapine; simvast...</td>\n",
       "      <td>172.0</td>\n",
       "      <td>75.0</td>\n",
       "      <td>97.0</td>\n",
       "      <td>88.0</td>\n",
       "      <td>20.0</td>\n",
       "      <td>150/70</td>\n",
       "      <td>None</td>\n",
       "      <td>Normal</td>\n",
       "      <td>...</td>\n",
       "      <td>Negative</td>\n",
       "      <td>Negative</td>\n",
       "      <td>Negative</td>\n",
       "      <td>Negative</td>\n",
       "      <td>Negative</td>\n",
       "      <td>Negative</td>\n",
       "      <td>Negative</td>\n",
       "      <td>Yes</td>\n",
       "      <td>Yes</td>\n",
       "      <td>NaN</td>\n",
       "    </tr>\n",
       "    <tr>\n",
       "      <td>83</td>\n",
       "      <td>1084</td>\n",
       "      <td>None</td>\n",
       "      <td>177.0</td>\n",
       "      <td>106.0</td>\n",
       "      <td>97.3</td>\n",
       "      <td>57.0</td>\n",
       "      <td>12.0</td>\n",
       "      <td>123/84</td>\n",
       "      <td>Prilosec OTC</td>\n",
       "      <td>Normal</td>\n",
       "      <td>...</td>\n",
       "      <td>Negative</td>\n",
       "      <td>Negative</td>\n",
       "      <td>Negative</td>\n",
       "      <td>Negative</td>\n",
       "      <td>Negative</td>\n",
       "      <td>Negative</td>\n",
       "      <td>Negative</td>\n",
       "      <td>yes</td>\n",
       "      <td>yes</td>\n",
       "      <td>NaN</td>\n",
       "    </tr>\n",
       "    <tr>\n",
       "      <td>84</td>\n",
       "      <td>1085</td>\n",
       "      <td>NaN</td>\n",
       "      <td>180.0</td>\n",
       "      <td>79.0</td>\n",
       "      <td>98.1</td>\n",
       "      <td>55.0</td>\n",
       "      <td>18.0</td>\n",
       "      <td>108/59</td>\n",
       "      <td>None</td>\n",
       "      <td>Normal</td>\n",
       "      <td>...</td>\n",
       "      <td>Negative</td>\n",
       "      <td>Negative</td>\n",
       "      <td>Negative</td>\n",
       "      <td>Negative</td>\n",
       "      <td>Negative</td>\n",
       "      <td>Negative</td>\n",
       "      <td>Negative</td>\n",
       "      <td>Yes</td>\n",
       "      <td>Yes</td>\n",
       "      <td>NaN</td>\n",
       "    </tr>\n",
       "  </tbody>\n",
       "</table>\n",
       "<p>6 rows × 88 columns</p>\n",
       "</div>"
      ],
      "text/plain": [
       "    Subject                                        Med History  Height (cm)  \\\n",
       "3      1004                         Paxil-2014 (2 month usage)        174.0   \n",
       "20     1021                         Father-heart attack in 50s        167.0   \n",
       "59     1060  Hypertension; Lisinopril (10mg), HCTZ (25mg); ...        159.5   \n",
       "78     1079  HTN; hypercholesterolemia; amoldapine; simvast...        172.0   \n",
       "83     1084                                               None        177.0   \n",
       "84     1085                                                NaN        180.0   \n",
       "\n",
       "    Weight (kg)  Vitals: Temp (˚F)  Vitals: Pulse  Vitals: Resp/min  \\\n",
       "3          91.5               97.9           50.0              20.0   \n",
       "20         81.0               99.1           69.0              12.0   \n",
       "59         80.0               97.7           76.0              18.0   \n",
       "78         75.0               97.0           88.0              20.0   \n",
       "83        106.0               97.3           57.0              12.0   \n",
       "84         79.0               98.1           55.0              18.0   \n",
       "\n",
       "   Vitals: BP     Allergies: Physical: General Appearance  ...  \\\n",
       "3      132/73           None                       Normal  ...   \n",
       "20     132/74           None                       Normal  ...   \n",
       "59     130/82     Penicillin                       Normal  ...   \n",
       "78     150/70           None                       Normal  ...   \n",
       "83     123/84  Prilosec OTC                        Normal  ...   \n",
       "84     108/59           None                       Normal  ...   \n",
       "\n",
       "   Toxicology: Barbiturate  Toxicology: Benzodiazepines Toxicology: Cocaine  \\\n",
       "3                  Negative                    Negative            Negative   \n",
       "20                 Negative                    Negative            Negative   \n",
       "59                 Negative                    Negative            Negative   \n",
       "78                 Negative                    Negative            Negative   \n",
       "83                 Negative                    Negative            Negative   \n",
       "84                 Negative                    Negative            Negative   \n",
       "\n",
       "   Toxicology: Opiates Toxicology: Oxycodone Toxicology: Phencyclidine  \\\n",
       "3             Negative              Negative                  Negative   \n",
       "20            Negative              Negative                  Negative   \n",
       "59            Negative              Negative                  Negative   \n",
       "78            Negative              Negative                  Negative   \n",
       "83            Negative              Negative                  Negative   \n",
       "84            Negative              Negative                  Negative   \n",
       "\n",
       "   Toxicology: Methadone MRI Eligibility? PET Eligbility?  \\\n",
       "3               Negative              Yes             Yes   \n",
       "20              Negative              Yes             Yes   \n",
       "59              Negative              Yes             Yes   \n",
       "78              Negative              Yes             Yes   \n",
       "83              Negative              yes             yes   \n",
       "84              Negative              Yes             Yes   \n",
       "\n",
       "   Notes/Specific Abnormalities:  \n",
       "3                            NaN  \n",
       "20                           NaN  \n",
       "59                           NaN  \n",
       "78                           NaN  \n",
       "83                           NaN  \n",
       "84                           NaN  \n",
       "\n",
       "[6 rows x 88 columns]"
      ]
     },
     "execution_count": 26,
     "metadata": {},
     "output_type": "execute_result"
    }
   ],
   "source": [
    "outliers_medical['Vitals: Resp/min']"
   ]
  },
  {
   "cell_type": "markdown",
   "metadata": {},
   "source": [
    "Let's explore the pressure"
   ]
  },
  {
   "cell_type": "code",
   "execution_count": 16,
   "metadata": {},
   "outputs": [],
   "source": [
    "vitals = df['Medical Screening']['Vitals: BP'].str.split('/') \n",
    "dummy = pd.DataFrame(data = {'Subject':df['Medical Screening']['Subject'], 'Vitals B' : map(lambda x: int(x[0]), vitals), 'Vitals P' :  map(lambda x: int(x[1]), vitals) })"
   ]
  },
  {
   "cell_type": "code",
   "execution_count": 21,
   "metadata": {},
   "outputs": [
    {
     "data": {
      "text/plain": [
       "Text(0.5, 1.0, 'Vitals B')"
      ]
     },
     "execution_count": 21,
     "metadata": {},
     "output_type": "execute_result"
    },
    {
     "data": {
      "image/png": "[encoded data removed]",
      "text/plain": [
       "<Figure size 432x288 with 1 Axes>"
      ]
     },
     "metadata": {
      "needs_background": "light"
     },
     "output_type": "display_data"
    }
   ],
   "source": [
    "ax1 = sbn.boxplot(dummy['Vitals B'],orient= 'vertical')\n",
    "ax1.set_title('Vitals B')"
   ]
  },
  {
   "cell_type": "code",
   "execution_count": 22,
   "metadata": {},
   "outputs": [
    {
     "data": {
      "text/plain": [
       "Text(0.5, 1.0, 'Vitals P')"
      ]
     },
     "execution_count": 22,
     "metadata": {},
     "output_type": "execute_result"
    },
    {
     "data": {
      "image/png": "[encoded data removed]",
      "text/plain": [
       "<Figure size 432x288 with 1 Axes>"
      ]
     },
     "metadata": {
      "needs_background": "light"
     },
     "output_type": "display_data"
    }
   ],
   "source": [
    "ax2 = sbn.boxplot(dummy['Vitals P'],orient= 'vertical')\n",
    "ax2.set_title('Vitals P')"
   ]
  },
  {
   "cell_type": "markdown",
   "metadata": {},
   "source": [
    "## Experiencing sample"
   ]
  },
  {
   "cell_type": "code",
   "execution_count": 52,
   "metadata": {},
   "outputs": [
    {
     "data": {
      "text/html": [
       "<div>\n",
       "<style scoped>\n",
       "    .dataframe tbody tr th:only-of-type {\n",
       "        vertical-align: middle;\n",
       "    }\n",
       "\n",
       "    .dataframe tbody tr th {\n",
       "        vertical-align: top;\n",
       "    }\n",
       "\n",
       "    .dataframe thead th {\n",
       "        text-align: right;\n",
       "    }\n",
       "</style>\n",
       "<table border=\"1\" class=\"dataframe\">\n",
       "  <thead>\n",
       "    <tr style=\"text-align: right;\">\n",
       "      <th></th>\n",
       "      <th>id</th>\n",
       "      <th>sub_no</th>\n",
       "      <th>survey_no</th>\n",
       "      <th>start</th>\n",
       "      <th>end</th>\n",
       "      <th>la_p</th>\n",
       "      <th>ha_p</th>\n",
       "      <th>ha_n</th>\n",
       "      <th>la_n</th>\n",
       "      <th>la</th>\n",
       "      <th>p</th>\n",
       "      <th>n</th>\n",
       "      <th>ha</th>\n",
       "      <th>start_date</th>\n",
       "      <th>start_time</th>\n",
       "      <th>end_date</th>\n",
       "      <th>end_time</th>\n",
       "    </tr>\n",
       "  </thead>\n",
       "  <tbody>\n",
       "    <tr>\n",
       "      <td>0</td>\n",
       "      <td>1047-1</td>\n",
       "      <td>1047</td>\n",
       "      <td>1</td>\n",
       "      <td>2016-02-19 13:49:36</td>\n",
       "      <td>2016-02-19 13:51:32</td>\n",
       "      <td>1</td>\n",
       "      <td>2</td>\n",
       "      <td>0</td>\n",
       "      <td>0</td>\n",
       "      <td>1</td>\n",
       "      <td>3</td>\n",
       "      <td>0</td>\n",
       "      <td>0</td>\n",
       "      <td>2016-02-19</td>\n",
       "      <td>13:49:36</td>\n",
       "      <td>2016-02-19</td>\n",
       "      <td>13:51:32</td>\n",
       "    </tr>\n",
       "    <tr>\n",
       "      <td>1</td>\n",
       "      <td>1047-2</td>\n",
       "      <td>1047</td>\n",
       "      <td>2</td>\n",
       "      <td>2016-02-20 07:32:33</td>\n",
       "      <td>2016-02-20 07:33:40</td>\n",
       "      <td>1</td>\n",
       "      <td>0</td>\n",
       "      <td>0</td>\n",
       "      <td>1</td>\n",
       "      <td>2</td>\n",
       "      <td>2</td>\n",
       "      <td>0</td>\n",
       "      <td>0</td>\n",
       "      <td>2016-02-20</td>\n",
       "      <td>07:32:33</td>\n",
       "      <td>2016-02-20</td>\n",
       "      <td>07:33:40</td>\n",
       "    </tr>\n",
       "    <tr>\n",
       "      <td>2</td>\n",
       "      <td>1047-3</td>\n",
       "      <td>1047</td>\n",
       "      <td>3</td>\n",
       "      <td>2016-02-20 15:39:23</td>\n",
       "      <td>2016-02-20 15:41:25</td>\n",
       "      <td>2</td>\n",
       "      <td>2</td>\n",
       "      <td>0</td>\n",
       "      <td>0</td>\n",
       "      <td>2</td>\n",
       "      <td>4</td>\n",
       "      <td>0</td>\n",
       "      <td>0</td>\n",
       "      <td>2016-02-20</td>\n",
       "      <td>15:39:23</td>\n",
       "      <td>2016-02-20</td>\n",
       "      <td>15:41:25</td>\n",
       "    </tr>\n",
       "    <tr>\n",
       "      <td>3</td>\n",
       "      <td>1047-4</td>\n",
       "      <td>1047</td>\n",
       "      <td>4</td>\n",
       "      <td>2016-02-20 21:13:34</td>\n",
       "      <td>2016-02-20 21:14:21</td>\n",
       "      <td>3</td>\n",
       "      <td>2</td>\n",
       "      <td>0</td>\n",
       "      <td>0</td>\n",
       "      <td>1</td>\n",
       "      <td>3</td>\n",
       "      <td>0</td>\n",
       "      <td>0</td>\n",
       "      <td>2016-02-20</td>\n",
       "      <td>21:13:34</td>\n",
       "      <td>2016-02-20</td>\n",
       "      <td>21:14:21</td>\n",
       "    </tr>\n",
       "    <tr>\n",
       "      <td>4</td>\n",
       "      <td>1047-5</td>\n",
       "      <td>1047</td>\n",
       "      <td>5</td>\n",
       "      <td>2016-02-21 07:11:48</td>\n",
       "      <td>2016-02-21 07:12:34</td>\n",
       "      <td>3</td>\n",
       "      <td>0</td>\n",
       "      <td>0</td>\n",
       "      <td>1</td>\n",
       "      <td>3</td>\n",
       "      <td>1</td>\n",
       "      <td>0</td>\n",
       "      <td>0</td>\n",
       "      <td>2016-02-21</td>\n",
       "      <td>07:11:48</td>\n",
       "      <td>2016-02-21</td>\n",
       "      <td>07:12:34</td>\n",
       "    </tr>\n",
       "  </tbody>\n",
       "</table>\n",
       "</div>"
      ],
      "text/plain": [
       "       id  sub_no  survey_no                start                  end  la_p  \\\n",
       "0  1047-1    1047          1  2016-02-19 13:49:36  2016-02-19 13:51:32     1   \n",
       "1  1047-2    1047          2  2016-02-20 07:32:33  2016-02-20 07:33:40     1   \n",
       "2  1047-3    1047          3  2016-02-20 15:39:23  2016-02-20 15:41:25     2   \n",
       "3  1047-4    1047          4  2016-02-20 21:13:34  2016-02-20 21:14:21     3   \n",
       "4  1047-5    1047          5  2016-02-21 07:11:48  2016-02-21 07:12:34     3   \n",
       "\n",
       "   ha_p  ha_n  la_n  la  p  n  ha  start_date start_time    end_date  end_time  \n",
       "0     2     0     0   1  3  0   0  2016-02-19   13:49:36  2016-02-19  13:51:32  \n",
       "1     0     0     1   2  2  0   0  2016-02-20   07:32:33  2016-02-20  07:33:40  \n",
       "2     2     0     0   2  4  0   0  2016-02-20   15:39:23  2016-02-20  15:41:25  \n",
       "3     2     0     0   1  3  0   0  2016-02-20   21:13:34  2016-02-20  21:14:21  \n",
       "4     0     0     1   3  1  0   0  2016-02-21   07:11:48  2016-02-21  07:12:34  "
      ]
     },
     "execution_count": 52,
     "metadata": {},
     "output_type": "execute_result"
    }
   ],
   "source": [
    "experience_sample = pd.read_csv('C:/Users/joaqu/Box/Emotional-State-Capstone/data/R00/experience_sampling/r00-exp-data.csv')\n",
    "experience_sample.head()"
   ]
  },
  {
   "cell_type": "code",
   "execution_count": 49,
   "metadata": {},
   "outputs": [
    {
     "data": {
      "text/plain": [
       "Index(['id', 'sub_no', 'survey_no', 'start', 'end', 'la_p', 'ha_p', 'ha_n',\n",
       "       'la_n', 'la', 'p', 'n', 'ha', 'start_date', 'start_time', 'end_date',\n",
       "       'end_time'],\n",
       "      dtype='object')"
      ]
     },
     "execution_count": 49,
     "metadata": {},
     "output_type": "execute_result"
    }
   ],
   "source": [
    "experience_sample.columns"
   ]
  },
  {
   "cell_type": "code",
   "execution_count": 50,
   "metadata": {},
   "outputs": [
    {
     "data": {
      "text/plain": [
       "(950, 17)"
      ]
     },
     "execution_count": 50,
     "metadata": {},
     "output_type": "execute_result"
    }
   ],
   "source": [
    "experience_sample.shape"
   ]
  },
  {
   "cell_type": "markdown",
   "metadata": {},
   "source": [
    "In R00 dataset, we are only using columns \"Q1\" to \"Q8\". And in these columns we do not have any missing values.\n",
    "\n",
    "We are going to recode this columns so they are coherent with DND"
   ]
  },
  {
   "cell_type": "code",
   "execution_count": 64,
   "metadata": {},
   "outputs": [],
   "source": [
    "#IDs in Survey Data. We are only going to work with the subjects with complete data\n",
    "ids = df['AVI']['Subject'].unique()"
   ]
  },
  {
   "cell_type": "code",
   "execution_count": 67,
   "metadata": {},
   "outputs": [],
   "source": [
    "exp_sample_small = experience_sample.loc[experience_sample['sub_no'].isin(ids),:]"
   ]
  },
  {
   "cell_type": "code",
   "execution_count": 69,
   "metadata": {},
   "outputs": [
    {
     "data": {
      "text/plain": [
       "36"
      ]
     },
     "execution_count": 69,
     "metadata": {},
     "output_type": "execute_result"
    }
   ],
   "source": [
    "len(exp_sample_small['sub_no'].unique())"
   ]
  },
  {
   "cell_type": "code",
   "execution_count": 87,
   "metadata": {},
   "outputs": [
    {
     "data": {
      "text/plain": [
       "<matplotlib.axes._subplots.AxesSubplot at 0x1c048c74788>"
      ]
     },
     "execution_count": 87,
     "metadata": {},
     "output_type": "execute_result"
    },
    {
     "data": {
      "image/png": "[encoded data removed]",
      "text/plain": [
       "<Figure size 864x360 with 1 Axes>"
      ]
     },
     "metadata": {
      "needs_background": "light"
     },
     "output_type": "display_data"
    }
   ],
   "source": [
    "exp_only_emotions = exp_sample_small.iloc[:,5:13]\n",
    "plt.figure(figsize=(12,5))\n",
    "exp_only_emotions.boxplot()"
   ]
  },
  {
   "cell_type": "code",
   "execution_count": 84,
   "metadata": {},
   "outputs": [
    {
     "name": "stdout",
     "output_type": "stream",
     "text": [
      "la_p # outliers : 1 | [8]\n",
      "ha_p # outliers : 0 | []\n",
      "ha_n # outliers : 114 | [2 1 1 1 2 2 1 1 1 1 2 2 1 1 2 1 1 2 1 1 1 1 2 1 1 1 1 1 1 1 1 1 1 1 1 1 1\n",
      " 1 1 1 1 1 1 1 1 1 1 1 2 1 1 1 1 1 2 2 3 3 1 1 1 1 1 1 2 1 1 3 1 1 1 1 1 1\n",
      " 1 1 1 1 1 1 1 1 1 1 1 1 1 1 1 1 1 1 1 1 3 3 3 2 1 2 2 2 3 3 1 2 3 2 2 3 1\n",
      " 3 2 1]\n",
      "la_n # outliers : 59 | [3 3 4 3 3 3 4 3 3 3 4 3 3 4 3 3 4 3 4 3 3 3 3 3 3 3 3 3 3 4 3 3 3 3 3 3 3\n",
      " 3 3 3 4 3 3 3 4 4 3 3 3 3 4 3 3 3 3 3 4 4 4]\n",
      "la # outliers : 18 | [4 4 4 4 4 4 4 4 4 4 4 4 4 4 4 4 4 4]\n",
      "p # outliers : 39 | [0 0 0 0 0 0 0 0 0 0 0 0 0 0 0 0 0 0 0 0 0 0 0 0 0 0 0 0 0 0 0 0 0 0 0 0 0\n",
      " 0 0]\n",
      "n # outliers : 153 | [2 1 1 1 2 1 1 1 1 1 1 1 1 2 3 2 1 1 1 1 1 1 2 1 1 1 2 1 2 2 1 2 1 1 1 1 3\n",
      " 1 1 1 1 1 1 1 1 1 1 1 1 1 1 2 1 1 1 1 1 1 1 1 1 2 1 1 1 1 1 2 3 2 1 1 1 1\n",
      " 2 1 1 1 1 1 1 3 1 1 1 1 2 1 1 2 1 1 1 1 1 1 1 1 1 1 4 1 1 1 4 1 1 1 1 3 1\n",
      " 1 1 1 2 1 1 1 1 1 1 1 1 1 1 1 1 1 2 2 3 3 3 3 3 3 3 3 3 3 3 2 3 2 3 2 2 2\n",
      " 2 2 3 2 2]\n",
      "ha # outliers : 209 | [1 1 1 1 1 1 2 1 3 4 1 1 1 2 2 2 1 1 1 1 1 1 1 1 1 1 1 1 1 1 2 1 1 1 1 1 1\n",
      " 1 1 1 1 1 1 1 1 1 1 1 1 1 1 1 1 1 1 1 2 1 3 1 2 1 1 1 1 1 1 1 1 2 1 1 1 1\n",
      " 1 1 1 1 1 2 1 1 1 2 1 1 1 2 1 3 3 1 1 1 1 1 2 2 2 1 1 1 1 2 2 2 2 2 1 2 2\n",
      " 1 2 2 1 1 1 1 1 3 3 2 3 3 2 1 1 1 2 1 1 1 1 1 1 1 1 2 2 1 1 1 1 1 1 1 1 1\n",
      " 1 1 1 2 1 1 1 1 1 1 4 2 1 1 4 1 4 1 1 1 1 2 1 1 1 2 1 1 2 1 1 1 2 1 2 4 1\n",
      " 1 1 3 1 1 2 1 1 1 1 1 2 2 1 1 1 2 2 1 2 1 1 1 1]\n"
     ]
    }
   ],
   "source": [
    "all_outliers = {}\n",
    "for i in exp_only_emotions.columns:\n",
    "    fliers = boxplot_stats(exp_only_emotions.loc[:,i])[0]['fliers']\n",
    "    print(i, f'# outliers : {len(fliers)} |', fliers)\n",
    "    all_outliers[i] = exp_only_emotions.loc[:,i].loc[exp_only_emotions.loc[:,i].isin(fliers)]"
   ]
  },
  {
   "cell_type": "markdown",
   "metadata": {},
   "source": [
    "We can observe that for the variables `n` , `ha_n` & `ha` present several outliers. Nevertheless we are going to include all the data. The fact that the values are outliers is not a problem by itself because the values are inside the scale selected."
   ]
  }
 ],
 "metadata": {
  "kernelspec": {
   "display_name": "Python 3",
   "language": "python",
   "name": "python3"
  },
  "language_info": {
   "codemirror_mode": {
    "name": "ipython",
    "version": 3
   },
   "file_extension": ".py",
   "mimetype": "text/x-python",
   "name": "python",
   "nbconvert_exporter": "python",
   "pygments_lexer": "ipython3",
   "version": "3.7.4"
  }
 },
 "nbformat": 4,
 "nbformat_minor": 4
}

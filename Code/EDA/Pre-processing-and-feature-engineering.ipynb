{
 "cells": [
  {
   "cell_type": "markdown",
   "metadata": {},
   "source": [
    "### Load Data"
   ]
  },
  {
   "cell_type": "code",
   "execution_count": 1,
   "metadata": {},
   "outputs": [],
   "source": [
    "import pickle\n",
    "import numpy as np\n",
    "import pandas as pd\n",
    "from functools import reduce\n",
    "import datetime"
   ]
  },
  {
   "cell_type": "code",
   "execution_count": 2,
   "metadata": {},
   "outputs": [],
   "source": [
    "# Label for ROO and DND\n",
    "with open('EXPERIENCING_SAMPLE_R00_DND.pickle', 'rb') as handle:\n",
    "    exp = pickle.load(handle)"
   ]
  },
  {
   "cell_type": "code",
   "execution_count": 3,
   "metadata": {},
   "outputs": [],
   "source": [
    "# Label for only ROO\n",
    "with open('EXPERIENCING_SAMPLE_DF.pickle', 'rb') as handle:\n",
    "    exp_roo = pickle.load(handle)"
   ]
  },
  {
   "cell_type": "code",
   "execution_count": 4,
   "metadata": {},
   "outputs": [],
   "source": [
    "# Predictor: Steps\n",
    "with open('STEPS_TIMESERIES_R00.pickle', 'rb') as handle:\n",
    "    steps = pickle.load(handle)"
   ]
  },
  {
   "cell_type": "code",
   "execution_count": 5,
   "metadata": {},
   "outputs": [],
   "source": [
    "# Predictor: Heart Rate\n",
    "with open('HR_with_dates_R00', 'rb') as handle:\n",
    "    hr = pickle.load(handle)"
   ]
  },
  {
   "cell_type": "code",
   "execution_count": 6,
   "metadata": {},
   "outputs": [],
   "source": [
    "# Predictor: Sleep\n",
    "with open('SLEEP_R00.pickle', 'rb') as handle:\n",
    "    sleep = pickle.load(handle)\n",
    "sleep['ID'] = sleep['ID'].astype('int')"
   ]
  },
  {
   "cell_type": "code",
   "execution_count": 7,
   "metadata": {},
   "outputs": [],
   "source": [
    "# Predicor: Survey\n",
    "with open('SURVEY_DF_age_bmi.pickle', 'rb') as handle:\n",
    "    survey = pickle.load(handle)"
   ]
  },
  {
   "cell_type": "markdown",
   "metadata": {},
   "source": [
    "### Pre-processing"
   ]
  },
  {
   "cell_type": "markdown",
   "metadata": {},
   "source": [
    "##### Add timestamp for sleep, hr, step\n",
    "\n",
    "(1) HR"
   ]
  },
  {
   "cell_type": "code",
   "execution_count": 8,
   "metadata": {},
   "outputs": [],
   "source": [
    "hr['datetime'] = hr['Date'].astype(str) + ' ' + hr['TIME'].astype(str)\n",
    "hr['datetime'] = pd.to_datetime(hr['datetime'], errors='coerce')"
   ]
  },
  {
   "cell_type": "markdown",
   "metadata": {},
   "source": [
    "(2) Steps"
   ]
  },
  {
   "cell_type": "code",
   "execution_count": 9,
   "metadata": {},
   "outputs": [],
   "source": [
    "steps['datetime'] = steps['Date'].astype(str) + ' ' + steps['TIME'].astype(str)\n",
    "steps['datetime'] = pd.to_datetime(steps['datetime'], errors='coerce')"
   ]
  },
  {
   "cell_type": "markdown",
   "metadata": {},
   "source": [
    "##### Merge Survey Data"
   ]
  },
  {
   "cell_type": "code",
   "execution_count": 8,
   "metadata": {},
   "outputs": [
    {
     "data": {
      "text/plain": [
       "odict_keys(['Demographics', 'Medical Screening', 'AVI', 'BISBAS', 'BIS', 'TPQ-NS', 'NEO-SF', 'SWLS', 'FTP', 'SBQ'])"
      ]
     },
     "execution_count": 8,
     "metadata": {},
     "output_type": "execute_result"
    }
   ],
   "source": [
    "survey.keys()"
   ]
  },
  {
   "cell_type": "code",
   "execution_count": 9,
   "metadata": {},
   "outputs": [],
   "source": [
    "# Get columns for Medical Screening\n",
    "med_df = survey['Medical Screening'][['Subject','BMI']]"
   ]
  },
  {
   "cell_type": "code",
   "execution_count": 10,
   "metadata": {},
   "outputs": [],
   "source": [
    "# Get columns for SBQ\n",
    "survey['SBQ']\n",
    "sbq_df = survey['SBQ'][['Subject', 'SBQ']]"
   ]
  },
  {
   "cell_type": "code",
   "execution_count": 11,
   "metadata": {},
   "outputs": [],
   "source": [
    "# Get columns for FTP\n",
    "# survey['FTP']\n",
    "ftp_df = survey['FTP'][['Subject', 'FTP']]"
   ]
  },
  {
   "cell_type": "code",
   "execution_count": 12,
   "metadata": {},
   "outputs": [],
   "source": [
    "# Get columns for SWLS\n",
    "survey['SWLS']\n",
    "swls_df = survey['SWLS'][['Subject', 'SWLS']]"
   ]
  },
  {
   "cell_type": "code",
   "execution_count": 13,
   "metadata": {},
   "outputs": [],
   "source": [
    "# Get columns for NEO-SF\n",
    "neosf_df = survey['NEO-SF'][['Subject', 'Neuroticism', 'Extraversion', 'Openness', 'Agreeableness','Conscientiousness']]"
   ]
  },
  {
   "cell_type": "code",
   "execution_count": 14,
   "metadata": {},
   "outputs": [],
   "source": [
    "# Get columns for TPQ-NS\n",
    "tpqns_df = survey['TPQ-NS'][['Subject','NS_total']]"
   ]
  },
  {
   "cell_type": "code",
   "execution_count": 15,
   "metadata": {},
   "outputs": [],
   "source": [
    "# Get columns for BIS\n",
    "bis_df = survey['BIS'][['Subject','BIS_total']]"
   ]
  },
  {
   "cell_type": "code",
   "execution_count": 16,
   "metadata": {},
   "outputs": [],
   "source": [
    "# Get columns for BISBAS\n",
    "survey['BISBAS'].head().T\n",
    "bisbas_cols = ['Subject', 'BIS.5', 'BAS_D', 'BAS_FS', 'BAS_RR']\n",
    "bisbas_df = survey['BISBAS'][bisbas_cols]"
   ]
  },
  {
   "cell_type": "code",
   "execution_count": 17,
   "metadata": {},
   "outputs": [
    {
     "name": "stderr",
     "output_type": "stream",
     "text": [
      "/usr/local/lib/python3.7/site-packages/ipykernel_launcher.py:6: SettingWithCopyWarning: \n",
      "A value is trying to be set on a copy of a slice from a DataFrame.\n",
      "Try using .loc[row_indexer,col_indexer] = value instead\n",
      "\n",
      "See the caveats in the documentation: http://pandas.pydata.org/pandas-docs/stable/user_guide/indexing.html#returning-a-view-versus-a-copy\n",
      "  \n"
     ]
    }
   ],
   "source": [
    "# Get columns for AVI\n",
    "avi_col_actual = [x for x in survey['AVI'].columns.values if 'actual' in x]\n",
    "avi_col_ideal = [x for x in survey['AVI'].columns.values if 'ideal' in x]\n",
    "avi_col = np.concatenate([['Subject'], avi_col_actual,avi_col_ideal])\n",
    "avi_df = survey['AVI'][avi_col]\n",
    "avi_df['Subject'] = avi_df['Subject'].astype('int')"
   ]
  },
  {
   "cell_type": "code",
   "execution_count": 18,
   "metadata": {},
   "outputs": [],
   "source": [
    "# Get columns for Demographics\n",
    "demo_df = survey['Demographics'][['Subject', 'Education', 'Ethnicity', 'Sex', 'Marital_Status', 'Children', 'Household_income', 'Religion', 'Age', 'Medications']]"
   ]
  },
  {
   "cell_type": "code",
   "execution_count": 19,
   "metadata": {},
   "outputs": [],
   "source": [
    "# Merge all dataframes\n",
    "data_frames = [sbq_df, ftp_df, swls_df, neosf_df, tpqns_df, bis_df, bisbas_df, avi_df, demo_df, med_df]\n",
    "survey_df = reduce(lambda  left,right: pd.merge(left,right,on=['Subject'],\n",
    "                                            how='left'), data_frames)"
   ]
  },
  {
   "cell_type": "code",
   "execution_count": 20,
   "metadata": {},
   "outputs": [],
   "source": [
    "# Convert data type\n",
    "survey_df['Ethnicity'] = survey_df['Ethnicity'].astype('str')\n",
    "survey_df['Sex'] = survey_df['Sex'].astype('str')\n",
    "survey_df['Marital_Status'] = survey_df['Marital_Status'].astype('str')\n",
    "survey_df['Household_income'] = survey_df['Household_income'].astype('str')\n",
    "survey_df['Religion'] = survey_df['Religion'].astype('str')\n",
    "survey_df['Medications'] = survey_df['Medications'].astype('str')"
   ]
  },
  {
   "cell_type": "code",
   "execution_count": 21,
   "metadata": {},
   "outputs": [
    {
     "data": {
      "text/plain": [
       "(36, 41)"
      ]
     },
     "execution_count": 21,
     "metadata": {},
     "output_type": "execute_result"
    }
   ],
   "source": [
    "survey_df.head()"
   ]
  },
  {
   "cell_type": "code",
   "execution_count": 24,
   "metadata": {},
   "outputs": [],
   "source": [
    "# Convert categorical to numerical\n",
    "from sklearn import preprocessing\n",
    "le = preprocessing.LabelEncoder()\n",
    "survey_df[['Ethnicity_ca','Sex_ca','Marital_Status_ca','Household_income_ca','Religion_ca','Medications_ca']] = survey_df[['Ethnicity','Sex','Marital_Status','Household_income','Religion','Medications']].apply(le.fit_transform)"
   ]
  },
  {
   "cell_type": "code",
   "execution_count": 26,
   "metadata": {},
   "outputs": [],
   "source": [
    "survey_num = survey_df[['Subject', 'SBQ', 'FTP', 'SWLS', 'Neuroticism', 'Extraversion',\n",
    "       'Openness', 'Agreeableness', 'Conscientiousness', 'NS_total',\n",
    "       'BIS_total', 'BIS.5', 'BAS_D', 'BAS_FS', 'BAS_RR', 'HAP_actual',\n",
    "       'P_actual', 'LAP_actual', 'LA_actual', 'LAN_actual', 'N_actual',\n",
    "       'HAN_actual', 'HA_actual', 'HAP_ideal', 'P_ideal', 'LAP_ideal',\n",
    "       'LA_ideal', 'LAN_ideal', 'N_ideal', 'HAN_ideal', 'HA_ideal',\n",
    "       'Education', 'Children', 'Age', 'BMI',\n",
    "       'Ethnicity', 'Sex', 'Marital_Status', 'Household_income','Religion','Medications',\n",
    "       'Ethnicity_ca', 'Sex_ca', 'Marital_Status_ca', 'Household_income_ca',\n",
    "       'Religion_ca', 'Medications_ca']]"
   ]
  },
  {
   "cell_type": "markdown",
   "metadata": {},
   "source": [
    "### Feature Engineering\n",
    "\n",
    "**(1) Steps**"
   ]
  },
  {
   "cell_type": "code",
   "execution_count": 27,
   "metadata": {},
   "outputs": [],
   "source": [
    "# Parse 'start_survey' to datetime\n",
    "exp_roo['start_survey'] = pd.to_datetime(exp_roo['start_survey'])\n",
    "# Add 'survey_date' to associate with sleep data\n",
    "exp_roo['survey_date'] = pd.to_datetime(exp_roo['start_survey'].dt.date)"
   ]
  },
  {
   "cell_type": "code",
   "execution_count": 28,
   "metadata": {},
   "outputs": [],
   "source": [
    "# Generate 30 mins prior time point\n",
    "exp_roo['start_survey_30m_ahead'] = exp_roo['start_survey'] - datetime.timedelta(minutes=30)\n",
    "exp_roo['start_survey_1h_ahead'] = exp_roo['start_survey'] - datetime.timedelta(minutes=60)\n",
    "exp_roo['start_survey_3h_ahead'] = exp_roo['start_survey'] - datetime.timedelta(hours=3)"
   ]
  },
  {
   "cell_type": "code",
   "execution_count": 40,
   "metadata": {},
   "outputs": [],
   "source": [
    "def step_feature_gen(df):\n",
    "    if df.shape[0] == 0:\n",
    "        return [None,None,None,None,None,None,None]\n",
    "    else:\n",
    "        mean = df['VALUE'].mean()\n",
    "        var = df['VALUE'].var()\n",
    "        median = df['VALUE'].median()\n",
    "        move_rate = df[df['VALUE'] > 0].shape[0]/df.shape[0]\n",
    "        active_rate = df[df['VALUE'] > 10].shape[0]/df.shape[0]\n",
    "        very_active_rate = df[df['VALUE'] > 20].shape[0]/df.shape[0]\n",
    "        running_rate = df[df['VALUE'] > 30].shape[0]/df.shape[0]\n",
    "        return [mean, var, median, move_rate, active_rate, very_active_rate, running_rate]\n",
    "\n",
    "def gen_step_features(row):\n",
    "    subject_id = row['subject']\n",
    "    start_3h_time = row['start_survey_3h_ahead']\n",
    "    start_1h_time = row['start_survey_1h_ahead']\n",
    "    start_30m_time = row['start_survey_30m_ahead']\n",
    "    end_time = row['start_survey']\n",
    "    df_3h = steps[(steps['ID'].astype(int) == subject_id) & (steps['datetime'] >= start_3h_time) & (steps['datetime'] <= end_time)]\n",
    "    df_1h = steps[(steps['ID'].astype(int) == subject_id) & (steps['datetime'] >= start_1h_time) & (steps['datetime'] <= end_time)]\n",
    "    df_30m = steps[(steps['ID'].astype(int) == subject_id) & (steps['datetime'] >= start_30m_time) & (steps['datetime'] <= end_time)]\n",
    "    # Generate features\n",
    "    step_features_3h = step_feature_gen(df_3h)\n",
    "    step_features_1h = step_feature_gen(df_1h)\n",
    "    step_features_30m = step_feature_gen(df_30m)\n",
    "    return step_features_3h + step_features_1h + step_features_30m\n",
    "        "
   ]
  },
  {
   "cell_type": "code",
   "execution_count": 41,
   "metadata": {},
   "outputs": [],
   "source": [
    "steps_features = exp_roo.apply(gen_step_features, axis=1, result_type='expand')"
   ]
  },
  {
   "cell_type": "code",
   "execution_count": 44,
   "metadata": {},
   "outputs": [
    {
     "data": {
      "text/plain": [
       "(779, 21)"
      ]
     },
     "execution_count": 44,
     "metadata": {},
     "output_type": "execute_result"
    }
   ],
   "source": [
    "steps_features.shape"
   ]
  },
  {
   "cell_type": "code",
   "execution_count": 46,
   "metadata": {},
   "outputs": [],
   "source": [
    "steps_features = pd.DataFrame(steps_features.dropna())\n",
    "steps_features_col_names = ['steps_mean_3h', 'steps_var_3h', 'steps_median_3h', 'move_rate_3h', 'active_rate_3h', 'very_active_rate_3h', 'running_rate_3h',\n",
    "                'steps_mean_1h', 'steps_var_1h', 'steps_median_1h', 'move_rate_1h', 'active_rate_1h', 'very_active_rate_1h', 'running_rate_1h',\n",
    "                'steps_mean_30m', 'steps_var_30m', 'steps_median_30m', 'move_rate_30m', 'active_rate_30m', 'very_active_rate_30m', 'running_rate_30m']\n",
    "steps_features[steps_features_col_names] = pd.DataFrame(steps_features.values.tolist(), index=steps_features.index)\n",
    "# steps_features = steps_features.set_index('index')"
   ]
  },
  {
   "cell_type": "code",
   "execution_count": 52,
   "metadata": {},
   "outputs": [],
   "source": [
    "# Clean, with named columns\n",
    "steps_features_cl = steps_features[steps_features_col_names]"
   ]
  },
  {
   "cell_type": "markdown",
   "metadata": {},
   "source": [
    "**(2) Heart Rate**"
   ]
  },
  {
   "cell_type": "code",
   "execution_count": 53,
   "metadata": {},
   "outputs": [],
   "source": [
    "# Let's calculate resting heart rate\n",
    "resting_hr = pd.DataFrame(hr.groupby('ID')['VALUE'].agg('min')).reset_index()"
   ]
  },
  {
   "cell_type": "code",
   "execution_count": 56,
   "metadata": {},
   "outputs": [],
   "source": [
    "# Calcuate different level of HR activity by subject\n",
    "rest_hr = pd.DataFrame(hr.groupby('ID')['VALUE'].quantile([0, .3, .5, .8])).unstack()\n",
    "rest_hr.columns = rest_hr.columns.droplevel()\n",
    "rest_hr = rest_hr.reset_index()\n",
    "rest_hr['ID'] = rest_hr['ID'].astype('int')"
   ]
  },
  {
   "cell_type": "code",
   "execution_count": 61,
   "metadata": {},
   "outputs": [],
   "source": [
    "def hr_feature_gen(df, rest_thred, moderate_thred, active_thred):\n",
    "    if df.shape[0] == 0:\n",
    "        return [None,None,None,None,None,None,None]\n",
    "    else:\n",
    "        mean = df['VALUE'].mean()\n",
    "        var = df['VALUE'].var()\n",
    "        std = df['VALUE'].std()\n",
    "        median = df['VALUE'].median()\n",
    "        rest_rate = df[df['VALUE'] <= rest_thred].shape[0]/df.shape[0]\n",
    "        moderate_rate = df[df['VALUE'] > moderate_thred].shape[0]/df.shape[0]\n",
    "        very_active_rate = df[df['VALUE'] > active_thred].shape[0]/df.shape[0]\n",
    "        return [mean, var, std, median, rest_rate, moderate_rate, very_active_rate]\n",
    "def gen_hr_features(row):\n",
    "    subject_id = row['subject']\n",
    "#     print(subject_id)\n",
    "    start_3h_time = row['start_survey_3h_ahead']\n",
    "    start_1h_time = row['start_survey_1h_ahead']\n",
    "    start_30m_time = row['start_survey_30m_ahead']\n",
    "    end_time = row['start_survey']\n",
    "    rest_thred = rest_hr.loc[rest_hr['ID']==subject_id, 0.3].values[0]\n",
    "    moderate_thred = rest_hr.loc[rest_hr['ID']==subject_id, 0.5].values[0]\n",
    "    active_thred = rest_hr.loc[rest_hr['ID']==subject_id, 0.8].values[0]\n",
    "    df_3h = hr[(hr['ID'].astype(int) == subject_id) & (hr['datetime'] >= start_3h_time) & (hr['datetime'] <= end_time)]\n",
    "    df_1h = hr[(hr['ID'].astype(int) == subject_id) & (hr['datetime'] >= start_1h_time) & (hr['datetime'] <= end_time)]\n",
    "    df_30m = hr[(hr['ID'].astype(int) == subject_id) & (hr['datetime'] >= start_30m_time) & (hr['datetime'] <= end_time)]\n",
    "    # Generate features\n",
    "    hr_features_3h = hr_feature_gen(df_3h, rest_thred, moderate_thred, active_thred)\n",
    "    hr_features_1h = hr_feature_gen(df_1h, rest_thred, moderate_thred, active_thred)\n",
    "    hr_features_30m = hr_feature_gen(df_30m, rest_thred, moderate_thred, active_thred)\n",
    "    return hr_features_3h + hr_features_1h + hr_features_30m"
   ]
  },
  {
   "cell_type": "code",
   "execution_count": 62,
   "metadata": {},
   "outputs": [],
   "source": [
    "hr_features = exp_roo.apply(gen_hr_features, axis=1, result_type='expand')"
   ]
  },
  {
   "cell_type": "code",
   "execution_count": 63,
   "metadata": {},
   "outputs": [
    {
     "data": {
      "text/html": [
       "<div>\n",
       "<style scoped>\n",
       "    .dataframe tbody tr th:only-of-type {\n",
       "        vertical-align: middle;\n",
       "    }\n",
       "\n",
       "    .dataframe tbody tr th {\n",
       "        vertical-align: top;\n",
       "    }\n",
       "\n",
       "    .dataframe thead th {\n",
       "        text-align: right;\n",
       "    }\n",
       "</style>\n",
       "<table border=\"1\" class=\"dataframe\">\n",
       "  <thead>\n",
       "    <tr style=\"text-align: right;\">\n",
       "      <th></th>\n",
       "      <th>0</th>\n",
       "      <th>1</th>\n",
       "      <th>2</th>\n",
       "      <th>3</th>\n",
       "      <th>4</th>\n",
       "      <th>5</th>\n",
       "      <th>6</th>\n",
       "      <th>7</th>\n",
       "      <th>8</th>\n",
       "      <th>9</th>\n",
       "      <th>...</th>\n",
       "      <th>11</th>\n",
       "      <th>12</th>\n",
       "      <th>13</th>\n",
       "      <th>14</th>\n",
       "      <th>15</th>\n",
       "      <th>16</th>\n",
       "      <th>17</th>\n",
       "      <th>18</th>\n",
       "      <th>19</th>\n",
       "      <th>20</th>\n",
       "    </tr>\n",
       "  </thead>\n",
       "  <tbody>\n",
       "    <tr>\n",
       "      <th>0</th>\n",
       "      <td>NaN</td>\n",
       "      <td>NaN</td>\n",
       "      <td>NaN</td>\n",
       "      <td>NaN</td>\n",
       "      <td>NaN</td>\n",
       "      <td>NaN</td>\n",
       "      <td>NaN</td>\n",
       "      <td>NaN</td>\n",
       "      <td>NaN</td>\n",
       "      <td>NaN</td>\n",
       "      <td>...</td>\n",
       "      <td>NaN</td>\n",
       "      <td>NaN</td>\n",
       "      <td>NaN</td>\n",
       "      <td>NaN</td>\n",
       "      <td>NaN</td>\n",
       "      <td>NaN</td>\n",
       "      <td>NaN</td>\n",
       "      <td>NaN</td>\n",
       "      <td>NaN</td>\n",
       "      <td>NaN</td>\n",
       "    </tr>\n",
       "    <tr>\n",
       "      <th>1</th>\n",
       "      <td>NaN</td>\n",
       "      <td>NaN</td>\n",
       "      <td>NaN</td>\n",
       "      <td>NaN</td>\n",
       "      <td>NaN</td>\n",
       "      <td>NaN</td>\n",
       "      <td>NaN</td>\n",
       "      <td>NaN</td>\n",
       "      <td>NaN</td>\n",
       "      <td>NaN</td>\n",
       "      <td>...</td>\n",
       "      <td>NaN</td>\n",
       "      <td>NaN</td>\n",
       "      <td>NaN</td>\n",
       "      <td>NaN</td>\n",
       "      <td>NaN</td>\n",
       "      <td>NaN</td>\n",
       "      <td>NaN</td>\n",
       "      <td>NaN</td>\n",
       "      <td>NaN</td>\n",
       "      <td>NaN</td>\n",
       "    </tr>\n",
       "    <tr>\n",
       "      <th>2</th>\n",
       "      <td>NaN</td>\n",
       "      <td>NaN</td>\n",
       "      <td>NaN</td>\n",
       "      <td>NaN</td>\n",
       "      <td>NaN</td>\n",
       "      <td>NaN</td>\n",
       "      <td>NaN</td>\n",
       "      <td>NaN</td>\n",
       "      <td>NaN</td>\n",
       "      <td>NaN</td>\n",
       "      <td>...</td>\n",
       "      <td>NaN</td>\n",
       "      <td>NaN</td>\n",
       "      <td>NaN</td>\n",
       "      <td>NaN</td>\n",
       "      <td>NaN</td>\n",
       "      <td>NaN</td>\n",
       "      <td>NaN</td>\n",
       "      <td>NaN</td>\n",
       "      <td>NaN</td>\n",
       "      <td>NaN</td>\n",
       "    </tr>\n",
       "    <tr>\n",
       "      <th>3</th>\n",
       "      <td>79.605805</td>\n",
       "      <td>107.223097</td>\n",
       "      <td>10.354859</td>\n",
       "      <td>77.0</td>\n",
       "      <td>0.012172</td>\n",
       "      <td>0.444757</td>\n",
       "      <td>0.104869</td>\n",
       "      <td>76.411043</td>\n",
       "      <td>31.498216</td>\n",
       "      <td>5.612327</td>\n",
       "      <td>...</td>\n",
       "      <td>0.012270</td>\n",
       "      <td>0.309816</td>\n",
       "      <td>0.009202</td>\n",
       "      <td>78.654545</td>\n",
       "      <td>37.800665</td>\n",
       "      <td>6.148225</td>\n",
       "      <td>77.0</td>\n",
       "      <td>0.000000</td>\n",
       "      <td>0.460606</td>\n",
       "      <td>0.018182</td>\n",
       "    </tr>\n",
       "    <tr>\n",
       "      <th>4</th>\n",
       "      <td>58.940524</td>\n",
       "      <td>93.349638</td>\n",
       "      <td>9.661762</td>\n",
       "      <td>58.0</td>\n",
       "      <td>0.844758</td>\n",
       "      <td>0.044355</td>\n",
       "      <td>0.006048</td>\n",
       "      <td>59.724234</td>\n",
       "      <td>113.496366</td>\n",
       "      <td>10.653467</td>\n",
       "      <td>...</td>\n",
       "      <td>0.816156</td>\n",
       "      <td>0.052925</td>\n",
       "      <td>0.016713</td>\n",
       "      <td>60.913514</td>\n",
       "      <td>150.818566</td>\n",
       "      <td>12.280821</td>\n",
       "      <td>57.0</td>\n",
       "      <td>0.854054</td>\n",
       "      <td>0.102703</td>\n",
       "      <td>0.032432</td>\n",
       "    </tr>\n",
       "  </tbody>\n",
       "</table>\n",
       "<p>5 rows × 21 columns</p>\n",
       "</div>"
      ],
      "text/plain": [
       "          0           1          2     3         4         5         6   \\\n",
       "0        NaN         NaN        NaN   NaN       NaN       NaN       NaN   \n",
       "1        NaN         NaN        NaN   NaN       NaN       NaN       NaN   \n",
       "2        NaN         NaN        NaN   NaN       NaN       NaN       NaN   \n",
       "3  79.605805  107.223097  10.354859  77.0  0.012172  0.444757  0.104869   \n",
       "4  58.940524   93.349638   9.661762  58.0  0.844758  0.044355  0.006048   \n",
       "\n",
       "          7           8          9   ...        11        12        13  \\\n",
       "0        NaN         NaN        NaN  ...       NaN       NaN       NaN   \n",
       "1        NaN         NaN        NaN  ...       NaN       NaN       NaN   \n",
       "2        NaN         NaN        NaN  ...       NaN       NaN       NaN   \n",
       "3  76.411043   31.498216   5.612327  ...  0.012270  0.309816  0.009202   \n",
       "4  59.724234  113.496366  10.653467  ...  0.816156  0.052925  0.016713   \n",
       "\n",
       "          14          15         16    17        18        19        20  \n",
       "0        NaN         NaN        NaN   NaN       NaN       NaN       NaN  \n",
       "1        NaN         NaN        NaN   NaN       NaN       NaN       NaN  \n",
       "2        NaN         NaN        NaN   NaN       NaN       NaN       NaN  \n",
       "3  78.654545   37.800665   6.148225  77.0  0.000000  0.460606  0.018182  \n",
       "4  60.913514  150.818566  12.280821  57.0  0.854054  0.102703  0.032432  \n",
       "\n",
       "[5 rows x 21 columns]"
      ]
     },
     "execution_count": 63,
     "metadata": {},
     "output_type": "execute_result"
    }
   ],
   "source": [
    "hr_features.head()"
   ]
  },
  {
   "cell_type": "code",
   "execution_count": 64,
   "metadata": {},
   "outputs": [],
   "source": [
    "hr_features = pd.DataFrame(hr_features.dropna())\n",
    "hr_features_col_names = ['hr_mean_3h', 'hr_var_3h', 'hr_std_3h', 'hr_median_3h', 'hr_rest_rate_3h', 'hr_moderate_rate_3h', 'hr_very_active_rate_3h',\n",
    "                        'hr_mean_1h', 'hr_var_1h', 'hr_std_1h', 'hr_median_1h', 'hr_rest_rate_1h', 'hr_moderate_rate_1h', 'hr_very_active_rate_1h',\n",
    "                        'hr_mean_30m', 'hr_var_30m', 'hr_std_30m', 'hr_median_30m', 'hr_rest_rate_30m', 'hr_moderate_rate_30m', 'hr_very_active_rate_30m']\n",
    "hr_features[hr_features_col_names] = pd.DataFrame(hr_features.values.tolist(), index=hr_features.index)\n",
    "# hr_features = hr_features.set_index('index')"
   ]
  },
  {
   "cell_type": "code",
   "execution_count": 65,
   "metadata": {},
   "outputs": [],
   "source": [
    "# Clean, with named columns\n",
    "hr_features_cl = hr_features[hr_features_col_names]"
   ]
  },
  {
   "cell_type": "code",
   "execution_count": 66,
   "metadata": {},
   "outputs": [],
   "source": [
    "# Merge design matrix progressively\n",
    "exp_roo_steps = pd.merge(steps_features_cl, exp_roo, how='inner', left_index=True, right_index=True)\n",
    "exp_roo_steps_hr = pd.merge(hr_features_cl, exp_roo_steps, how='inner', left_index=True, right_index=True)\n",
    "exp_roo_steps_hr_sleep = pd.merge(sleep, exp_roo_steps_hr, how='inner', left_on=['ID','Date'], right_on=['subject','survey_date'])"
   ]
  },
  {
   "cell_type": "code",
   "execution_count": 67,
   "metadata": {},
   "outputs": [],
   "source": [
    "exp_roo_steps_hr_sleep.to_csv('exp_roo_steps_hr_sleep.csv')"
   ]
  },
  {
   "cell_type": "code",
   "execution_count": 68,
   "metadata": {},
   "outputs": [],
   "source": [
    "exp_roo_steps_hr_sleep_survey = pd.merge(exp_roo_steps_hr_sleep, survey_num, how='left', left_on=['ID'], right_on=['Subject'])"
   ]
  },
  {
   "cell_type": "code",
   "execution_count": null,
   "metadata": {},
   "outputs": [],
   "source": [
    "# Add survey hour as a feature\n",
    "exp_roo_steps_hr_sleep_survey['survey_hour'] = exp_roo_steps_hr_sleep_survey.start_survey.dt.hour"
   ]
  },
  {
   "cell_type": "code",
   "execution_count": 69,
   "metadata": {},
   "outputs": [],
   "source": [
    "exp_roo_steps_hr_sleep_survey.to_csv('exp_roo_steps_hr_sleep_survey.csv')"
   ]
  },
  {
   "cell_type": "code",
   "execution_count": 70,
   "metadata": {},
   "outputs": [
    {
     "data": {
      "text/plain": [
       "Index(['hr_mean_3h', 'hr_var_3h', 'hr_std_3h', 'hr_median_3h',\n",
       "       'hr_rest_rate_3h', 'hr_moderate_rate_3h', 'hr_very_active_rate_3h',\n",
       "       'hr_mean_1h', 'hr_var_1h', 'hr_std_1h', 'hr_median_1h',\n",
       "       'hr_rest_rate_1h', 'hr_moderate_rate_1h', 'hr_very_active_rate_1h',\n",
       "       'hr_mean_30m', 'hr_var_30m', 'hr_std_30m', 'hr_median_30m',\n",
       "       'hr_rest_rate_30m', 'hr_moderate_rate_30m', 'hr_very_active_rate_30m',\n",
       "       'steps_mean_3h', 'steps_var_3h', 'steps_median_3h', 'move_rate_3h',\n",
       "       'active_rate_3h', 'very_active_rate_3h', 'running_rate_3h',\n",
       "       'steps_mean_1h', 'steps_var_1h', 'steps_median_1h', 'move_rate_1h',\n",
       "       'active_rate_1h', 'very_active_rate_1h', 'running_rate_1h',\n",
       "       'steps_mean_30m', 'steps_var_30m', 'steps_median_30m', 'move_rate_30m',\n",
       "       'active_rate_30m', 'very_active_rate_30m', 'running_rate_30m',\n",
       "       'subject', 'la_p', 'ha_p', 'ha_n', 'la_n', 'la', 'p', 'n', 'ha',\n",
       "       'start_survey', 'survey_no', 'survey_date', 'start_survey_30m_ahead',\n",
       "       'start_survey_1h_ahead', 'start_survey_3h_ahead'],\n",
       "      dtype='object')"
      ]
     },
     "execution_count": 70,
     "metadata": {},
     "output_type": "execute_result"
    }
   ],
   "source": [
    "exp_roo_steps_hr.columns"
   ]
  },
  {
   "cell_type": "code",
   "execution_count": 181,
   "metadata": {},
   "outputs": [
    {
     "data": {
      "text/html": [
       "<div>\n",
       "<style scoped>\n",
       "    .dataframe tbody tr th:only-of-type {\n",
       "        vertical-align: middle;\n",
       "    }\n",
       "\n",
       "    .dataframe tbody tr th {\n",
       "        vertical-align: top;\n",
       "    }\n",
       "\n",
       "    .dataframe thead th {\n",
       "        text-align: right;\n",
       "    }\n",
       "</style>\n",
       "<table border=\"1\" class=\"dataframe\">\n",
       "  <thead>\n",
       "    <tr style=\"text-align: right;\">\n",
       "      <th></th>\n",
       "      <th>Date</th>\n",
       "      <th>Minutes Asleep</th>\n",
       "      <th>Minutes Awake</th>\n",
       "      <th>Number of Awakenings</th>\n",
       "      <th>Time in Bed</th>\n",
       "      <th>DATE</th>\n",
       "      <th>ID</th>\n",
       "      <th>Experiment</th>\n",
       "      <th>hr_mean</th>\n",
       "      <th>hr_var</th>\n",
       "      <th>...</th>\n",
       "      <th>la_n</th>\n",
       "      <th>la</th>\n",
       "      <th>p</th>\n",
       "      <th>n</th>\n",
       "      <th>ha</th>\n",
       "      <th>start_survey</th>\n",
       "      <th>survey_no</th>\n",
       "      <th>survey_date</th>\n",
       "      <th>start_survey_30m_ahead</th>\n",
       "      <th>start_survey_3h_ahead</th>\n",
       "    </tr>\n",
       "  </thead>\n",
       "  <tbody>\n",
       "    <tr>\n",
       "      <th>0</th>\n",
       "      <td>2015-07-16</td>\n",
       "      <td>477</td>\n",
       "      <td>20</td>\n",
       "      <td>16</td>\n",
       "      <td>505</td>\n",
       "      <td>0716</td>\n",
       "      <td>1002</td>\n",
       "      <td>R00</td>\n",
       "      <td>67.014184</td>\n",
       "      <td>36.371226</td>\n",
       "      <td>...</td>\n",
       "      <td>2</td>\n",
       "      <td>1</td>\n",
       "      <td>4</td>\n",
       "      <td>0</td>\n",
       "      <td>0</td>\n",
       "      <td>2015-07-16 00:24:25</td>\n",
       "      <td>2</td>\n",
       "      <td>2015-07-16</td>\n",
       "      <td>2015-07-15 23:54:25</td>\n",
       "      <td>2015-07-15 21:24:25</td>\n",
       "    </tr>\n",
       "    <tr>\n",
       "      <th>1</th>\n",
       "      <td>2015-07-16</td>\n",
       "      <td>477</td>\n",
       "      <td>20</td>\n",
       "      <td>16</td>\n",
       "      <td>505</td>\n",
       "      <td>0716</td>\n",
       "      <td>1002</td>\n",
       "      <td>R00</td>\n",
       "      <td>55.404715</td>\n",
       "      <td>92.215592</td>\n",
       "      <td>...</td>\n",
       "      <td>1</td>\n",
       "      <td>4</td>\n",
       "      <td>4</td>\n",
       "      <td>0</td>\n",
       "      <td>0</td>\n",
       "      <td>2015-07-16 10:37:28</td>\n",
       "      <td>3</td>\n",
       "      <td>2015-07-16</td>\n",
       "      <td>2015-07-16 10:07:28</td>\n",
       "      <td>2015-07-16 07:37:28</td>\n",
       "    </tr>\n",
       "    <tr>\n",
       "      <th>2</th>\n",
       "      <td>2015-07-16</td>\n",
       "      <td>477</td>\n",
       "      <td>20</td>\n",
       "      <td>16</td>\n",
       "      <td>505</td>\n",
       "      <td>0716</td>\n",
       "      <td>1002</td>\n",
       "      <td>R00</td>\n",
       "      <td>91.353989</td>\n",
       "      <td>196.070719</td>\n",
       "      <td>...</td>\n",
       "      <td>0</td>\n",
       "      <td>4</td>\n",
       "      <td>4</td>\n",
       "      <td>0</td>\n",
       "      <td>0</td>\n",
       "      <td>2015-07-16 15:33:23</td>\n",
       "      <td>4</td>\n",
       "      <td>2015-07-16</td>\n",
       "      <td>2015-07-16 15:03:23</td>\n",
       "      <td>2015-07-16 12:33:23</td>\n",
       "    </tr>\n",
       "    <tr>\n",
       "      <th>3</th>\n",
       "      <td>2015-07-16</td>\n",
       "      <td>477</td>\n",
       "      <td>20</td>\n",
       "      <td>16</td>\n",
       "      <td>505</td>\n",
       "      <td>0716</td>\n",
       "      <td>1002</td>\n",
       "      <td>R00</td>\n",
       "      <td>99.977011</td>\n",
       "      <td>73.491665</td>\n",
       "      <td>...</td>\n",
       "      <td>1</td>\n",
       "      <td>3</td>\n",
       "      <td>4</td>\n",
       "      <td>0</td>\n",
       "      <td>0</td>\n",
       "      <td>2015-07-16 21:45:35</td>\n",
       "      <td>5</td>\n",
       "      <td>2015-07-16</td>\n",
       "      <td>2015-07-16 21:15:35</td>\n",
       "      <td>2015-07-16 18:45:35</td>\n",
       "    </tr>\n",
       "    <tr>\n",
       "      <th>4</th>\n",
       "      <td>2015-07-17</td>\n",
       "      <td>404</td>\n",
       "      <td>45</td>\n",
       "      <td>17</td>\n",
       "      <td>462</td>\n",
       "      <td>0717</td>\n",
       "      <td>1002</td>\n",
       "      <td>R00</td>\n",
       "      <td>55.383227</td>\n",
       "      <td>38.189857</td>\n",
       "      <td>...</td>\n",
       "      <td>2</td>\n",
       "      <td>1</td>\n",
       "      <td>3</td>\n",
       "      <td>0</td>\n",
       "      <td>0</td>\n",
       "      <td>2015-07-17 10:02:31</td>\n",
       "      <td>6</td>\n",
       "      <td>2015-07-17</td>\n",
       "      <td>2015-07-17 09:32:31</td>\n",
       "      <td>2015-07-17 07:02:31</td>\n",
       "    </tr>\n",
       "    <tr>\n",
       "      <th>...</th>\n",
       "      <td>...</td>\n",
       "      <td>...</td>\n",
       "      <td>...</td>\n",
       "      <td>...</td>\n",
       "      <td>...</td>\n",
       "      <td>...</td>\n",
       "      <td>...</td>\n",
       "      <td>...</td>\n",
       "      <td>...</td>\n",
       "      <td>...</td>\n",
       "      <td>...</td>\n",
       "      <td>...</td>\n",
       "      <td>...</td>\n",
       "      <td>...</td>\n",
       "      <td>...</td>\n",
       "      <td>...</td>\n",
       "      <td>...</td>\n",
       "      <td>...</td>\n",
       "      <td>...</td>\n",
       "      <td>...</td>\n",
       "      <td>...</td>\n",
       "    </tr>\n",
       "    <tr>\n",
       "      <th>1066</th>\n",
       "      <td>2015-07-06</td>\n",
       "      <td>460</td>\n",
       "      <td>17</td>\n",
       "      <td>13</td>\n",
       "      <td>479</td>\n",
       "      <td>0706</td>\n",
       "      <td>1004</td>\n",
       "      <td>R00</td>\n",
       "      <td>69.185902</td>\n",
       "      <td>129.985472</td>\n",
       "      <td>...</td>\n",
       "      <td>1</td>\n",
       "      <td>1</td>\n",
       "      <td>2</td>\n",
       "      <td>0</td>\n",
       "      <td>1</td>\n",
       "      <td>2015-07-06 19:47:37</td>\n",
       "      <td>14</td>\n",
       "      <td>2015-07-06</td>\n",
       "      <td>2015-07-06 19:17:37</td>\n",
       "      <td>2015-07-06 16:47:37</td>\n",
       "    </tr>\n",
       "    <tr>\n",
       "      <th>1067</th>\n",
       "      <td>2015-07-07</td>\n",
       "      <td>440</td>\n",
       "      <td>20</td>\n",
       "      <td>9</td>\n",
       "      <td>474</td>\n",
       "      <td>0707</td>\n",
       "      <td>1004</td>\n",
       "      <td>R00</td>\n",
       "      <td>68.645468</td>\n",
       "      <td>149.915912</td>\n",
       "      <td>...</td>\n",
       "      <td>0</td>\n",
       "      <td>1</td>\n",
       "      <td>1</td>\n",
       "      <td>1</td>\n",
       "      <td>0</td>\n",
       "      <td>2015-07-07 12:41:00</td>\n",
       "      <td>15</td>\n",
       "      <td>2015-07-07</td>\n",
       "      <td>2015-07-07 12:11:00</td>\n",
       "      <td>2015-07-07 09:41:00</td>\n",
       "    </tr>\n",
       "    <tr>\n",
       "      <th>1068</th>\n",
       "      <td>2015-07-08</td>\n",
       "      <td>74</td>\n",
       "      <td>7</td>\n",
       "      <td>4</td>\n",
       "      <td>86</td>\n",
       "      <td>0708</td>\n",
       "      <td>1004</td>\n",
       "      <td>R00</td>\n",
       "      <td>63.573407</td>\n",
       "      <td>205.193633</td>\n",
       "      <td>...</td>\n",
       "      <td>3</td>\n",
       "      <td>1</td>\n",
       "      <td>1</td>\n",
       "      <td>0</td>\n",
       "      <td>1</td>\n",
       "      <td>2015-07-08 09:02:37</td>\n",
       "      <td>16</td>\n",
       "      <td>2015-07-08</td>\n",
       "      <td>2015-07-08 08:32:37</td>\n",
       "      <td>2015-07-08 06:02:37</td>\n",
       "    </tr>\n",
       "    <tr>\n",
       "      <th>1069</th>\n",
       "      <td>2015-07-09</td>\n",
       "      <td>184</td>\n",
       "      <td>5</td>\n",
       "      <td>5</td>\n",
       "      <td>194</td>\n",
       "      <td>0709</td>\n",
       "      <td>1004</td>\n",
       "      <td>R00</td>\n",
       "      <td>43.843504</td>\n",
       "      <td>63.830657</td>\n",
       "      <td>...</td>\n",
       "      <td>2</td>\n",
       "      <td>0</td>\n",
       "      <td>1</td>\n",
       "      <td>1</td>\n",
       "      <td>0</td>\n",
       "      <td>2015-07-09 09:16:06</td>\n",
       "      <td>18</td>\n",
       "      <td>2015-07-09</td>\n",
       "      <td>2015-07-09 08:46:06</td>\n",
       "      <td>2015-07-09 06:16:06</td>\n",
       "    </tr>\n",
       "    <tr>\n",
       "      <th>1070</th>\n",
       "      <td>2015-07-09</td>\n",
       "      <td>184</td>\n",
       "      <td>5</td>\n",
       "      <td>5</td>\n",
       "      <td>194</td>\n",
       "      <td>0709</td>\n",
       "      <td>1004</td>\n",
       "      <td>R00</td>\n",
       "      <td>90.087500</td>\n",
       "      <td>1207.299502</td>\n",
       "      <td>...</td>\n",
       "      <td>1</td>\n",
       "      <td>1</td>\n",
       "      <td>0</td>\n",
       "      <td>3</td>\n",
       "      <td>0</td>\n",
       "      <td>2015-07-09 14:47:53</td>\n",
       "      <td>19</td>\n",
       "      <td>2015-07-09</td>\n",
       "      <td>2015-07-09 14:17:53</td>\n",
       "      <td>2015-07-09 11:47:53</td>\n",
       "    </tr>\n",
       "  </tbody>\n",
       "</table>\n",
       "<p>1071 rows × 35 columns</p>\n",
       "</div>"
      ],
      "text/plain": [
       "           Date  Minutes Asleep  Minutes Awake  Number of Awakenings  \\\n",
       "0    2015-07-16             477             20                    16   \n",
       "1    2015-07-16             477             20                    16   \n",
       "2    2015-07-16             477             20                    16   \n",
       "3    2015-07-16             477             20                    16   \n",
       "4    2015-07-17             404             45                    17   \n",
       "...         ...             ...            ...                   ...   \n",
       "1066 2015-07-06             460             17                    13   \n",
       "1067 2015-07-07             440             20                     9   \n",
       "1068 2015-07-08              74              7                     4   \n",
       "1069 2015-07-09             184              5                     5   \n",
       "1070 2015-07-09             184              5                     5   \n",
       "\n",
       "      Time in Bed  DATE    ID Experiment    hr_mean       hr_var  ...  la_n  \\\n",
       "0             505  0716  1002        R00  67.014184    36.371226  ...     2   \n",
       "1             505  0716  1002        R00  55.404715    92.215592  ...     1   \n",
       "2             505  0716  1002        R00  91.353989   196.070719  ...     0   \n",
       "3             505  0716  1002        R00  99.977011    73.491665  ...     1   \n",
       "4             462  0717  1002        R00  55.383227    38.189857  ...     2   \n",
       "...           ...   ...   ...        ...        ...          ...  ...   ...   \n",
       "1066          479  0706  1004        R00  69.185902   129.985472  ...     1   \n",
       "1067          474  0707  1004        R00  68.645468   149.915912  ...     0   \n",
       "1068           86  0708  1004        R00  63.573407   205.193633  ...     3   \n",
       "1069          194  0709  1004        R00  43.843504    63.830657  ...     2   \n",
       "1070          194  0709  1004        R00  90.087500  1207.299502  ...     1   \n",
       "\n",
       "      la  p  n  ha        start_survey  survey_no  survey_date  \\\n",
       "0      1  4  0   0 2015-07-16 00:24:25          2   2015-07-16   \n",
       "1      4  4  0   0 2015-07-16 10:37:28          3   2015-07-16   \n",
       "2      4  4  0   0 2015-07-16 15:33:23          4   2015-07-16   \n",
       "3      3  4  0   0 2015-07-16 21:45:35          5   2015-07-16   \n",
       "4      1  3  0   0 2015-07-17 10:02:31          6   2015-07-17   \n",
       "...   .. .. ..  ..                 ...        ...          ...   \n",
       "1066   1  2  0   1 2015-07-06 19:47:37         14   2015-07-06   \n",
       "1067   1  1  1   0 2015-07-07 12:41:00         15   2015-07-07   \n",
       "1068   1  1  0   1 2015-07-08 09:02:37         16   2015-07-08   \n",
       "1069   0  1  1   0 2015-07-09 09:16:06         18   2015-07-09   \n",
       "1070   1  0  3   0 2015-07-09 14:47:53         19   2015-07-09   \n",
       "\n",
       "      start_survey_30m_ahead  start_survey_3h_ahead  \n",
       "0        2015-07-15 23:54:25    2015-07-15 21:24:25  \n",
       "1        2015-07-16 10:07:28    2015-07-16 07:37:28  \n",
       "2        2015-07-16 15:03:23    2015-07-16 12:33:23  \n",
       "3        2015-07-16 21:15:35    2015-07-16 18:45:35  \n",
       "4        2015-07-17 09:32:31    2015-07-17 07:02:31  \n",
       "...                      ...                    ...  \n",
       "1066     2015-07-06 19:17:37    2015-07-06 16:47:37  \n",
       "1067     2015-07-07 12:11:00    2015-07-07 09:41:00  \n",
       "1068     2015-07-08 08:32:37    2015-07-08 06:02:37  \n",
       "1069     2015-07-09 08:46:06    2015-07-09 06:16:06  \n",
       "1070     2015-07-09 14:17:53    2015-07-09 11:47:53  \n",
       "\n",
       "[1071 rows x 35 columns]"
      ]
     },
     "execution_count": 181,
     "metadata": {},
     "output_type": "execute_result"
    }
   ],
   "source": [
    "# This is our design matrix\n",
    "exp_roo_steps_hr_sleep"
   ]
  },
  {
   "cell_type": "markdown",
   "metadata": {},
   "source": [
    "### Models\n",
    "\n",
    "(1) Linear Regression\n",
    "\n",
    "linear_model_1 with R-squared 0.031"
   ]
  },
  {
   "cell_type": "code",
   "execution_count": 189,
   "metadata": {},
   "outputs": [],
   "source": [
    "import statsmodels.api as sm"
   ]
  },
  {
   "cell_type": "code",
   "execution_count": 206,
   "metadata": {},
   "outputs": [],
   "source": [
    "exp_roo_steps_sleep['intercept'] = 1"
   ]
  },
  {
   "cell_type": "code",
   "execution_count": 210,
   "metadata": {},
   "outputs": [],
   "source": [
    "linear_model_1 = sm.OLS(exp_roo_steps_sleep['p'], exp_roo_steps_sleep[['intercept','Minutes Asleep','Minutes Awake', 'Number of Awakenings', 'Time in Bed', 'mean', 'var','move_rate', 'active_rate', 'very_active_rate', 'running_rate']]).fit()"
   ]
  },
  {
   "cell_type": "code",
   "execution_count": 212,
   "metadata": {},
   "outputs": [
    {
     "data": {
      "text/html": [
       "<table class=\"simpletable\">\n",
       "<caption>OLS Regression Results</caption>\n",
       "<tr>\n",
       "  <th>Dep. Variable:</th>            <td>p</td>        <th>  R-squared:         </th> <td>   0.031</td>\n",
       "</tr>\n",
       "<tr>\n",
       "  <th>Model:</th>                   <td>OLS</td>       <th>  Adj. R-squared:    </th> <td>   0.022</td>\n",
       "</tr>\n",
       "<tr>\n",
       "  <th>Method:</th>             <td>Least Squares</td>  <th>  F-statistic:       </th> <td>   3.551</td>\n",
       "</tr>\n",
       "<tr>\n",
       "  <th>Date:</th>             <td>Thu, 23 Jan 2020</td> <th>  Prob (F-statistic):</th> <td>0.000121</td>\n",
       "</tr>\n",
       "<tr>\n",
       "  <th>Time:</th>                 <td>18:02:18</td>     <th>  Log-Likelihood:    </th> <td> -1615.4</td>\n",
       "</tr>\n",
       "<tr>\n",
       "  <th>No. Observations:</th>      <td>  1123</td>      <th>  AIC:               </th> <td>   3253.</td>\n",
       "</tr>\n",
       "<tr>\n",
       "  <th>Df Residuals:</th>          <td>  1112</td>      <th>  BIC:               </th> <td>   3308.</td>\n",
       "</tr>\n",
       "<tr>\n",
       "  <th>Df Model:</th>              <td>    10</td>      <th>                     </th>     <td> </td>   \n",
       "</tr>\n",
       "<tr>\n",
       "  <th>Covariance Type:</th>      <td>nonrobust</td>    <th>                     </th>     <td> </td>   \n",
       "</tr>\n",
       "</table>\n",
       "<table class=\"simpletable\">\n",
       "<tr>\n",
       "            <td></td>              <th>coef</th>     <th>std err</th>      <th>t</th>      <th>P>|t|</th>  <th>[0.025</th>    <th>0.975]</th>  \n",
       "</tr>\n",
       "<tr>\n",
       "  <th>intercept</th>            <td>    2.1927</td> <td>    0.076</td> <td>   28.663</td> <td> 0.000</td> <td>    2.043</td> <td>    2.343</td>\n",
       "</tr>\n",
       "<tr>\n",
       "  <th>Minutes Asleep</th>       <td>   -0.0018</td> <td>    0.002</td> <td>   -1.136</td> <td> 0.256</td> <td>   -0.005</td> <td>    0.001</td>\n",
       "</tr>\n",
       "<tr>\n",
       "  <th>Minutes Awake</th>        <td>   -0.0079</td> <td>    0.003</td> <td>   -2.734</td> <td> 0.006</td> <td>   -0.014</td> <td>   -0.002</td>\n",
       "</tr>\n",
       "<tr>\n",
       "  <th>Number of Awakenings</th> <td>   -0.0011</td> <td>    0.006</td> <td>   -0.196</td> <td> 0.845</td> <td>   -0.012</td> <td>    0.010</td>\n",
       "</tr>\n",
       "<tr>\n",
       "  <th>Time in Bed</th>          <td>    0.0020</td> <td>    0.002</td> <td>    1.295</td> <td> 0.196</td> <td>   -0.001</td> <td>    0.005</td>\n",
       "</tr>\n",
       "<tr>\n",
       "  <th>mean</th>                 <td>    0.0198</td> <td>    0.016</td> <td>    1.206</td> <td> 0.228</td> <td>   -0.012</td> <td>    0.052</td>\n",
       "</tr>\n",
       "<tr>\n",
       "  <th>var</th>                  <td>   -0.0004</td> <td>    0.000</td> <td>   -2.722</td> <td> 0.007</td> <td>   -0.001</td> <td>   -0.000</td>\n",
       "</tr>\n",
       "<tr>\n",
       "  <th>move_rate</th>            <td>    0.8405</td> <td>    1.025</td> <td>    0.820</td> <td> 0.412</td> <td>   -1.170</td> <td>    2.851</td>\n",
       "</tr>\n",
       "<tr>\n",
       "  <th>active_rate</th>          <td>   -3.4963</td> <td>    1.983</td> <td>   -1.764</td> <td> 0.078</td> <td>   -7.386</td> <td>    0.394</td>\n",
       "</tr>\n",
       "<tr>\n",
       "  <th>very_active_rate</th>     <td>    2.8212</td> <td>    2.465</td> <td>    1.145</td> <td> 0.253</td> <td>   -2.015</td> <td>    7.657</td>\n",
       "</tr>\n",
       "<tr>\n",
       "  <th>running_rate</th>         <td>    0.6847</td> <td>    2.104</td> <td>    0.325</td> <td> 0.745</td> <td>   -3.444</td> <td>    4.813</td>\n",
       "</tr>\n",
       "</table>\n",
       "<table class=\"simpletable\">\n",
       "<tr>\n",
       "  <th>Omnibus:</th>       <td>16.947</td> <th>  Durbin-Watson:     </th> <td>   1.405</td>\n",
       "</tr>\n",
       "<tr>\n",
       "  <th>Prob(Omnibus):</th> <td> 0.000</td> <th>  Jarque-Bera (JB):  </th> <td>  10.751</td>\n",
       "</tr>\n",
       "<tr>\n",
       "  <th>Skew:</th>          <td>-0.076</td> <th>  Prob(JB):          </th> <td> 0.00463</td>\n",
       "</tr>\n",
       "<tr>\n",
       "  <th>Kurtosis:</th>      <td> 2.545</td> <th>  Cond. No.          </th> <td>7.98e+04</td>\n",
       "</tr>\n",
       "</table><br/><br/>Warnings:<br/>[1] Standard Errors assume that the covariance matrix of the errors is correctly specified.<br/>[2] The condition number is large, 7.98e+04. This might indicate that there are<br/>strong multicollinearity or other numerical problems."
      ],
      "text/plain": [
       "<class 'statsmodels.iolib.summary.Summary'>\n",
       "\"\"\"\n",
       "                            OLS Regression Results                            \n",
       "==============================================================================\n",
       "Dep. Variable:                      p   R-squared:                       0.031\n",
       "Model:                            OLS   Adj. R-squared:                  0.022\n",
       "Method:                 Least Squares   F-statistic:                     3.551\n",
       "Date:                Thu, 23 Jan 2020   Prob (F-statistic):           0.000121\n",
       "Time:                        18:02:18   Log-Likelihood:                -1615.4\n",
       "No. Observations:                1123   AIC:                             3253.\n",
       "Df Residuals:                    1112   BIC:                             3308.\n",
       "Df Model:                          10                                         \n",
       "Covariance Type:            nonrobust                                         \n",
       "========================================================================================\n",
       "                           coef    std err          t      P>|t|      [0.025      0.975]\n",
       "----------------------------------------------------------------------------------------\n",
       "intercept                2.1927      0.076     28.663      0.000       2.043       2.343\n",
       "Minutes Asleep          -0.0018      0.002     -1.136      0.256      -0.005       0.001\n",
       "Minutes Awake           -0.0079      0.003     -2.734      0.006      -0.014      -0.002\n",
       "Number of Awakenings    -0.0011      0.006     -0.196      0.845      -0.012       0.010\n",
       "Time in Bed              0.0020      0.002      1.295      0.196      -0.001       0.005\n",
       "mean                     0.0198      0.016      1.206      0.228      -0.012       0.052\n",
       "var                     -0.0004      0.000     -2.722      0.007      -0.001      -0.000\n",
       "move_rate                0.8405      1.025      0.820      0.412      -1.170       2.851\n",
       "active_rate             -3.4963      1.983     -1.764      0.078      -7.386       0.394\n",
       "very_active_rate         2.8212      2.465      1.145      0.253      -2.015       7.657\n",
       "running_rate             0.6847      2.104      0.325      0.745      -3.444       4.813\n",
       "==============================================================================\n",
       "Omnibus:                       16.947   Durbin-Watson:                   1.405\n",
       "Prob(Omnibus):                  0.000   Jarque-Bera (JB):               10.751\n",
       "Skew:                          -0.076   Prob(JB):                      0.00463\n",
       "Kurtosis:                       2.545   Cond. No.                     7.98e+04\n",
       "==============================================================================\n",
       "\n",
       "Warnings:\n",
       "[1] Standard Errors assume that the covariance matrix of the errors is correctly specified.\n",
       "[2] The condition number is large, 7.98e+04. This might indicate that there are\n",
       "strong multicollinearity or other numerical problems.\n",
       "\"\"\""
      ]
     },
     "execution_count": 212,
     "metadata": {},
     "output_type": "execute_result"
    }
   ],
   "source": [
    "linear_model_1.summary()"
   ]
  },
  {
   "cell_type": "markdown",
   "metadata": {},
   "source": [
    "We can observe that 'Minutes Awake' and 'var' are the best 2 predictors, with p < 0.01. \n",
    "\n",
    "'active_rate' is also relative small compared to other p-values.\n",
    "\n",
    "Let's build a model only use these 3 features."
   ]
  },
  {
   "cell_type": "code",
   "execution_count": 220,
   "metadata": {},
   "outputs": [],
   "source": [
    "linear_model_2 = sm.OLS(exp_roo_steps_sleep['p'], exp_roo_steps_sleep[['intercept','Minutes Awake', 'var', 'active_rate']]).fit()"
   ]
  },
  {
   "cell_type": "code",
   "execution_count": 221,
   "metadata": {},
   "outputs": [
    {
     "data": {
      "text/html": [
       "<table class=\"simpletable\">\n",
       "<caption>OLS Regression Results</caption>\n",
       "<tr>\n",
       "  <th>Dep. Variable:</th>            <td>p</td>        <th>  R-squared:         </th> <td>   0.012</td>\n",
       "</tr>\n",
       "<tr>\n",
       "  <th>Model:</th>                   <td>OLS</td>       <th>  Adj. R-squared:    </th> <td>   0.009</td>\n",
       "</tr>\n",
       "<tr>\n",
       "  <th>Method:</th>             <td>Least Squares</td>  <th>  F-statistic:       </th> <td>   4.384</td>\n",
       "</tr>\n",
       "<tr>\n",
       "  <th>Date:</th>             <td>Thu, 23 Jan 2020</td> <th>  Prob (F-statistic):</th>  <td>0.00446</td>\n",
       "</tr>\n",
       "<tr>\n",
       "  <th>Time:</th>                 <td>18:08:40</td>     <th>  Log-Likelihood:    </th> <td> -1626.5</td>\n",
       "</tr>\n",
       "<tr>\n",
       "  <th>No. Observations:</th>      <td>  1123</td>      <th>  AIC:               </th> <td>   3261.</td>\n",
       "</tr>\n",
       "<tr>\n",
       "  <th>Df Residuals:</th>          <td>  1119</td>      <th>  BIC:               </th> <td>   3281.</td>\n",
       "</tr>\n",
       "<tr>\n",
       "  <th>Df Model:</th>              <td>     3</td>      <th>                     </th>     <td> </td>   \n",
       "</tr>\n",
       "<tr>\n",
       "  <th>Covariance Type:</th>      <td>nonrobust</td>    <th>                     </th>     <td> </td>   \n",
       "</tr>\n",
       "</table>\n",
       "<table class=\"simpletable\">\n",
       "<tr>\n",
       "        <td></td>           <th>coef</th>     <th>std err</th>      <th>t</th>      <th>P>|t|</th>  <th>[0.025</th>    <th>0.975]</th>  \n",
       "</tr>\n",
       "<tr>\n",
       "  <th>intercept</th>     <td>    2.1524</td> <td>    0.058</td> <td>   36.802</td> <td> 0.000</td> <td>    2.038</td> <td>    2.267</td>\n",
       "</tr>\n",
       "<tr>\n",
       "  <th>Minutes Awake</th> <td>   -0.0039</td> <td>    0.002</td> <td>   -2.380</td> <td> 0.017</td> <td>   -0.007</td> <td>   -0.001</td>\n",
       "</tr>\n",
       "<tr>\n",
       "  <th>var</th>           <td>-3.503e-06</td> <td>  7.2e-05</td> <td>   -0.049</td> <td> 0.961</td> <td>   -0.000</td> <td>    0.000</td>\n",
       "</tr>\n",
       "<tr>\n",
       "  <th>active_rate</th>   <td>    0.5146</td> <td>    0.232</td> <td>    2.217</td> <td> 0.027</td> <td>    0.059</td> <td>    0.970</td>\n",
       "</tr>\n",
       "</table>\n",
       "<table class=\"simpletable\">\n",
       "<tr>\n",
       "  <th>Omnibus:</th>       <td>17.763</td> <th>  Durbin-Watson:     </th> <td>   1.367</td>\n",
       "</tr>\n",
       "<tr>\n",
       "  <th>Prob(Omnibus):</th> <td> 0.000</td> <th>  Jarque-Bera (JB):  </th> <td>  10.813</td>\n",
       "</tr>\n",
       "<tr>\n",
       "  <th>Skew:</th>          <td>-0.053</td> <th>  Prob(JB):          </th> <td> 0.00449</td>\n",
       "</tr>\n",
       "<tr>\n",
       "  <th>Kurtosis:</th>      <td> 2.531</td> <th>  Cond. No.          </th> <td>5.11e+03</td>\n",
       "</tr>\n",
       "</table><br/><br/>Warnings:<br/>[1] Standard Errors assume that the covariance matrix of the errors is correctly specified.<br/>[2] The condition number is large, 5.11e+03. This might indicate that there are<br/>strong multicollinearity or other numerical problems."
      ],
      "text/plain": [
       "<class 'statsmodels.iolib.summary.Summary'>\n",
       "\"\"\"\n",
       "                            OLS Regression Results                            \n",
       "==============================================================================\n",
       "Dep. Variable:                      p   R-squared:                       0.012\n",
       "Model:                            OLS   Adj. R-squared:                  0.009\n",
       "Method:                 Least Squares   F-statistic:                     4.384\n",
       "Date:                Thu, 23 Jan 2020   Prob (F-statistic):            0.00446\n",
       "Time:                        18:08:40   Log-Likelihood:                -1626.5\n",
       "No. Observations:                1123   AIC:                             3261.\n",
       "Df Residuals:                    1119   BIC:                             3281.\n",
       "Df Model:                           3                                         \n",
       "Covariance Type:            nonrobust                                         \n",
       "=================================================================================\n",
       "                    coef    std err          t      P>|t|      [0.025      0.975]\n",
       "---------------------------------------------------------------------------------\n",
       "intercept         2.1524      0.058     36.802      0.000       2.038       2.267\n",
       "Minutes Awake    -0.0039      0.002     -2.380      0.017      -0.007      -0.001\n",
       "var           -3.503e-06    7.2e-05     -0.049      0.961      -0.000       0.000\n",
       "active_rate       0.5146      0.232      2.217      0.027       0.059       0.970\n",
       "==============================================================================\n",
       "Omnibus:                       17.763   Durbin-Watson:                   1.367\n",
       "Prob(Omnibus):                  0.000   Jarque-Bera (JB):               10.813\n",
       "Skew:                          -0.053   Prob(JB):                      0.00449\n",
       "Kurtosis:                       2.531   Cond. No.                     5.11e+03\n",
       "==============================================================================\n",
       "\n",
       "Warnings:\n",
       "[1] Standard Errors assume that the covariance matrix of the errors is correctly specified.\n",
       "[2] The condition number is large, 5.11e+03. This might indicate that there are\n",
       "strong multicollinearity or other numerical problems.\n",
       "\"\"\""
      ]
     },
     "execution_count": 221,
     "metadata": {},
     "output_type": "execute_result"
    }
   ],
   "source": [
    "linear_model_2.summary()"
   ]
  },
  {
   "cell_type": "code",
   "execution_count": null,
   "metadata": {},
   "outputs": [],
   "source": []
  }
 ],
 "metadata": {
  "kernelspec": {
   "display_name": "Python 3",
   "language": "python",
   "name": "python3"
  },
  "language_info": {
   "codemirror_mode": {
    "name": "ipython",
    "version": 3
   },
   "file_extension": ".py",
   "mimetype": "text/x-python",
   "name": "python",
   "nbconvert_exporter": "python",
   "pygments_lexer": "ipython3",
   "version": "3.7.4"
  }
 },
 "nbformat": 4,
 "nbformat_minor": 4
}
